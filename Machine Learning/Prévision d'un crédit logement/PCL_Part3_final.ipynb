{
 "cells": [
  {
   "cell_type": "code",
   "execution_count": 2,
   "id": "fa9dbc01",
   "metadata": {},
   "outputs": [],
   "source": [
    "import numpy as np\n",
    "import pandas as pd \n",
    "import matplotlib.pyplot as plt\n",
    "import seaborn as sns\n",
    "\n",
    "from sklearn.impute import KNNImputer\n",
    "\n",
    "import warnings\n",
    "warnings.filterwarnings('ignore')"
   ]
  },
  {
   "cell_type": "code",
   "execution_count": 3,
   "id": "239e3fa7",
   "metadata": {},
   "outputs": [],
   "source": [
    "data_train=pd.read_csv('train.csv')\n",
    "data_test= pd.read_csv('test.csv')\n",
    "df=data_train.copy()\n",
    "df = df.drop('Loan_ID', axis=1)"
   ]
  },
  {
   "cell_type": "code",
   "execution_count": 4,
   "id": "157363a6",
   "metadata": {},
   "outputs": [],
   "source": [
    "from sklearn.model_selection import train_test_split"
   ]
  },
  {
   "cell_type": "code",
   "execution_count": 5,
   "id": "c5489407",
   "metadata": {},
   "outputs": [],
   "source": [
    "trainset , testset = train_test_split(df , test_size=0.2, random_state=6)"
   ]
  },
  {
   "cell_type": "code",
   "execution_count": 6,
   "id": "b140d801",
   "metadata": {},
   "outputs": [],
   "source": [
    "def encodage(df):\n",
    "    code = {'Male':1,\n",
    "        'Female':0,\n",
    "        'No':0,\n",
    "        'Yes':1,\n",
    "        '0':0,\n",
    "        '1':1,\n",
    "        '2':2,\n",
    "        '3+':3,\n",
    "        'Graduate':1,\n",
    "        'Not Graduate':0,\n",
    "        'Rural':0,\n",
    "        'Semiurban':0.5,\n",
    "        'Urban':1,\n",
    "        'Y':1,\n",
    "        'N':0,\n",
    "        }\n",
    "    \n",
    "    for col in df.select_dtypes('object').columns:\n",
    "        df[col] = df[col].map(code)\n",
    "        \n",
    "    return df\n",
    "\n",
    "def outlier_treatment(df):\n",
    "    \n",
    "    df[\"ApplicantIncome\"][df[\"ApplicantIncome\"]>20000]=20000\n",
    "    df[\"CoapplicantIncome\"][df[\"CoapplicantIncome\"]>10000]=10000\n",
    "    index=0\n",
    "    index_loc=[]\n",
    "    for i in df[\"LoanAmount\"]:\n",
    "    \n",
    "        if (i>420):\n",
    "            index_loc.append(index)\n",
    "        index=index+1\n",
    "    df=df.drop(index_loc,0)\n",
    "    return df\n",
    "\n",
    "def imputation(df):\n",
    "    #df.dropna(axis=0)\n",
    "    imputer=KNNImputer(n_neighbors=20)\n",
    "    df_filled=imputer.fit_transform(df[['Gender', 'Married', 'Dependents', 'Education', 'Self_Employed',\n",
    "       'ApplicantIncome', 'CoapplicantIncome', 'LoanAmount',\n",
    "       'Loan_Amount_Term', 'Credit_History', 'Property_Area', 'Loan_Status']])\n",
    "    df=pd.DataFrame(df_filled,columns=['Gender', 'Married', 'Dependents', 'Education', 'Self_Employed',\n",
    "       'ApplicantIncome', 'CoapplicantIncome', 'LoanAmount',\n",
    "       'Loan_Amount_Term', 'Credit_History', 'Property_Area', 'Loan_Status'])\n",
    "    return df\n",
    "\n",
    "def feature_engineering(df):\n",
    "      \n",
    "    df.loc[:,'TotalIncome']=df.loc[:,'CoapplicantIncome']+df.loc[:,'ApplicantIncome']\n",
    "    df.loc[:,\"LoanAmountPerMonth\"]=df.loc[:,\"LoanAmount\"]/df.loc[:,\"Loan_Amount_Term\"]\n",
    "    df.loc[:,\"Balance_Income_Applicant\"] = df.loc[:,\"ApplicantIncome\"]-df.loc[:,\"LoanAmountPerMonth\"]*1000\n",
    "    df.loc[:,\"Balance_Income_Total\"] = df.loc[:,\"TotalIncome\"]-df.loc[:,\"LoanAmountPerMonth\"]*1000\n",
    "    df.loc[:,'ratio_LoanAmountPerMonth_ApplicantIncome']=(df.loc[:,\"LoanAmountPerMonth\"]*1000)/df.loc[:,\"ApplicantIncome\"]\n",
    "   \n",
    "    return df"
   ]
  },
  {
   "cell_type": "code",
   "execution_count": 7,
   "id": "3a9274c6",
   "metadata": {},
   "outputs": [],
   "source": [
    "def preprocessing(df):\n",
    "    \n",
    "    df = encodage(df)\n",
    "    df = imputation(df)\n",
    "    df = outlier_treatment(df)\n",
    "    df = feature_engineering(df)\n",
    "    \n",
    "    X = df.drop('Loan_Status', axis=1)\n",
    "    y = df['Loan_Status']\n",
    "    \n",
    "    print(y.value_counts())\n",
    "    \n",
    "    return X, y"
   ]
  },
  {
   "cell_type": "code",
   "execution_count": 8,
   "id": "eb11ff4e",
   "metadata": {},
   "outputs": [
    {
     "name": "stdout",
     "output_type": "stream",
     "text": [
      "1.0    323\n",
      "0.0    157\n",
      "Name: Loan_Status, dtype: int64\n"
     ]
    }
   ],
   "source": [
    "X_train , y_train = preprocessing(trainset)"
   ]
  },
  {
   "cell_type": "code",
   "execution_count": 9,
   "id": "fcb8adf9",
   "metadata": {},
   "outputs": [
    {
     "name": "stdout",
     "output_type": "stream",
     "text": [
      "1.0    90\n",
      "0.0    31\n",
      "Name: Loan_Status, dtype: int64\n"
     ]
    }
   ],
   "source": [
    "X_test, y_test = preprocessing(testset)"
   ]
  },
  {
   "cell_type": "code",
   "execution_count": 10,
   "id": "faf4915b",
   "metadata": {},
   "outputs": [],
   "source": [
    "from sklearn.tree import DecisionTreeClassifier\n",
    "from sklearn.metrics import f1_score, confusion_matrix, classification_report, recall_score, precision_score\n",
    "from sklearn.model_selection import learning_curve,ShuffleSplit\n",
    "from sklearn.ensemble import RandomForestClassifier, AdaBoostClassifier, BaggingClassifier\n",
    "from sklearn.svm import SVC\n",
    "from sklearn.neighbors import KNeighborsClassifier\n",
    "from sklearn.feature_selection import SelectKBest, f_classif,f_regression,chi2\n",
    "from sklearn.pipeline import make_pipeline\n",
    "from sklearn.preprocessing import PolynomialFeatures,StandardScaler,MinMaxScaler\n",
    "from sklearn.linear_model import LogisticRegression, LinearRegression\n",
    "from sklearn.metrics import accuracy_score"
   ]
  },
  {
   "cell_type": "code",
   "execution_count": 11,
   "id": "624918e1",
   "metadata": {},
   "outputs": [],
   "source": [
    "preprocessor = make_pipeline(MinMaxScaler(), SelectKBest(f_classif, k=8))"
   ]
  },
  {
   "cell_type": "code",
   "execution_count": 12,
   "id": "8428c9ca",
   "metadata": {},
   "outputs": [],
   "source": [
    "RandomForest = make_pipeline(preprocessor, RandomForestClassifier(random_state=0))\n",
    "AdaBoost = make_pipeline(preprocessor, AdaBoostClassifier(n_estimators=100, random_state=0))\n",
    "SVM = make_pipeline(preprocessor, SVC(random_state=0))\n",
    "KNN = make_pipeline(preprocessor, KNeighborsClassifier())\n",
    "Logistic = make_pipeline(preprocessor,LogisticRegression())\n",
    "Bagging=make_pipeline(preprocessor,BaggingClassifier(base_estimator=KNeighborsClassifier(),n_estimators=100))\n",
    "DecisionTree=make_pipeline(preprocessor,DecisionTreeClassifier(random_state=0))\n",
    "LogisticReg = make_pipeline(preprocessor,LogisticRegression())"
   ]
  },
  {
   "cell_type": "code",
   "execution_count": 13,
   "id": "8e9edd90",
   "metadata": {},
   "outputs": [],
   "source": [
    "from sklearn.model_selection import GridSearchCV, RandomizedSearchCV\n"
   ]
  },
  {
   "cell_type": "code",
   "execution_count": 14,
   "id": "56307eb1",
   "metadata": {},
   "outputs": [
    {
     "data": {
      "text/html": [
       "<div>\n",
       "<style scoped>\n",
       "    .dataframe tbody tr th:only-of-type {\n",
       "        vertical-align: middle;\n",
       "    }\n",
       "\n",
       "    .dataframe tbody tr th {\n",
       "        vertical-align: top;\n",
       "    }\n",
       "\n",
       "    .dataframe thead th {\n",
       "        text-align: right;\n",
       "    }\n",
       "</style>\n",
       "<table border=\"1\" class=\"dataframe\">\n",
       "  <thead>\n",
       "    <tr style=\"text-align: right;\">\n",
       "      <th></th>\n",
       "      <th>model</th>\n",
       "      <th>best_score</th>\n",
       "      <th>best_params</th>\n",
       "      <th>best_f1_score</th>\n",
       "      <th>best_recall_score</th>\n",
       "      <th>best_precision_score</th>\n",
       "    </tr>\n",
       "  </thead>\n",
       "  <tbody>\n",
       "    <tr>\n",
       "      <th>0</th>\n",
       "      <td>DecisionTree</td>\n",
       "      <td>0.716667</td>\n",
       "      <td>{'decisiontreeclassifier__criterion': 'gini', ...</td>\n",
       "      <td>0.816568</td>\n",
       "      <td>0.766667</td>\n",
       "      <td>0.873418</td>\n",
       "    </tr>\n",
       "    <tr>\n",
       "      <th>1</th>\n",
       "      <td>SVM</td>\n",
       "      <td>0.781250</td>\n",
       "      <td>{'svc__kernel': 'sigmoid', 'svc__gamma': 'auto...</td>\n",
       "      <td>0.908163</td>\n",
       "      <td>0.988889</td>\n",
       "      <td>0.839623</td>\n",
       "    </tr>\n",
       "    <tr>\n",
       "      <th>2</th>\n",
       "      <td>KNN</td>\n",
       "      <td>0.777083</td>\n",
       "      <td>{'pipeline__selectkbest__k': 5, 'kneighborscla...</td>\n",
       "      <td>0.908163</td>\n",
       "      <td>0.988889</td>\n",
       "      <td>0.839623</td>\n",
       "    </tr>\n",
       "    <tr>\n",
       "      <th>3</th>\n",
       "      <td>LogisticRegression</td>\n",
       "      <td>0.783333</td>\n",
       "      <td>{'logisticregression__penalty': 'l1', 'logisti...</td>\n",
       "      <td>0.908163</td>\n",
       "      <td>0.988889</td>\n",
       "      <td>0.839623</td>\n",
       "    </tr>\n",
       "    <tr>\n",
       "      <th>4</th>\n",
       "      <td>RandomForest</td>\n",
       "      <td>0.779167</td>\n",
       "      <td>{'randomforestclassifier__n_estimators': 250, ...</td>\n",
       "      <td>0.908163</td>\n",
       "      <td>0.988889</td>\n",
       "      <td>0.839623</td>\n",
       "    </tr>\n",
       "    <tr>\n",
       "      <th>5</th>\n",
       "      <td>Bagging</td>\n",
       "      <td>0.783333</td>\n",
       "      <td>{'pipeline__selectkbest__k': 9, 'baggingclassi...</td>\n",
       "      <td>0.908163</td>\n",
       "      <td>0.988889</td>\n",
       "      <td>0.839623</td>\n",
       "    </tr>\n",
       "    <tr>\n",
       "      <th>6</th>\n",
       "      <td>Boosting</td>\n",
       "      <td>0.783333</td>\n",
       "      <td>{'pipeline__selectkbest__k': 4, 'adaboostclass...</td>\n",
       "      <td>0.908163</td>\n",
       "      <td>0.988889</td>\n",
       "      <td>0.839623</td>\n",
       "    </tr>\n",
       "  </tbody>\n",
       "</table>\n",
       "</div>"
      ],
      "text/plain": [
       "                model  best_score  \\\n",
       "0        DecisionTree    0.716667   \n",
       "1                 SVM    0.781250   \n",
       "2                 KNN    0.777083   \n",
       "3  LogisticRegression    0.783333   \n",
       "4        RandomForest    0.779167   \n",
       "5             Bagging    0.783333   \n",
       "6            Boosting    0.783333   \n",
       "\n",
       "                                         best_params  best_f1_score  \\\n",
       "0  {'decisiontreeclassifier__criterion': 'gini', ...       0.816568   \n",
       "1  {'svc__kernel': 'sigmoid', 'svc__gamma': 'auto...       0.908163   \n",
       "2  {'pipeline__selectkbest__k': 5, 'kneighborscla...       0.908163   \n",
       "3  {'logisticregression__penalty': 'l1', 'logisti...       0.908163   \n",
       "4  {'randomforestclassifier__n_estimators': 250, ...       0.908163   \n",
       "5  {'pipeline__selectkbest__k': 9, 'baggingclassi...       0.908163   \n",
       "6  {'pipeline__selectkbest__k': 4, 'adaboostclass...       0.908163   \n",
       "\n",
       "   best_recall_score  best_precision_score  \n",
       "0           0.766667              0.873418  \n",
       "1           0.988889              0.839623  \n",
       "2           0.988889              0.839623  \n",
       "3           0.988889              0.839623  \n",
       "4           0.988889              0.839623  \n",
       "5           0.988889              0.839623  \n",
       "6           0.988889              0.839623  "
      ]
     },
     "execution_count": 14,
     "metadata": {},
     "output_type": "execute_result"
    }
   ],
   "source": [
    "def find_best_model_using_gridsearchcv(X,y):\n",
    "    \n",
    "    algos = {\n",
    "        'DecisionTree': {\n",
    "            'model': DecisionTree,\n",
    "            'params': {\n",
    "                'decisiontreeclassifier__criterion' : ['gini', 'entropy'],\n",
    "                'decisiontreeclassifier__splitter': ['best','random'],\n",
    "                'pipeline__selectkbest__k': range(4, 15)\n",
    "            },\n",
    "            'Gridsearchcv' : True\n",
    "        },\n",
    "         'SVM': {\n",
    "            'model': SVM,\n",
    "            'params': {\n",
    "                'svc__gamma':['scale', 'auto', 0.0005],\n",
    "                'svc__C':[1, 10],\n",
    "                'svc__kernel' : ['linear', 'poly', 'rbf', 'sigmoid', 'precomputed'],\n",
    "                'svc__degree':[1, 2,],\n",
    "                'pipeline__selectkbest__k': range(4, 15)\n",
    "            },\n",
    "            'Gridsearchcv' : False\n",
    "        },\n",
    "        'KNN': {\n",
    "            'model': KNN,\n",
    "            'params': { \n",
    "              'kneighborsclassifier__n_neighbors': np.arange(1,20),\n",
    "              'kneighborsclassifier__weights':['uniform', 'distance'],\n",
    "              'kneighborsclassifier__algorithm' : ['auto', 'ball_tree', 'kd_tree', 'brute'],\n",
    "              'kneighborsclassifier__metric': ['euclidean','manhattan','minkowski'],\n",
    "              'pipeline__selectkbest__k': range(4, 15)\n",
    "            },\n",
    "            'Gridsearchcv' : False  \n",
    "        },\n",
    "        \n",
    "        'LogisticRegression' : {\n",
    "            'model': LogisticReg,\n",
    "            'params': {\n",
    "                'logisticregression__penalty':['l1', 'l2', 'elasticnet', 'none'],\n",
    "                'logisticregression__solver': ['newton-cg', 'lbfgs', 'liblinear', 'sag', 'saga'],\n",
    "                'pipeline__selectkbest__k': range(4, 15)\n",
    "            },\n",
    "            'Gridsearchcv' : True\n",
    "        },        \n",
    "\n",
    "         'RandomForest': {\n",
    "            'model': RandomForest,\n",
    "            'params': {\n",
    "            'randomforestclassifier__max_depth':[i for i in range(2,11,2)],\n",
    "              'randomforestclassifier__min_samples_leaf':[5,7,10],\n",
    "              'randomforestclassifier__n_estimators':[10,50,250],\n",
    "             'pipeline__selectkbest__k': range(4, 15)\n",
    "                      },\n",
    "            'Gridsearchcv' : False\n",
    "             },\n",
    "             \n",
    "       'Bagging' : {\n",
    "            'model': Bagging,\n",
    "            'params': {\n",
    "                'baggingclassifier__base_estimator': [DecisionTreeClassifier(),\n",
    "                                                [KNeighborsClassifier(n_neighbors=i) for i in range(2,20,2)],\n",
    "                                                      SVC(random_state=0),LogisticRegression()],\n",
    "            \n",
    "                'pipeline__selectkbest__k': range(4, 15)\n",
    "                      },\n",
    "            'Gridsearchcv' : False\n",
    "        },\n",
    "        'Boosting' : {\n",
    "            'model': AdaBoost,\n",
    "            'params': {\n",
    "                'adaboostclassifier__base_estimator': [DecisionTreeClassifier(),\n",
    "                                                [KNeighborsClassifier(n_neighbors=i) for i in range(2,20,2)],\n",
    "                                                      SVC(random_state=0),LogisticRegression()],\n",
    "            \n",
    "                'pipeline__selectkbest__k': range(4, 15)\n",
    "                      },\n",
    "            'Gridsearchcv' : False                \n",
    "        }\n",
    "    }\n",
    "    scores = []\n",
    "    best_model = []\n",
    "    cv = ShuffleSplit(n_splits=5, test_size=0.2, random_state=0)\n",
    "    for algo_name, config in algos.items():\n",
    "        if config['Gridsearchcv']==1:\n",
    "            gs =  GridSearchCV(config['model'], config['params'], cv=cv, return_train_score=False)\n",
    "            gs.fit(X,y)\n",
    "        else:\n",
    "            gs =  RandomizedSearchCV(config['model'], config['params'], cv=cv,n_iter=40, return_train_score=False)\n",
    "            gs.fit(X,y)\n",
    "            \n",
    "        y_pred=gs.best_estimator_.predict(X_test)\n",
    "        f1=f1_score(y_test, y_pred)\n",
    "        recall = recall_score(y_test, y_pred)\n",
    "        precission = precision_score(y_test, y_pred)\n",
    "        scores.append({\n",
    "            'model': algo_name,\n",
    "            'best_score': gs.best_score_,\n",
    "            'best_params': gs.best_params_,\n",
    "            'best_f1_score': f1,\n",
    "            'best_recall_score': recall,\n",
    "            'best_precision_score': precission,    \n",
    "        })\n",
    "        \n",
    "        best_model.append(gs.best_estimator_)\n",
    "\n",
    "    return (pd.DataFrame(scores,columns=['model','best_score','best_params','best_f1_score',\n",
    "            'best_recall_score','best_precision_score']) , best_model)\n",
    "\n",
    "tableau , best_model = find_best_model_using_gridsearchcv(X_train,y_train)\n",
    "tableau"
   ]
  },
  {
   "cell_type": "markdown",
   "id": "324b1de2",
   "metadata": {},
   "source": [
    "## Staking"
   ]
  },
  {
   "cell_type": "code",
   "execution_count": 15,
   "id": "e5cb41fe",
   "metadata": {},
   "outputs": [],
   "source": [
    "from sklearn.ensemble import StackingClassifier"
   ]
  },
  {
   "cell_type": "code",
   "execution_count": 16,
   "id": "c302da3b",
   "metadata": {},
   "outputs": [],
   "source": [
    "Stacking = StackingClassifier([(f'model{i+1}',best_model[i]) for i in range(0,tableau.shape[0])],\n",
    "                              final_estimator=LogisticRegression())"
   ]
  },
  {
   "cell_type": "code",
   "execution_count": 41,
   "id": "7a6763cd",
   "metadata": {},
   "outputs": [
    {
     "data": {
      "text/plain": [
       "0.80625"
      ]
     },
     "execution_count": 41,
     "metadata": {},
     "output_type": "execute_result"
    }
   ],
   "source": [
    "Stacking.fit(X_train,y_train)\n",
    "Stacking.score(X_train,y_train)"
   ]
  },
  {
   "cell_type": "code",
   "execution_count": 42,
   "id": "ed3bc812",
   "metadata": {},
   "outputs": [
    {
     "data": {
      "text/plain": [
       "0.8512396694214877"
      ]
     },
     "execution_count": 42,
     "metadata": {},
     "output_type": "execute_result"
    }
   ],
   "source": [
    "Stacking.score(X_test,y_test)"
   ]
  }
 ],
 "metadata": {
  "kernelspec": {
   "display_name": "Python 3 (ipykernel)",
   "language": "python",
   "name": "python3"
  },
  "language_info": {
   "codemirror_mode": {
    "name": "ipython",
    "version": 3
   },
   "file_extension": ".py",
   "mimetype": "text/x-python",
   "name": "python",
   "nbconvert_exporter": "python",
   "pygments_lexer": "ipython3",
   "version": "3.9.7"
  }
 },
 "nbformat": 4,
 "nbformat_minor": 5
}
