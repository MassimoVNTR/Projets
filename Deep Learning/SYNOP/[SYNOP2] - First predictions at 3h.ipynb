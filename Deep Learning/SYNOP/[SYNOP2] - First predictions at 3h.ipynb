{
 "cells": [
  {
   "cell_type": "markdown",
   "id": "8be384a5",
   "metadata": {},
   "source": [
    "# <!-- TITLE --> [SYNOP2] - First predictions at 3h\n",
    "<!-- DESC --> Episode 2 : RNN training session for weather prediction attempt at 3h\n",
    "<!-- AUTHOR : Jean-Luc Parouty (CNRS/SIMaP) -->\n",
    "\n",
    "## Objectives :\n",
    " - Make a simple prediction (3h)\n",
    " - Understanding the use of a recurrent neural network\n",
    "\n",
    "\n",
    "SYNOP meteorological data, available at: https://public.opendatasoft.com\n",
    "\n",
    "## What we're going to do :\n",
    "\n",
    " - Read our dataset\n",
    " - Select our data and normalize it\n",
    " - Doing our training\n",
    " - Making simple predictions\n",
    "\n",
    "## Step 1 - Import and init\n",
    "### 1.1 - Python"
   ]
  },
  {
   "cell_type": "code",
   "execution_count": 1,
   "id": "f40f3946",
   "metadata": {},
   "outputs": [],
   "source": [
    "import tensorflow as tf\n",
    "from tensorflow import keras\n",
    "from tensorflow.keras.callbacks import TensorBoard\n",
    "from tensorflow.keras.preprocessing.sequence import TimeseriesGenerator\n",
    "\n",
    "import numpy as np\n",
    "import math, random\n",
    "import matplotlib.pyplot as plt\n",
    "\n",
    "import pandas as pd\n",
    "import h5py, json\n",
    "import os,time,sys\n",
    "\n",
    "from importlib import reload\n",
    "\n",
    "run_dir = './run/SYNOP'\n",
    "datasets_dir = 'fidle-datasets'"
   ]
  },
  {
   "cell_type": "code",
   "execution_count": 2,
   "id": "0d8e8ef0",
   "metadata": {},
   "outputs": [],
   "source": [
    "from IPython.display import Markdown\n",
    "def subtitle(t):\n",
    "    display(Markdown(f'<br>**{t}**'))"
   ]
  },
  {
   "cell_type": "markdown",
   "id": "58fdabbc",
   "metadata": {},
   "source": [
    "### 1.2 - Parameters"
   ]
  },
  {
   "cell_type": "code",
   "execution_count": 3,
   "id": "66ee6da9",
   "metadata": {},
   "outputs": [],
   "source": [
    "# ---- About dataset (no need to change)\n",
    "#\n",
    "dataset_dir      = './data'                  # Enhanced dataset is very small, so ./data in a good choice :-)\n",
    "dataset_filename = 'synop-LYS.csv'\n",
    "schema_filename  = 'synop.json'\n",
    "features         = ['tend', 'cod_tend', 'dd', 'ff', 'td', 'u', 'ww', 'pres', 'rafper', 'rr1', 'rr3', 'tc']\n",
    "features_len     = len(features)\n",
    "\n",
    "# ---- About training (Can be changed !)\n",
    "#\n",
    "scale            = 1        # Percentage of dataset to be used (1=all)\n",
    "train_prop       = .8       # Percentage for train (the rest being for the test)\n",
    "sequence_len     = 16\n",
    "batch_size       = 32\n",
    "epochs           = 10\n",
    "fit_verbosity    = 1        # 0 = silent, 1 = progress bar, 2 = one line per epoch"
   ]
  },
  {
   "cell_type": "markdown",
   "id": "9faa806c",
   "metadata": {},
   "source": [
    "## Step 2 - Read and prepare dataset\n",
    "### 2.1 - Read it"
   ]
  },
  {
   "cell_type": "code",
   "execution_count": 4,
   "id": "24a9f63e",
   "metadata": {},
   "outputs": [
    {
     "data": {
      "text/markdown": [
       "<br>**Train dataset example :**"
      ],
      "text/plain": [
       "<IPython.core.display.Markdown object>"
      ]
     },
     "metadata": {},
     "output_type": "display_data"
    },
    {
     "data": {
      "text/html": [
       "<div>\n",
       "<style scoped>\n",
       "    .dataframe tbody tr th:only-of-type {\n",
       "        vertical-align: middle;\n",
       "    }\n",
       "\n",
       "    .dataframe tbody tr th {\n",
       "        vertical-align: top;\n",
       "    }\n",
       "\n",
       "    .dataframe thead th {\n",
       "        text-align: right;\n",
       "    }\n",
       "</style>\n",
       "<table border=\"1\" class=\"dataframe\">\n",
       "  <thead>\n",
       "    <tr style=\"text-align: right;\">\n",
       "      <th></th>\n",
       "      <th>tend</th>\n",
       "      <th>cod_tend</th>\n",
       "      <th>dd</th>\n",
       "      <th>ff</th>\n",
       "      <th>td</th>\n",
       "      <th>u</th>\n",
       "      <th>ww</th>\n",
       "      <th>pres</th>\n",
       "      <th>rafper</th>\n",
       "      <th>rr1</th>\n",
       "      <th>rr3</th>\n",
       "      <th>tc</th>\n",
       "    </tr>\n",
       "  </thead>\n",
       "  <tbody>\n",
       "    <tr>\n",
       "      <th>0</th>\n",
       "      <td>-120.0</td>\n",
       "      <td>6.0</td>\n",
       "      <td>0.0</td>\n",
       "      <td>0.0</td>\n",
       "      <td>278.75</td>\n",
       "      <td>88.0</td>\n",
       "      <td>60.0</td>\n",
       "      <td>96250.0</td>\n",
       "      <td>4.1</td>\n",
       "      <td>0.0</td>\n",
       "      <td>0.0</td>\n",
       "      <td>7.5</td>\n",
       "    </tr>\n",
       "    <tr>\n",
       "      <th>1</th>\n",
       "      <td>-150.0</td>\n",
       "      <td>6.0</td>\n",
       "      <td>60.0</td>\n",
       "      <td>1.0</td>\n",
       "      <td>278.65</td>\n",
       "      <td>93.0</td>\n",
       "      <td>61.0</td>\n",
       "      <td>96100.0</td>\n",
       "      <td>2.6</td>\n",
       "      <td>0.2</td>\n",
       "      <td>0.6</td>\n",
       "      <td>6.6</td>\n",
       "    </tr>\n",
       "    <tr>\n",
       "      <th>2</th>\n",
       "      <td>10.0</td>\n",
       "      <td>3.0</td>\n",
       "      <td>280.0</td>\n",
       "      <td>2.1</td>\n",
       "      <td>278.85</td>\n",
       "      <td>95.0</td>\n",
       "      <td>58.0</td>\n",
       "      <td>96110.0</td>\n",
       "      <td>2.6</td>\n",
       "      <td>0.0</td>\n",
       "      <td>0.4</td>\n",
       "      <td>6.4</td>\n",
       "    </tr>\n",
       "    <tr>\n",
       "      <th>3</th>\n",
       "      <td>230.0</td>\n",
       "      <td>3.0</td>\n",
       "      <td>310.0</td>\n",
       "      <td>2.6</td>\n",
       "      <td>279.15</td>\n",
       "      <td>96.0</td>\n",
       "      <td>50.0</td>\n",
       "      <td>96340.0</td>\n",
       "      <td>5.7</td>\n",
       "      <td>0.0</td>\n",
       "      <td>3.0</td>\n",
       "      <td>6.6</td>\n",
       "    </tr>\n",
       "    <tr>\n",
       "      <th>4</th>\n",
       "      <td>280.0</td>\n",
       "      <td>1.0</td>\n",
       "      <td>330.0</td>\n",
       "      <td>4.6</td>\n",
       "      <td>278.15</td>\n",
       "      <td>94.0</td>\n",
       "      <td>21.0</td>\n",
       "      <td>96620.0</td>\n",
       "      <td>8.7</td>\n",
       "      <td>0.4</td>\n",
       "      <td>0.8</td>\n",
       "      <td>5.9</td>\n",
       "    </tr>\n",
       "    <tr>\n",
       "      <th>5</th>\n",
       "      <td>480.0</td>\n",
       "      <td>3.0</td>\n",
       "      <td>350.0</td>\n",
       "      <td>5.1</td>\n",
       "      <td>276.95</td>\n",
       "      <td>91.0</td>\n",
       "      <td>60.0</td>\n",
       "      <td>97100.0</td>\n",
       "      <td>8.2</td>\n",
       "      <td>0.2</td>\n",
       "      <td>0.4</td>\n",
       "      <td>5.2</td>\n",
       "    </tr>\n",
       "    <tr>\n",
       "      <th>6</th>\n",
       "      <td>530.0</td>\n",
       "      <td>2.0</td>\n",
       "      <td>350.0</td>\n",
       "      <td>3.1</td>\n",
       "      <td>274.05</td>\n",
       "      <td>83.0</td>\n",
       "      <td>21.0</td>\n",
       "      <td>97630.0</td>\n",
       "      <td>7.2</td>\n",
       "      <td>0.0</td>\n",
       "      <td>0.0</td>\n",
       "      <td>3.5</td>\n",
       "    </tr>\n",
       "    <tr>\n",
       "      <th>7</th>\n",
       "      <td>450.0</td>\n",
       "      <td>2.0</td>\n",
       "      <td>340.0</td>\n",
       "      <td>6.2</td>\n",
       "      <td>272.15</td>\n",
       "      <td>81.0</td>\n",
       "      <td>2.0</td>\n",
       "      <td>98080.0</td>\n",
       "      <td>9.3</td>\n",
       "      <td>0.0</td>\n",
       "      <td>0.0</td>\n",
       "      <td>1.9</td>\n",
       "    </tr>\n",
       "    <tr>\n",
       "      <th>8</th>\n",
       "      <td>280.0</td>\n",
       "      <td>1.0</td>\n",
       "      <td>320.0</td>\n",
       "      <td>6.2</td>\n",
       "      <td>270.15</td>\n",
       "      <td>74.0</td>\n",
       "      <td>2.0</td>\n",
       "      <td>98360.0</td>\n",
       "      <td>10.3</td>\n",
       "      <td>0.0</td>\n",
       "      <td>0.0</td>\n",
       "      <td>1.1</td>\n",
       "    </tr>\n",
       "    <tr>\n",
       "      <th>9</th>\n",
       "      <td>220.0</td>\n",
       "      <td>1.0</td>\n",
       "      <td>290.0</td>\n",
       "      <td>2.6</td>\n",
       "      <td>269.65</td>\n",
       "      <td>72.0</td>\n",
       "      <td>2.0</td>\n",
       "      <td>98580.0</td>\n",
       "      <td>5.1</td>\n",
       "      <td>0.0</td>\n",
       "      <td>0.0</td>\n",
       "      <td>1.0</td>\n",
       "    </tr>\n",
       "    <tr>\n",
       "      <th>10</th>\n",
       "      <td>100.0</td>\n",
       "      <td>1.0</td>\n",
       "      <td>350.0</td>\n",
       "      <td>3.1</td>\n",
       "      <td>270.45</td>\n",
       "      <td>79.0</td>\n",
       "      <td>2.0</td>\n",
       "      <td>98680.0</td>\n",
       "      <td>4.1</td>\n",
       "      <td>0.0</td>\n",
       "      <td>0.0</td>\n",
       "      <td>0.5</td>\n",
       "    </tr>\n",
       "    <tr>\n",
       "      <th>11</th>\n",
       "      <td>300.0</td>\n",
       "      <td>3.0</td>\n",
       "      <td>350.0</td>\n",
       "      <td>5.1</td>\n",
       "      <td>268.55</td>\n",
       "      <td>70.0</td>\n",
       "      <td>2.0</td>\n",
       "      <td>98980.0</td>\n",
       "      <td>6.7</td>\n",
       "      <td>0.0</td>\n",
       "      <td>0.0</td>\n",
       "      <td>-0.3</td>\n",
       "    </tr>\n",
       "    <tr>\n",
       "      <th>12</th>\n",
       "      <td>130.0</td>\n",
       "      <td>1.0</td>\n",
       "      <td>10.0</td>\n",
       "      <td>4.6</td>\n",
       "      <td>267.45</td>\n",
       "      <td>60.0</td>\n",
       "      <td>2.0</td>\n",
       "      <td>99110.0</td>\n",
       "      <td>7.7</td>\n",
       "      <td>0.0</td>\n",
       "      <td>0.0</td>\n",
       "      <td>1.2</td>\n",
       "    </tr>\n",
       "    <tr>\n",
       "      <th>13</th>\n",
       "      <td>150.0</td>\n",
       "      <td>3.0</td>\n",
       "      <td>10.0</td>\n",
       "      <td>5.7</td>\n",
       "      <td>267.45</td>\n",
       "      <td>59.0</td>\n",
       "      <td>2.0</td>\n",
       "      <td>99260.0</td>\n",
       "      <td>8.7</td>\n",
       "      <td>0.0</td>\n",
       "      <td>0.0</td>\n",
       "      <td>1.5</td>\n",
       "    </tr>\n",
       "    <tr>\n",
       "      <th>14</th>\n",
       "      <td>140.0</td>\n",
       "      <td>1.0</td>\n",
       "      <td>50.0</td>\n",
       "      <td>2.6</td>\n",
       "      <td>268.15</td>\n",
       "      <td>70.0</td>\n",
       "      <td>2.0</td>\n",
       "      <td>99400.0</td>\n",
       "      <td>5.7</td>\n",
       "      <td>0.0</td>\n",
       "      <td>0.0</td>\n",
       "      <td>-0.8</td>\n",
       "    </tr>\n",
       "  </tbody>\n",
       "</table>\n",
       "</div>"
      ],
      "text/plain": [
       "     tend  cod_tend     dd   ff      td     u    ww     pres  rafper  rr1  \\\n",
       "0  -120.0       6.0    0.0  0.0  278.75  88.0  60.0  96250.0     4.1  0.0   \n",
       "1  -150.0       6.0   60.0  1.0  278.65  93.0  61.0  96100.0     2.6  0.2   \n",
       "2    10.0       3.0  280.0  2.1  278.85  95.0  58.0  96110.0     2.6  0.0   \n",
       "3   230.0       3.0  310.0  2.6  279.15  96.0  50.0  96340.0     5.7  0.0   \n",
       "4   280.0       1.0  330.0  4.6  278.15  94.0  21.0  96620.0     8.7  0.4   \n",
       "5   480.0       3.0  350.0  5.1  276.95  91.0  60.0  97100.0     8.2  0.2   \n",
       "6   530.0       2.0  350.0  3.1  274.05  83.0  21.0  97630.0     7.2  0.0   \n",
       "7   450.0       2.0  340.0  6.2  272.15  81.0   2.0  98080.0     9.3  0.0   \n",
       "8   280.0       1.0  320.0  6.2  270.15  74.0   2.0  98360.0    10.3  0.0   \n",
       "9   220.0       1.0  290.0  2.6  269.65  72.0   2.0  98580.0     5.1  0.0   \n",
       "10  100.0       1.0  350.0  3.1  270.45  79.0   2.0  98680.0     4.1  0.0   \n",
       "11  300.0       3.0  350.0  5.1  268.55  70.0   2.0  98980.0     6.7  0.0   \n",
       "12  130.0       1.0   10.0  4.6  267.45  60.0   2.0  99110.0     7.7  0.0   \n",
       "13  150.0       3.0   10.0  5.7  267.45  59.0   2.0  99260.0     8.7  0.0   \n",
       "14  140.0       1.0   50.0  2.6  268.15  70.0   2.0  99400.0     5.7  0.0   \n",
       "\n",
       "    rr3   tc  \n",
       "0   0.0  7.5  \n",
       "1   0.6  6.6  \n",
       "2   0.4  6.4  \n",
       "3   3.0  6.6  \n",
       "4   0.8  5.9  \n",
       "5   0.4  5.2  \n",
       "6   0.0  3.5  \n",
       "7   0.0  1.9  \n",
       "8   0.0  1.1  \n",
       "9   0.0  1.0  \n",
       "10  0.0  0.5  \n",
       "11  0.0 -0.3  \n",
       "12  0.0  1.2  \n",
       "13  0.0  1.5  \n",
       "14  0.0 -0.8  "
      ]
     },
     "metadata": {},
     "output_type": "display_data"
    },
    {
     "data": {
      "text/markdown": [
       "<br>**After normalization :**"
      ],
      "text/plain": [
       "<IPython.core.display.Markdown object>"
      ]
     },
     "metadata": {},
     "output_type": "display_data"
    },
    {
     "data": {
      "text/html": [
       "<style type=\"text/css\">\n",
       "</style>\n",
       "<table id=\"T_b8a58_\">\n",
       "  <thead>\n",
       "    <tr>\n",
       "      <th class=\"blank level0\" >&nbsp;</th>\n",
       "      <th class=\"col_heading level0 col0\" >tend</th>\n",
       "      <th class=\"col_heading level0 col1\" >cod_tend</th>\n",
       "      <th class=\"col_heading level0 col2\" >dd</th>\n",
       "      <th class=\"col_heading level0 col3\" >ff</th>\n",
       "      <th class=\"col_heading level0 col4\" >td</th>\n",
       "      <th class=\"col_heading level0 col5\" >u</th>\n",
       "      <th class=\"col_heading level0 col6\" >ww</th>\n",
       "      <th class=\"col_heading level0 col7\" >pres</th>\n",
       "      <th class=\"col_heading level0 col8\" >rafper</th>\n",
       "      <th class=\"col_heading level0 col9\" >rr1</th>\n",
       "      <th class=\"col_heading level0 col10\" >rr3</th>\n",
       "      <th class=\"col_heading level0 col11\" >tc</th>\n",
       "    </tr>\n",
       "  </thead>\n",
       "  <tbody>\n",
       "    <tr>\n",
       "      <th id=\"T_b8a58_level0_row0\" class=\"row_heading level0 row0\" >count</th>\n",
       "      <td id=\"T_b8a58_row0_col0\" class=\"data row0 col0\" >23332.00</td>\n",
       "      <td id=\"T_b8a58_row0_col1\" class=\"data row0 col1\" >23332.00</td>\n",
       "      <td id=\"T_b8a58_row0_col2\" class=\"data row0 col2\" >23332.00</td>\n",
       "      <td id=\"T_b8a58_row0_col3\" class=\"data row0 col3\" >23332.00</td>\n",
       "      <td id=\"T_b8a58_row0_col4\" class=\"data row0 col4\" >23332.00</td>\n",
       "      <td id=\"T_b8a58_row0_col5\" class=\"data row0 col5\" >23332.00</td>\n",
       "      <td id=\"T_b8a58_row0_col6\" class=\"data row0 col6\" >23332.00</td>\n",
       "      <td id=\"T_b8a58_row0_col7\" class=\"data row0 col7\" >23332.00</td>\n",
       "      <td id=\"T_b8a58_row0_col8\" class=\"data row0 col8\" >23332.00</td>\n",
       "      <td id=\"T_b8a58_row0_col9\" class=\"data row0 col9\" >23332.00</td>\n",
       "      <td id=\"T_b8a58_row0_col10\" class=\"data row0 col10\" >23332.00</td>\n",
       "      <td id=\"T_b8a58_row0_col11\" class=\"data row0 col11\" >23332.00</td>\n",
       "    </tr>\n",
       "    <tr>\n",
       "      <th id=\"T_b8a58_level0_row1\" class=\"row_heading level0 row1\" >mean</th>\n",
       "      <td id=\"T_b8a58_row1_col0\" class=\"data row1 col0\" >0.00</td>\n",
       "      <td id=\"T_b8a58_row1_col1\" class=\"data row1 col1\" >-0.00</td>\n",
       "      <td id=\"T_b8a58_row1_col2\" class=\"data row1 col2\" >0.00</td>\n",
       "      <td id=\"T_b8a58_row1_col3\" class=\"data row1 col3\" >0.00</td>\n",
       "      <td id=\"T_b8a58_row1_col4\" class=\"data row1 col4\" >0.00</td>\n",
       "      <td id=\"T_b8a58_row1_col5\" class=\"data row1 col5\" >0.00</td>\n",
       "      <td id=\"T_b8a58_row1_col6\" class=\"data row1 col6\" >-0.00</td>\n",
       "      <td id=\"T_b8a58_row1_col7\" class=\"data row1 col7\" >-0.00</td>\n",
       "      <td id=\"T_b8a58_row1_col8\" class=\"data row1 col8\" >-0.00</td>\n",
       "      <td id=\"T_b8a58_row1_col9\" class=\"data row1 col9\" >-0.00</td>\n",
       "      <td id=\"T_b8a58_row1_col10\" class=\"data row1 col10\" >0.00</td>\n",
       "      <td id=\"T_b8a58_row1_col11\" class=\"data row1 col11\" >-0.00</td>\n",
       "    </tr>\n",
       "    <tr>\n",
       "      <th id=\"T_b8a58_level0_row2\" class=\"row_heading level0 row2\" >std</th>\n",
       "      <td id=\"T_b8a58_row2_col0\" class=\"data row2 col0\" >1.00</td>\n",
       "      <td id=\"T_b8a58_row2_col1\" class=\"data row2 col1\" >1.00</td>\n",
       "      <td id=\"T_b8a58_row2_col2\" class=\"data row2 col2\" >1.00</td>\n",
       "      <td id=\"T_b8a58_row2_col3\" class=\"data row2 col3\" >1.00</td>\n",
       "      <td id=\"T_b8a58_row2_col4\" class=\"data row2 col4\" >1.00</td>\n",
       "      <td id=\"T_b8a58_row2_col5\" class=\"data row2 col5\" >1.00</td>\n",
       "      <td id=\"T_b8a58_row2_col6\" class=\"data row2 col6\" >1.00</td>\n",
       "      <td id=\"T_b8a58_row2_col7\" class=\"data row2 col7\" >1.00</td>\n",
       "      <td id=\"T_b8a58_row2_col8\" class=\"data row2 col8\" >1.00</td>\n",
       "      <td id=\"T_b8a58_row2_col9\" class=\"data row2 col9\" >1.00</td>\n",
       "      <td id=\"T_b8a58_row2_col10\" class=\"data row2 col10\" >1.00</td>\n",
       "      <td id=\"T_b8a58_row2_col11\" class=\"data row2 col11\" >1.00</td>\n",
       "    </tr>\n",
       "    <tr>\n",
       "      <th id=\"T_b8a58_level0_row3\" class=\"row_heading level0 row3\" >min</th>\n",
       "      <td id=\"T_b8a58_row3_col0\" class=\"data row3 col0\" >-6.79</td>\n",
       "      <td id=\"T_b8a58_row3_col1\" class=\"data row3 col1\" >-1.59</td>\n",
       "      <td id=\"T_b8a58_row3_col2\" class=\"data row3 col2\" >-1.74</td>\n",
       "      <td id=\"T_b8a58_row3_col3\" class=\"data row3 col3\" >-1.36</td>\n",
       "      <td id=\"T_b8a58_row3_col4\" class=\"data row3 col4\" >-5.22</td>\n",
       "      <td id=\"T_b8a58_row3_col5\" class=\"data row3 col5\" >-3.85</td>\n",
       "      <td id=\"T_b8a58_row3_col6\" class=\"data row3 col6\" >-0.53</td>\n",
       "      <td id=\"T_b8a58_row3_col7\" class=\"data row3 col7\" >-4.97</td>\n",
       "      <td id=\"T_b8a58_row3_col8\" class=\"data row3 col8\" >-1.62</td>\n",
       "      <td id=\"T_b8a58_row3_col9\" class=\"data row3 col9\" >-0.32</td>\n",
       "      <td id=\"T_b8a58_row3_col10\" class=\"data row3 col10\" >-0.27</td>\n",
       "      <td id=\"T_b8a58_row3_col11\" class=\"data row3 col11\" >-3.04</td>\n",
       "    </tr>\n",
       "    <tr>\n",
       "      <th id=\"T_b8a58_level0_row4\" class=\"row_heading level0 row4\" >25%</th>\n",
       "      <td id=\"T_b8a58_row4_col0\" class=\"data row4 col0\" >-0.63</td>\n",
       "      <td id=\"T_b8a58_row4_col1\" class=\"data row4 col1\" >-0.85</td>\n",
       "      <td id=\"T_b8a58_row4_col2\" class=\"data row4 col2\" >-0.62</td>\n",
       "      <td id=\"T_b8a58_row4_col3\" class=\"data row4 col3\" >-0.75</td>\n",
       "      <td id=\"T_b8a58_row4_col4\" class=\"data row4 col4\" >-0.72</td>\n",
       "      <td id=\"T_b8a58_row4_col5\" class=\"data row4 col5\" >-0.68</td>\n",
       "      <td id=\"T_b8a58_row4_col6\" class=\"data row4 col6\" >-0.42</td>\n",
       "      <td id=\"T_b8a58_row4_col7\" class=\"data row4 col7\" >-0.55</td>\n",
       "      <td id=\"T_b8a58_row4_col8\" class=\"data row4 col8\" >-0.69</td>\n",
       "      <td id=\"T_b8a58_row4_col9\" class=\"data row4 col9\" >-0.16</td>\n",
       "      <td id=\"T_b8a58_row4_col10\" class=\"data row4 col10\" >-0.20</td>\n",
       "      <td id=\"T_b8a58_row4_col11\" class=\"data row4 col11\" >-0.75</td>\n",
       "    </tr>\n",
       "    <tr>\n",
       "      <th id=\"T_b8a58_level0_row5\" class=\"row_heading level0 row5\" >50%</th>\n",
       "      <td id=\"T_b8a58_row5_col0\" class=\"data row5 col0\" >-0.00</td>\n",
       "      <td id=\"T_b8a58_row5_col1\" class=\"data row5 col1\" >-0.48</td>\n",
       "      <td id=\"T_b8a58_row5_col2\" class=\"data row5 col2\" >-0.11</td>\n",
       "      <td id=\"T_b8a58_row5_col3\" class=\"data row5 col3\" >-0.19</td>\n",
       "      <td id=\"T_b8a58_row5_col4\" class=\"data row5 col4\" >0.04</td>\n",
       "      <td id=\"T_b8a58_row5_col5\" class=\"data row5 col5\" >0.21</td>\n",
       "      <td id=\"T_b8a58_row5_col6\" class=\"data row5 col6\" >-0.42</td>\n",
       "      <td id=\"T_b8a58_row5_col7\" class=\"data row5 col7\" >0.04</td>\n",
       "      <td id=\"T_b8a58_row5_col8\" class=\"data row5 col8\" >-0.29</td>\n",
       "      <td id=\"T_b8a58_row5_col9\" class=\"data row5 col9\" >-0.16</td>\n",
       "      <td id=\"T_b8a58_row5_col10\" class=\"data row5 col10\" >-0.20</td>\n",
       "      <td id=\"T_b8a58_row5_col11\" class=\"data row5 col11\" >-0.01</td>\n",
       "    </tr>\n",
       "    <tr>\n",
       "      <th id=\"T_b8a58_level0_row6\" class=\"row_heading level0 row6\" >75%</th>\n",
       "      <td id=\"T_b8a58_row6_col0\" class=\"data row6 col0\" >0.63</td>\n",
       "      <td id=\"T_b8a58_row6_col1\" class=\"data row6 col1\" >0.99</td>\n",
       "      <td id=\"T_b8a58_row6_col2\" class=\"data row6 col2\" >1.10</td>\n",
       "      <td id=\"T_b8a58_row6_col3\" class=\"data row6 col3\" >0.50</td>\n",
       "      <td id=\"T_b8a58_row6_col4\" class=\"data row6 col4\" >0.77</td>\n",
       "      <td id=\"T_b8a58_row6_col5\" class=\"data row6 col5\" >0.82</td>\n",
       "      <td id=\"T_b8a58_row6_col6\" class=\"data row6 col6\" >-0.37</td>\n",
       "      <td id=\"T_b8a58_row6_col7\" class=\"data row6 col7\" >0.62</td>\n",
       "      <td id=\"T_b8a58_row6_col8\" class=\"data row6 col8\" >0.51</td>\n",
       "      <td id=\"T_b8a58_row6_col9\" class=\"data row6 col9\" >-0.16</td>\n",
       "      <td id=\"T_b8a58_row6_col10\" class=\"data row6 col10\" >-0.20</td>\n",
       "      <td id=\"T_b8a58_row6_col11\" class=\"data row6 col11\" >0.71</td>\n",
       "    </tr>\n",
       "    <tr>\n",
       "      <th id=\"T_b8a58_level0_row7\" class=\"row_heading level0 row7\" >max</th>\n",
       "      <td id=\"T_b8a58_row7_col0\" class=\"data row7 col0\" >7.14</td>\n",
       "      <td id=\"T_b8a58_row7_col1\" class=\"data row7 col1\" >1.36</td>\n",
       "      <td id=\"T_b8a58_row7_col2\" class=\"data row7 col2\" >1.35</td>\n",
       "      <td id=\"T_b8a58_row7_col3\" class=\"data row7 col3\" >6.24</td>\n",
       "      <td id=\"T_b8a58_row7_col4\" class=\"data row7 col4\" >2.44</td>\n",
       "      <td id=\"T_b8a58_row7_col5\" class=\"data row7 col5\" >1.59</td>\n",
       "      <td id=\"T_b8a58_row7_col6\" class=\"data row7 col6\" >4.45</td>\n",
       "      <td id=\"T_b8a58_row7_col7\" class=\"data row7 col7\" >3.08</td>\n",
       "      <td id=\"T_b8a58_row7_col8\" class=\"data row7 col8\" >6.25</td>\n",
       "      <td id=\"T_b8a58_row7_col9\" class=\"data row7 col9\" >29.82</td>\n",
       "      <td id=\"T_b8a58_row7_col10\" class=\"data row7 col10\" >31.17</td>\n",
       "      <td id=\"T_b8a58_row7_col11\" class=\"data row7 col11\" >3.07</td>\n",
       "    </tr>\n",
       "  </tbody>\n",
       "</table>\n"
      ],
      "text/plain": [
       "<pandas.io.formats.style.Styler at 0xc28e55cb20>"
      ]
     },
     "metadata": {},
     "output_type": "display_data"
    },
    {
     "data": {
      "text/markdown": [
       "<br>**Shapes :**"
      ],
      "text/plain": [
       "<IPython.core.display.Markdown object>"
      ]
     },
     "metadata": {},
     "output_type": "display_data"
    },
    {
     "name": "stdout",
     "output_type": "stream",
     "text": [
      "Dataset       :  (29165, 14)\n",
      "Train dataset :  (23332, 12)\n",
      "Test  dataset :  (5833, 12)\n"
     ]
    }
   ],
   "source": [
    "# ---- Read dataset from ./data\n",
    "\n",
    "df = pd.read_csv(f'{dataset_dir}/{dataset_filename}', header=0, sep=';')\n",
    "\n",
    "# ---- Scaling\n",
    "\n",
    "df = df[:int(scale*len(df))]\n",
    "train_len=int(train_prop*len(df))\n",
    "\n",
    "# ---- Train / Test\n",
    "dataset_train = df.loc[ :train_len-1, features ]\n",
    "dataset_test  = df.loc[train_len:,    features ]\n",
    "subtitle('Train dataset example :')\n",
    "display(dataset_train.head(15))\n",
    "\n",
    "# ---- Normalize, and convert to numpy array\n",
    "\n",
    "mean = dataset_train.mean()\n",
    "std  = dataset_train.std()\n",
    "dataset_train = (dataset_train - mean) / std\n",
    "dataset_test  = (dataset_test  - mean) / std\n",
    "\n",
    "subtitle('After normalization :')\n",
    "display(dataset_train.describe().style.format(\"{0:.2f}\"))\n",
    "\n",
    "dataset_train = dataset_train.to_numpy()\n",
    "dataset_test  = dataset_test.to_numpy()\n",
    "\n",
    "subtitle('Shapes :')\n",
    "print('Dataset       : ',df.shape)\n",
    "print('Train dataset : ',dataset_train.shape)\n",
    "print('Test  dataset : ',dataset_test.shape)"
   ]
  },
  {
   "cell_type": "markdown",
   "id": "c1553ce8",
   "metadata": {},
   "source": [
    "### 2.2 - Prepare data generator"
   ]
  },
  {
   "cell_type": "code",
   "execution_count": 8,
   "id": "a4eae254",
   "metadata": {},
   "outputs": [
    {
     "data": {
      "text/markdown": [
       "<br>**About the splitting of our dataset :**"
      ],
      "text/plain": [
       "<IPython.core.display.Markdown object>"
      ]
     },
     "metadata": {},
     "output_type": "display_data"
    },
    {
     "name": "stdout",
     "output_type": "stream",
     "text": [
      "Nombre de train batchs disponibles :  729\n",
      "batch x shape :  (32, 16, 12)\n",
      "batch y shape :  (32, 12)\n"
     ]
    },
    {
     "data": {
      "text/markdown": [
       "<br>**What a batch looks like (x) :**"
      ],
      "text/plain": [
       "<IPython.core.display.Markdown object>"
      ]
     },
     "metadata": {},
     "output_type": "display_data"
    },
    {
     "name": "stdout",
     "output_type": "stream",
     "text": [
      "[[-1.08700214  0.62339201 -1.74260306 -1.36124989 -0.21151629  0.92788234\n",
      "   2.5537085  -3.53335969 -0.5548422  -0.15628743 -0.19911541 -0.62411123]\n",
      " [-1.35836112  0.62339201 -1.22653564 -0.9568005  -0.22850619  1.20563932\n",
      "   2.60504167 -3.73327595 -0.94615102  0.16956189  0.21907938 -0.73495229]\n",
      " [ 0.08888678 -0.48190581  0.66571156 -0.51190618 -0.19452639  1.31674211\n",
      "   2.45104217 -3.7199482  -0.94615102 -0.15628743  0.07968112 -0.75958364]\n",
      " [ 2.07885263 -0.48190581  0.92374527 -0.30968148 -0.1435567   1.3722935\n",
      "   2.04037682 -3.41340993 -0.13744613 -0.15628743  1.89185857 -0.73495229]\n",
      " [ 2.5311176  -1.21877102  1.09576774  0.4992173  -0.31345568  1.26119071\n",
      "   0.55171495 -3.04023291  0.6451715   0.49541121  0.35847765 -0.82116201]\n",
      " [ 4.34017747 -0.48190581  1.26779022  0.70144199 -0.51733445  1.09453653\n",
      "   2.5537085  -2.40050088  0.51473523  0.16956189  0.07968112 -0.90737172]\n",
      " [ 4.79244244 -0.85033841  1.26779022 -0.10745679 -1.01004149  0.65012537\n",
      "   0.55171495 -1.69413009  0.25386269 -0.15628743 -0.19911541 -1.11673817]\n",
      " [ 4.06881849 -0.85033841  1.18177898  1.14633632 -1.33284955  0.53902258\n",
      "  -0.42361524 -1.0943813   0.80169503 -0.15628743 -0.19911541 -1.31378895]\n",
      " [ 2.5311176  -1.21877102  1.00975651  1.14633632 -1.67264751  0.15016281\n",
      "  -0.42361524 -0.72120428  1.06256758 -0.15628743 -0.19911541 -1.41231434]\n",
      " [ 1.98839964 -1.21877102  0.7517228  -0.30968148 -1.757597    0.03906002\n",
      "  -0.42361524 -0.42799377 -0.29396966 -0.15628743 -0.19911541 -1.42463002]\n",
      " [ 0.90296372 -1.21877102  1.26779022 -0.10745679 -1.62167782  0.42791979\n",
      "  -0.42361524 -0.29471626 -0.5548422  -0.15628743 -0.19911541 -1.48620839]\n",
      " [ 2.71202359 -0.48190581  1.26779022  0.70144199 -1.94448588 -0.07204277\n",
      "  -0.42361524  0.10511626  0.12342641 -0.15628743 -0.19911541 -1.58473378]\n",
      " [ 1.1743227  -1.21877102 -1.65659182  0.4992173  -2.13137476 -0.62755672\n",
      "  -0.42361524  0.27837702  0.38429896 -0.15628743 -0.19911541 -1.39999867]\n",
      " [ 1.35522869 -0.48190581 -1.65659182  0.94411162 -2.13137476 -0.68310811\n",
      "  -0.42361524  0.47829329  0.6451715  -0.15628743 -0.19911541 -1.36305165]\n",
      " [ 1.26477569 -1.21877102 -1.31254688 -0.30968148 -2.01244547 -0.07204277\n",
      "  -0.42361524  0.6648818  -0.13744613 -0.15628743 -0.19911541 -1.64631214]\n",
      " [-0.18247221  0.25495941  0.66571156 -0.9568005  -2.06341517  0.42791979\n",
      "  -0.42361524  0.63822629 -1.23311082 -0.15628743 -0.19911541 -1.8556786 ]]\n"
     ]
    },
    {
     "data": {
      "text/markdown": [
       "<br>**What a batch looks like (y) :**"
      ],
      "text/plain": [
       "<IPython.core.display.Markdown object>"
      ]
     },
     "metadata": {},
     "output_type": "display_data"
    },
    {
     "name": "stdout",
     "output_type": "stream",
     "text": [
      "[ 0.17933977 -1.21877102  0.57970032 -0.75457581 -2.06341517  0.65012537\n",
      " -0.42361524  0.6648818  -1.23311082 -0.15628743 -0.19911541 -1.92957264]\n"
     ]
    }
   ],
   "source": [
    "# ---- Train generator\n",
    "train_generator = TimeseriesGenerator(dataset_train, dataset_train, length=sequence_len,  batch_size=batch_size)\n",
    "test_generator  = TimeseriesGenerator(dataset_test,  dataset_test,  length=sequence_len,  batch_size=batch_size)\n",
    "\n",
    "# ---- About\n",
    "\n",
    "subtitle('About the splitting of our dataset :')\n",
    "\n",
    "x,y=train_generator[0]\n",
    "print(f'Nombre de train batchs disponibles : ', len(train_generator))\n",
    "print('batch x shape : ',x.shape)\n",
    "print('batch y shape : ',y.shape)\n",
    "\n",
    "x,y=train_generator[0]\n",
    "subtitle('What a batch looks like (x) :')\n",
    "print(x[0])\n",
    "subtitle('What a batch looks like (y) :')\n",
    "print(y[0])"
   ]
  },
  {
   "cell_type": "markdown",
   "id": "7ba1e6e9",
   "metadata": {},
   "source": [
    "## Step 3 - Create a model"
   ]
  },
  {
   "cell_type": "code",
   "execution_count": 9,
   "id": "c62a6c00",
   "metadata": {},
   "outputs": [
    {
     "name": "stdout",
     "output_type": "stream",
     "text": [
      "Model: \"sequential\"\n",
      "_________________________________________________________________\n",
      " Layer (type)                Output Shape              Param #   \n",
      "=================================================================\n",
      " lstm (LSTM)                 (None, 100)               45200     \n",
      "                                                                 \n",
      " dropout (Dropout)           (None, 100)               0         \n",
      "                                                                 \n",
      " dense (Dense)               (None, 12)                1212      \n",
      "                                                                 \n",
      "=================================================================\n",
      "Total params: 46,412\n",
      "Trainable params: 46,412\n",
      "Non-trainable params: 0\n",
      "_________________________________________________________________\n"
     ]
    }
   ],
   "source": [
    "model = keras.models.Sequential()\n",
    "model.add( keras.layers.InputLayer(input_shape=(sequence_len, features_len)) )\n",
    "model.add( keras.layers.LSTM(100, activation='relu') )\n",
    "model.add( keras.layers.Dropout(0.2) )\n",
    "model.add( keras.layers.Dense(features_len) )\n",
    "\n",
    "model.summary()"
   ]
  },
  {
   "cell_type": "markdown",
   "id": "da8aa2d6",
   "metadata": {},
   "source": [
    "## Step 4 - Compile and train"
   ]
  },
  {
   "cell_type": "markdown",
   "id": "c0f33762",
   "metadata": {},
   "source": [
    "### 4.1 - Callback"
   ]
  },
  {
   "cell_type": "code",
   "execution_count": 11,
   "id": "27d36707",
   "metadata": {},
   "outputs": [],
   "source": [
    "os.makedirs(f'{run_dir}/models',   mode=0o750, exist_ok=True)\n",
    "save_dir = f'{run_dir}/best_model.h5'\n",
    "bestmodel_callback = tf.keras.callbacks.ModelCheckpoint(filepath=save_dir, verbose=0, save_best_only=True)"
   ]
  },
  {
   "cell_type": "markdown",
   "id": "a467a35a",
   "metadata": {},
   "source": [
    "### 4.2 - Compile"
   ]
  },
  {
   "cell_type": "code",
   "execution_count": 12,
   "id": "8cc510e8",
   "metadata": {},
   "outputs": [],
   "source": [
    "model.compile(optimizer='adam', \n",
    "              loss='mse', \n",
    "              metrics   = ['mae'] )"
   ]
  },
  {
   "cell_type": "markdown",
   "id": "deeed60a",
   "metadata": {},
   "source": [
    "### 4.3 - Fit"
   ]
  },
  {
   "cell_type": "code",
   "execution_count": 13,
   "id": "7f4cbfd3",
   "metadata": {},
   "outputs": [
    {
     "name": "stdout",
     "output_type": "stream",
     "text": [
      "Epoch 1/10\n",
      "729/729 [==============================] - 8s 9ms/step - loss: 0.6134 - mae: 0.5135 - val_loss: 0.4893 - val_mae: 0.4300\n",
      "Epoch 2/10\n",
      "729/729 [==============================] - 6s 9ms/step - loss: 0.5110 - mae: 0.4441 - val_loss: 0.4654 - val_mae: 0.4058\n",
      "Epoch 3/10\n",
      "729/729 [==============================] - 6s 9ms/step - loss: 0.4839 - mae: 0.4228 - val_loss: 0.4565 - val_mae: 0.3990\n",
      "Epoch 4/10\n",
      "729/729 [==============================] - 6s 9ms/step - loss: 0.4685 - mae: 0.4117 - val_loss: 0.4426 - val_mae: 0.3896\n",
      "Epoch 5/10\n",
      "729/729 [==============================] - 6s 8ms/step - loss: 0.4568 - mae: 0.4028 - val_loss: 0.4365 - val_mae: 0.3927\n",
      "Epoch 6/10\n",
      "729/729 [==============================] - 6s 9ms/step - loss: 0.4491 - mae: 0.3979 - val_loss: 0.4300 - val_mae: 0.3761\n",
      "Epoch 7/10\n",
      "729/729 [==============================] - 6s 9ms/step - loss: 0.4428 - mae: 0.3930 - val_loss: 0.4266 - val_mae: 0.3705\n",
      "Epoch 8/10\n",
      "729/729 [==============================] - 6s 9ms/step - loss: 0.4373 - mae: 0.3905 - val_loss: 0.4426 - val_mae: 0.3892\n",
      "Epoch 9/10\n",
      "729/729 [==============================] - 6s 9ms/step - loss: 0.4315 - mae: 0.3888 - val_loss: 0.4347 - val_mae: 0.3703\n",
      "Epoch 10/10\n",
      "729/729 [==============================] - 6s 8ms/step - loss: 0.4305 - mae: 0.3871 - val_loss: 0.4266 - val_mae: 0.3709\n"
     ]
    }
   ],
   "source": [
    "history=model.fit(train_generator, \n",
    "                  epochs  = epochs, \n",
    "                  verbose = fit_verbosity,\n",
    "                  validation_data = test_generator,\n",
    "                  callbacks = [bestmodel_callback])"
   ]
  },
  {
   "cell_type": "code",
   "execution_count": 14,
   "id": "0e6d5f14",
   "metadata": {},
   "outputs": [
    {
     "data": {
      "text/html": [
       "<div>\n",
       "<style scoped>\n",
       "    .dataframe tbody tr th:only-of-type {\n",
       "        vertical-align: middle;\n",
       "    }\n",
       "\n",
       "    .dataframe tbody tr th {\n",
       "        vertical-align: top;\n",
       "    }\n",
       "\n",
       "    .dataframe thead th {\n",
       "        text-align: right;\n",
       "    }\n",
       "</style>\n",
       "<table border=\"1\" class=\"dataframe\">\n",
       "  <thead>\n",
       "    <tr style=\"text-align: right;\">\n",
       "      <th></th>\n",
       "      <th>loss</th>\n",
       "      <th>mae</th>\n",
       "      <th>val_loss</th>\n",
       "      <th>val_mae</th>\n",
       "    </tr>\n",
       "  </thead>\n",
       "  <tbody>\n",
       "    <tr>\n",
       "      <th>0</th>\n",
       "      <td>0.613446</td>\n",
       "      <td>0.513479</td>\n",
       "      <td>0.489266</td>\n",
       "      <td>0.429956</td>\n",
       "    </tr>\n",
       "    <tr>\n",
       "      <th>1</th>\n",
       "      <td>0.511001</td>\n",
       "      <td>0.444068</td>\n",
       "      <td>0.465360</td>\n",
       "      <td>0.405788</td>\n",
       "    </tr>\n",
       "    <tr>\n",
       "      <th>2</th>\n",
       "      <td>0.483882</td>\n",
       "      <td>0.422754</td>\n",
       "      <td>0.456454</td>\n",
       "      <td>0.399042</td>\n",
       "    </tr>\n",
       "    <tr>\n",
       "      <th>3</th>\n",
       "      <td>0.468523</td>\n",
       "      <td>0.411721</td>\n",
       "      <td>0.442590</td>\n",
       "      <td>0.389607</td>\n",
       "    </tr>\n",
       "    <tr>\n",
       "      <th>4</th>\n",
       "      <td>0.456766</td>\n",
       "      <td>0.402759</td>\n",
       "      <td>0.436466</td>\n",
       "      <td>0.392746</td>\n",
       "    </tr>\n",
       "    <tr>\n",
       "      <th>5</th>\n",
       "      <td>0.449075</td>\n",
       "      <td>0.397933</td>\n",
       "      <td>0.430021</td>\n",
       "      <td>0.376052</td>\n",
       "    </tr>\n",
       "    <tr>\n",
       "      <th>6</th>\n",
       "      <td>0.442830</td>\n",
       "      <td>0.393021</td>\n",
       "      <td>0.426597</td>\n",
       "      <td>0.370459</td>\n",
       "    </tr>\n",
       "    <tr>\n",
       "      <th>7</th>\n",
       "      <td>0.437337</td>\n",
       "      <td>0.390517</td>\n",
       "      <td>0.442585</td>\n",
       "      <td>0.389201</td>\n",
       "    </tr>\n",
       "    <tr>\n",
       "      <th>8</th>\n",
       "      <td>0.431504</td>\n",
       "      <td>0.388836</td>\n",
       "      <td>0.434669</td>\n",
       "      <td>0.370326</td>\n",
       "    </tr>\n",
       "    <tr>\n",
       "      <th>9</th>\n",
       "      <td>0.430523</td>\n",
       "      <td>0.387139</td>\n",
       "      <td>0.426639</td>\n",
       "      <td>0.370900</td>\n",
       "    </tr>\n",
       "  </tbody>\n",
       "</table>\n",
       "</div>"
      ],
      "text/plain": [
       "       loss       mae  val_loss   val_mae\n",
       "0  0.613446  0.513479  0.489266  0.429956\n",
       "1  0.511001  0.444068  0.465360  0.405788\n",
       "2  0.483882  0.422754  0.456454  0.399042\n",
       "3  0.468523  0.411721  0.442590  0.389607\n",
       "4  0.456766  0.402759  0.436466  0.392746\n",
       "5  0.449075  0.397933  0.430021  0.376052\n",
       "6  0.442830  0.393021  0.426597  0.370459\n",
       "7  0.437337  0.390517  0.442585  0.389201\n",
       "8  0.431504  0.388836  0.434669  0.370326\n",
       "9  0.430523  0.387139  0.426639  0.370900"
      ]
     },
     "metadata": {},
     "output_type": "display_data"
    }
   ],
   "source": [
    "import pandas as pd\n",
    "df=pd.DataFrame(data=history.history)\n",
    "display(df)"
   ]
  },
  {
   "cell_type": "code",
   "execution_count": 15,
   "id": "8c9c1f71",
   "metadata": {},
   "outputs": [
    {
     "data": {
      "text/plain": [
       "<matplotlib.legend.Legend at 0xc2807595e0>"
      ]
     },
     "execution_count": 15,
     "metadata": {},
     "output_type": "execute_result"
    },
    {
     "data": {
      "image/png": "[encoded data removed]",
      "text/plain": [
       "<Figure size 432x288 with 1 Axes>"
      ]
     },
     "metadata": {
      "needs_background": "light"
     },
     "output_type": "display_data"
    }
   ],
   "source": [
    "plt.figure()\n",
    "plt.plot(df['mae'],label='train_mae')\n",
    "plt.plot(df['val_mae'],label='val_mae')\n",
    "plt.title(\"mae\")\n",
    "plt.xlabel('N_epoch')\n",
    "plt.ylabel('mae')\n",
    "plt.legend()"
   ]
  },
  {
   "cell_type": "code",
   "execution_count": 17,
   "id": "23a97db8",
   "metadata": {},
   "outputs": [
    {
     "data": {
      "text/plain": [
       "<matplotlib.legend.Legend at 0xc2808e9d90>"
      ]
     },
     "execution_count": 17,
     "metadata": {},
     "output_type": "execute_result"
    },
    {
     "data": {
      "image/png": "[encoded data removed]",
      "text/plain": [
       "<Figure size 432x288 with 1 Axes>"
      ]
     },
     "metadata": {
      "needs_background": "light"
     },
     "output_type": "display_data"
    }
   ],
   "source": [
    "plt.figure()\n",
    "plt.plot(df['loss'],label='train_loss')\n",
    "plt.plot(df['val_loss'],label='val_loss')\n",
    "plt.title(\"Loss\")\n",
    "plt.xlabel('N_epoch')\n",
    "plt.ylabel('Loss')\n",
    "plt.legend()"
   ]
  },
  {
   "cell_type": "markdown",
   "id": "5d9b20ab",
   "metadata": {},
   "source": [
    "## Step 5 - Predict"
   ]
  },
  {
   "cell_type": "markdown",
   "id": "dd724edd",
   "metadata": {},
   "source": [
    "### 5.1 - Load model"
   ]
  },
  {
   "cell_type": "code",
   "execution_count": 18,
   "id": "25d9c87a",
   "metadata": {},
   "outputs": [],
   "source": [
    "loaded_model = tf.keras.models.load_model(f'{run_dir}/best_model.h5')"
   ]
  },
  {
   "cell_type": "markdown",
   "id": "60fd8999",
   "metadata": {},
   "source": [
    "### 5.2 Make a prediction\n",
    "A basic prediction, with normalized values (so humanly not very understandable)"
   ]
  },
  {
   "cell_type": "code",
   "execution_count": 22,
   "id": "c0288354",
   "metadata": {},
   "outputs": [
    {
     "data": {
      "image/png": "[encoded data removed]",
      "text/plain": [
       "<Figure size 1080x1152 with 12 Axes>"
      ]
     },
     "metadata": {
      "needs_background": "light"
     },
     "output_type": "display_data"
    }
   ],
   "source": [
    "s=random.randint(0,len(dataset_test)-sequence_len)\n",
    "\n",
    "sequence      = dataset_test[s:s+sequence_len]\n",
    "sequence_true = dataset_test[s:s+sequence_len+1]\n",
    "\n",
    "pred = loaded_model.predict( np.array([sequence]) )\n",
    "\n",
    "# ---- Show result\n",
    "\n",
    "def plot_multivariate_serie(sequence, labels=None, predictions=None, only_features=None,\n",
    "                            columns=3, width=5,height=4,wspace=0.3,hspace=0.2,ms=6,lw=1,\n",
    "                            time_dt=1, hide_ticks=False):\n",
    "    \n",
    "    sequence_len = len(sequence)\n",
    "    features_len = sequence.shape[1]\n",
    "    if only_features is None : only_features=range(features_len)\n",
    "    if labels is None        : labels=range(features_len)\n",
    "    \n",
    "    t  = np.arange(sequence_len)    \n",
    "    if predictions is None:\n",
    "        dt = 0\n",
    "    else:\n",
    "        dt = len(predictions)\n",
    "        sequence_with_pred = sequence.copy()\n",
    "        sequence_with_pred[-dt:]=predictions\n",
    "\n",
    "    rows = math.ceil(features_len/columns)\n",
    "    fig  = plt.figure(figsize=(columns*width, rows*height))\n",
    "    fig.subplots_adjust(wspace=0.3,hspace=0.2)\n",
    "    n=1\n",
    "    for i in only_features:\n",
    "        ax=fig.add_subplot(rows, columns, n)\n",
    "        \n",
    "        # ---- Real sequence without prediction\n",
    "        #\n",
    "        ax.plot( t[:-dt],sequence[:-dt,i], 'o',  markersize=ms, color='C0', zorder=2)\n",
    "        ax.plot( t,sequence[:,i],          '-',  linewidth=lw,  color='C0', label=labels[i],zorder=1)\n",
    "\n",
    "        # ---- What we expect\n",
    "        #\n",
    "        ax.plot(t[-dt:], sequence[-dt:,i], 'o', markeredgecolor='C0',markerfacecolor='white',ms=6)\n",
    "        \n",
    "        if predictions is not None:\n",
    "            ax.plot(t[-dt-1:], sequence_with_pred[-dt-1:,i], '--',  lw=lw, fillstyle='full',  ms=ms, color='C1',zorder=1)\n",
    "            ax.plot(t[-dt:],   predictions[:,i],             'o',   lw=lw, fillstyle='full',  ms=ms, color='C1',zorder=2)\n",
    "\n",
    "        if hide_ticks:\n",
    "            ax.set_yticks([])\n",
    "            ax.set_xticks([])\n",
    "        \n",
    "        ax.legend(loc=\"upper left\")\n",
    "        n+=1    \n",
    "    plt.show()\n",
    "\n",
    "plot_multivariate_serie(sequence_true, predictions=pred, labels=features)"
   ]
  },
  {
   "cell_type": "markdown",
   "id": "a28894a4",
   "metadata": {},
   "source": [
    "### 5.3 Real prediction\n",
    "We are now going to make a true prediction, with an un-normalized result"
   ]
  },
  {
   "cell_type": "code",
   "execution_count": 36,
   "id": "e46cd00d",
   "metadata": {},
   "outputs": [
    {
     "data": {
      "image/png": "[encoded data removed]",
      "text/plain": [
       "<Figure size 3024x2304 with 1 Axes>"
      ]
     },
     "metadata": {
      "needs_background": "light"
     },
     "output_type": "display_data"
    },
    {
     "name": "stdout",
     "output_type": "stream",
     "text": [
      "Gap between prediction and reality : 1.44 °C\n"
     ]
    }
   ],
   "source": [
    "def denormalize(mean,std,seq):\n",
    "    nseq = seq.copy()\n",
    "    for i,s in enumerate(nseq):\n",
    "        s = s*std + mean\n",
    "        nseq[i]=s\n",
    "    return nseq\n",
    "\n",
    "\n",
    "# ---- Get a sequence\n",
    "\n",
    "i=random.randint(0,len(dataset_test)-sequence_len)\n",
    "sequence      = dataset_test[i:i+sequence_len]\n",
    "sequence_true = dataset_test[i:i+sequence_len+1]\n",
    "\n",
    "# ---- Prediction\n",
    "\n",
    "pred = loaded_model.predict( np.array([sequence]) )\n",
    "\n",
    "# ---- De-normalization\n",
    "\n",
    "sequence_true = denormalize(mean,std, sequence_true)\n",
    "pred          = denormalize(mean,std, pred)\n",
    "\n",
    "# ---- Show it\n",
    "feat=11\n",
    "\n",
    "plot_multivariate_serie(sequence_true, predictions=pred, labels=features, only_features=[feat],width=14, height=8)\n",
    "\n",
    "delta_deg=abs(sequence_true[-1][feat]-pred[-1][feat])\n",
    "print(f'Gap between prediction and reality : {delta_deg:.2f} °C')\n"
   ]
  },
  {
   "cell_type": "code",
   "execution_count": null,
   "id": "36648880",
   "metadata": {},
   "outputs": [],
   "source": []
  }
 ],
 "metadata": {
  "kernelspec": {
   "display_name": "Python 3 (ipykernel)",
   "language": "python",
   "name": "python3"
  },
  "language_info": {
   "codemirror_mode": {
    "name": "ipython",
    "version": 3
   },
   "file_extension": ".py",
   "mimetype": "text/x-python",
   "name": "python",
   "nbconvert_exporter": "python",
   "pygments_lexer": "ipython3",
   "version": "3.9.7"
  }
 },
 "nbformat": 4,
 "nbformat_minor": 5
}
