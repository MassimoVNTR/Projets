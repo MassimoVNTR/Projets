{
 "cells": [
  {
   "cell_type": "markdown",
   "id": "8906d492",
   "metadata": {},
   "source": [
    "<img width=\"800px\" src=\"../fidle/img/00-Fidle-header-01.svg\"></img>\n",
    "\n",
    "# <!-- TITLE --> [GTSRB4] - Data augmentation \n",
    "<!-- DESC --> Episode 4 : Adding data by data augmentation when we lack it, to improve our results\n",
    "<!-- AUTHOR : Jean-Luc Parouty (CNRS/SIMaP) -->\n",
    "\n",
    "## Objectives :\n",
    "  - Trying to improve training by **enhancing the data**\n",
    "  - Using Keras' **data augmentation utilities**, finding their limits...\n",
    "  \n",
    "The German Traffic Sign Recognition Benchmark (GTSRB) is a dataset with more than 50,000 photos of road signs from about 40 classes.  \n",
    "The final aim is to recognise them !  \n",
    "\n",
    "Description is available there : http://benchmark.ini.rub.de/?section=gtsrb&subsection=dataset\n",
    "\n",
    "\n",
    "## What we're going to do :\n",
    " - Increase and improve the training dataset\n",
    " - Identify the limits of these tools\n",
    "\n",
    "## Step 1 - Import and init\n",
    "### 1.1 - Python stuffs"
   ]
  },
  {
   "cell_type": "code",
   "execution_count": 1,
   "id": "c46c3270",
   "metadata": {},
   "outputs": [],
   "source": [
    "import tensorflow as tf\n",
    "from tensorflow import keras\n",
    "from tensorflow.keras.callbacks import TensorBoard\n",
    "\n",
    "import numpy as np\n",
    "import h5py\n",
    "\n",
    "from sklearn.metrics import confusion_matrix\n",
    "\n",
    "import matplotlib.pyplot as plt\n",
    "import os, sys, time, random\n",
    "\n",
    "from importlib import reload\n",
    "\n",
    "\n",
    "run_dir = './run/GTSRB4.001'\n",
    "datasets_dir='fidle-datasets'"
   ]
  },
  {
   "cell_type": "markdown",
   "id": "9eb5b9fd",
   "metadata": {},
   "source": [
    "### 1.2 - Parameters\n",
    "`scale` is the proportion of the dataset that will be used during the training. (1 mean 100%)\\\n",
    "`fit_verbosity` is the verbosity during training : 0 = silent, 1 = progress bar, 2 = one line per epoch"
   ]
  },
  {
   "cell_type": "code",
   "execution_count": 2,
   "id": "3db09492",
   "metadata": {},
   "outputs": [],
   "source": [
    "enhanced_dir = './data'\n",
    "# enhanced_dir = f'{datasets_dir}/GTSRB/enhanced'\n",
    "\n",
    "dataset_name  = 'set-24x24-L'\n",
    "batch_size    = 64\n",
    "epochs        = 40\n",
    "scale         = 1\n",
    "fit_verbosity = 1\n"
   ]
  },
  {
   "cell_type": "markdown",
   "id": "94b2fad2",
   "metadata": {},
   "source": [
    "## Step 2 - Load dataset\n",
    "Dataset is one of the saved dataset: RGB25, RGB35, L25, L35, etc.  \n",
    "First of all, we're going to use a smart dataset : **set-24x24-L**  \n",
    "(with a GPU, it only takes 35'' compared to more than 5' with a CPU !)"
   ]
  },
  {
   "cell_type": "code",
   "execution_count": 3,
   "id": "8b24cbb7",
   "metadata": {},
   "outputs": [
    {
     "name": "stdout",
     "output_type": "stream",
     "text": [
      "(1960, 24, 24, 1) (1960,)\n"
     ]
    }
   ],
   "source": [
    "def read_dataset(enhanced_dir, dataset_name):\n",
    "    '''Reads h5 dataset\n",
    "    Args:\n",
    "        filename     : datasets filename\n",
    "        dataset_name : dataset name, without .h5\n",
    "    Returns:    x_train,y_train, x_test,y_test data, x_meta,y_meta'''\n",
    "    # ---- Read dataset\n",
    "    \n",
    "    filename = f'{enhanced_dir}/{dataset_name}.h5'\n",
    "    with  h5py.File(filename,'r') as f:\n",
    "        x_train = f['x_train'][:]\n",
    "        y_train = f['y_train'][:]\n",
    "        x_test  = f['x_test'][:]\n",
    "        y_test  = f['y_test'][:]\n",
    "        x_meta  = f['x_meta'][:]\n",
    "        y_meta  = f['y_meta'][:]\n",
    "    print(x_train.shape, y_train.shape)\n",
    "    \n",
    "    # ---- Shuffle\n",
    "    #x_train,y_train=pwk.shuffle_np_dataset(x_train,y_train)\n",
    "\n",
    "    return x_train,y_train, x_test,y_test, x_meta,y_meta\n",
    "\n",
    "# ---- Read dataset \n",
    "#\n",
    "x_train,y_train,x_test,y_test, x_meta,y_meta = read_dataset(enhanced_dir, dataset_name)\n",
    "\n",
    "# ---- Rescale \n",
    "#\n",
    "\n",
    "def rescale_dataset(*data, scale=1):\n",
    "    '''\n",
    "    Rescale numpy array with 'scale' factor\n",
    "    args:\n",
    "        *data : arrays\n",
    "        scale : scale factor\n",
    "    return:\n",
    "        arrays of rescaled data\n",
    "    '''\n",
    "    return [ d[:int(scale*len(d))] for d in data ]\n",
    "\n",
    "# x_train,y_train, x_test,y_test = rescale_dataset(x_train,y_train,x_test,y_test, scale=scale)"
   ]
  },
  {
   "cell_type": "markdown",
   "id": "84e9c391",
   "metadata": {},
   "source": [
    "## Step 3 - Models\n",
    "We will now build a model and train it..."
   ]
  },
  {
   "cell_type": "code",
   "execution_count": 4,
   "id": "73c5c71f",
   "metadata": {},
   "outputs": [],
   "source": [
    "# A basic model\n",
    "#\n",
    "def get_model_v1(lx,ly,lz):\n",
    "    \n",
    "    model = keras.models.Sequential()\n",
    "    \n",
    "    model.add( keras.layers.Conv2D(96, (3,3), activation='relu', input_shape=(lx,ly,lz)))\n",
    "    model.add( keras.layers.MaxPooling2D((2, 2)))\n",
    "    model.add( keras.layers.Dropout(0.2))\n",
    "\n",
    "    model.add( keras.layers.Conv2D(192, (3, 3), activation='relu'))\n",
    "    model.add( keras.layers.MaxPooling2D((2, 2)))\n",
    "    model.add( keras.layers.Dropout(0.2))\n",
    "\n",
    "    model.add( keras.layers.Flatten()) \n",
    "    model.add( keras.layers.Dense(1500, activation='relu'))\n",
    "    model.add( keras.layers.Dropout(0.5))\n",
    "\n",
    "    model.add( keras.layers.Dense(43, activation='softmax'))\n",
    "    return model"
   ]
  },
  {
   "cell_type": "markdown",
   "id": "44994f08",
   "metadata": {},
   "source": [
    "## Step 4 - Callbacks  \n",
    "We prepare 2 kind callbacks :  TensorBoard and Model backup"
   ]
  },
  {
   "cell_type": "code",
   "execution_count": 5,
   "id": "92bf8cbb",
   "metadata": {},
   "outputs": [],
   "source": [
    "def mkdir(path):\n",
    "    os.makedirs(path, mode=0o750, exist_ok=True)\n",
    "def tag_now():\n",
    "    return datetime.datetime.now().strftime(\"%Y-%m-%d_%Hh%Mm%Ss\")"
   ]
  },
  {
   "cell_type": "code",
   "execution_count": 6,
   "id": "bc516f58",
   "metadata": {},
   "outputs": [
    {
     "name": "stdout",
     "output_type": "stream",
     "text": [
      "To run tensorboard :\n",
      "tensorboard --logdir C:\\Users\\Massimo\\projet__DS\\Formation\\run\\GTSRB4.001\\logs\n"
     ]
    }
   ],
   "source": [
    "import datetime\n",
    "\n",
    "mkdir(run_dir + '/models')\n",
    "mkdir(run_dir + '/logs')\n",
    "\n",
    "# ---- Callback tensorboard\n",
    "log_dir = run_dir + \"/logs/tb_\" + tag_now()\n",
    "tensorboard_callback = tf.keras.callbacks.TensorBoard(log_dir=log_dir, histogram_freq=1)\n",
    "\n",
    "# ---- Callback ModelCheckpoint - Save best model\n",
    "save_dir = run_dir + \"/models/best-model.h5\"\n",
    "bestmodel_callback = tf.keras.callbacks.ModelCheckpoint(filepath=save_dir, verbose=0, monitor='accuracy', save_best_only=True)\n",
    "\n",
    "# ---- Callback ModelCheckpoint - Save model each epochs\n",
    "save_dir = run_dir + \"/models/model-{epoch:04d}.h5\"\n",
    "savemodel_callback = tf.keras.callbacks.ModelCheckpoint(filepath=save_dir, verbose=0)\n",
    "\n",
    "path=os.path.abspath(f'{run_dir}/logs')\n",
    "print(f'To run tensorboard :\\ntensorboard --logdir {path}')"
   ]
  },
  {
   "cell_type": "markdown",
   "id": "19d911a5",
   "metadata": {},
   "source": [
    "## Step 5 - Data generator"
   ]
  },
  {
   "cell_type": "code",
   "execution_count": 7,
   "id": "dab009e0",
   "metadata": {},
   "outputs": [],
   "source": [
    "datagen = keras.preprocessing.image.ImageDataGenerator(featurewise_center=False,\n",
    "                             featurewise_std_normalization=False,\n",
    "                             width_shift_range=0.1,\n",
    "                             height_shift_range=0.1,\n",
    "                             zoom_range=0.2,\n",
    "                             shear_range=0.1,\n",
    "                             rotation_range=10.)\n",
    "datagen.fit(x_train)"
   ]
  },
  {
   "cell_type": "markdown",
   "id": "79abceb8",
   "metadata": {},
   "source": [
    "## Step 6 - Train the model\n",
    "**Get my data shape :**"
   ]
  },
  {
   "cell_type": "code",
   "execution_count": 8,
   "id": "2a80f154",
   "metadata": {},
   "outputs": [
    {
     "name": "stdout",
     "output_type": "stream",
     "text": [
      "Images of the dataset have this folowing shape :  (24, 24, 1)\n"
     ]
    }
   ],
   "source": [
    "(n,lx,ly,lz) = x_train.shape\n",
    "print(\"Images of the dataset have this folowing shape : \",(lx,ly,lz))"
   ]
  },
  {
   "cell_type": "markdown",
   "id": "c74b3f87",
   "metadata": {},
   "source": [
    "**Get and compile a model, with the data shape :**"
   ]
  },
  {
   "cell_type": "code",
   "execution_count": 9,
   "id": "a1ad8bfc",
   "metadata": {},
   "outputs": [],
   "source": [
    "model = get_model_v1(lx,ly,lz)\n",
    "\n",
    "# model.summary()\n",
    "\n",
    "model.compile(optimizer='adam',\n",
    "              loss='sparse_categorical_crossentropy',\n",
    "              metrics=['accuracy'])"
   ]
  },
  {
   "cell_type": "markdown",
   "id": "cafb4a02",
   "metadata": {},
   "source": [
    "**Train it :** "
   ]
  },
  {
   "cell_type": "code",
   "execution_count": 10,
   "id": "5ff6228c",
   "metadata": {},
   "outputs": [
    {
     "name": "stdout",
     "output_type": "stream",
     "text": [
      "Epoch 1/40\n",
      "30/30 [==============================] - 6s 185ms/step - loss: 3.5702 - accuracy: 0.0622 - val_loss: 3.5118 - val_accuracy: 0.0761\n",
      "Epoch 2/40\n",
      "30/30 [==============================] - 6s 189ms/step - loss: 3.4401 - accuracy: 0.0765 - val_loss: 3.4417 - val_accuracy: 0.0713\n",
      "Epoch 3/40\n",
      "30/30 [==============================] - 6s 207ms/step - loss: 3.3489 - accuracy: 0.0949 - val_loss: 3.3207 - val_accuracy: 0.1379\n",
      "Epoch 4/40\n",
      "30/30 [==============================] - 5s 169ms/step - loss: 3.1887 - accuracy: 0.1540 - val_loss: 3.0772 - val_accuracy: 0.2029\n",
      "Epoch 5/40\n",
      "30/30 [==============================] - 6s 188ms/step - loss: 2.9378 - accuracy: 0.2305 - val_loss: 2.6737 - val_accuracy: 0.2964\n",
      "Epoch 6/40\n",
      "30/30 [==============================] - 6s 186ms/step - loss: 2.6500 - accuracy: 0.2880 - val_loss: 2.3068 - val_accuracy: 0.3772\n",
      "Epoch 7/40\n",
      "30/30 [==============================] - 6s 203ms/step - loss: 2.3231 - accuracy: 0.3565 - val_loss: 2.0620 - val_accuracy: 0.4263\n",
      "Epoch 8/40\n",
      "30/30 [==============================] - 6s 215ms/step - loss: 2.1801 - accuracy: 0.3776 - val_loss: 1.7765 - val_accuracy: 0.5071\n",
      "Epoch 9/40\n",
      "30/30 [==============================] - 6s 215ms/step - loss: 1.9241 - accuracy: 0.4599 - val_loss: 1.6309 - val_accuracy: 0.5483\n",
      "Epoch 10/40\n",
      "30/30 [==============================] - 5s 182ms/step - loss: 1.8041 - accuracy: 0.4768 - val_loss: 1.5289 - val_accuracy: 0.5689\n",
      "Epoch 11/40\n",
      "30/30 [==============================] - 6s 186ms/step - loss: 1.7068 - accuracy: 0.5042 - val_loss: 1.4654 - val_accuracy: 0.5880\n",
      "Epoch 12/40\n",
      "30/30 [==============================] - 5s 182ms/step - loss: 1.5501 - accuracy: 0.5501 - val_loss: 1.3038 - val_accuracy: 0.6228\n",
      "Epoch 13/40\n",
      "30/30 [==============================] - 5s 182ms/step - loss: 1.4601 - accuracy: 0.5691 - val_loss: 1.2434 - val_accuracy: 0.6450\n",
      "Epoch 14/40\n",
      "30/30 [==============================] - 5s 181ms/step - loss: 1.3985 - accuracy: 0.5833 - val_loss: 1.2118 - val_accuracy: 0.6482\n",
      "Epoch 15/40\n",
      "30/30 [==============================] - 6s 187ms/step - loss: 1.3403 - accuracy: 0.5986 - val_loss: 1.1838 - val_accuracy: 0.6482\n",
      "Epoch 16/40\n",
      "30/30 [==============================] - 6s 212ms/step - loss: 1.2744 - accuracy: 0.6092 - val_loss: 1.0665 - val_accuracy: 0.6799\n",
      "Epoch 17/40\n",
      "30/30 [==============================] - 6s 192ms/step - loss: 1.2461 - accuracy: 0.6250 - val_loss: 1.0020 - val_accuracy: 0.7227\n",
      "Epoch 18/40\n",
      "30/30 [==============================] - 5s 184ms/step - loss: 1.1738 - accuracy: 0.6493 - val_loss: 1.0155 - val_accuracy: 0.6910\n",
      "Epoch 19/40\n",
      "30/30 [==============================] - 6s 189ms/step - loss: 1.0864 - accuracy: 0.6656 - val_loss: 0.9666 - val_accuracy: 0.7401\n",
      "Epoch 20/40\n",
      "30/30 [==============================] - 7s 229ms/step - loss: 1.0904 - accuracy: 0.6849 - val_loss: 0.9327 - val_accuracy: 0.7227\n",
      "Epoch 21/40\n",
      "30/30 [==============================] - 5s 177ms/step - loss: 1.0667 - accuracy: 0.6677 - val_loss: 0.9657 - val_accuracy: 0.7179\n",
      "Epoch 22/40\n",
      "30/30 [==============================] - 6s 191ms/step - loss: 0.9789 - accuracy: 0.6969 - val_loss: 0.9011 - val_accuracy: 0.7052\n",
      "Epoch 23/40\n",
      "30/30 [==============================] - 6s 186ms/step - loss: 0.9640 - accuracy: 0.7094 - val_loss: 0.8324 - val_accuracy: 0.7607\n",
      "Epoch 24/40\n",
      "30/30 [==============================] - 5s 178ms/step - loss: 0.9671 - accuracy: 0.7052 - val_loss: 0.8393 - val_accuracy: 0.7655\n",
      "Epoch 25/40\n",
      "30/30 [==============================] - 5s 184ms/step - loss: 0.9211 - accuracy: 0.7250 - val_loss: 0.8177 - val_accuracy: 0.7734\n",
      "Epoch 26/40\n",
      "30/30 [==============================] - 6s 201ms/step - loss: 0.8887 - accuracy: 0.7305 - val_loss: 0.8462 - val_accuracy: 0.7258\n",
      "Epoch 27/40\n",
      "30/30 [==============================] - 6s 202ms/step - loss: 0.8538 - accuracy: 0.7347 - val_loss: 0.7908 - val_accuracy: 0.7765\n",
      "Epoch 28/40\n",
      "30/30 [==============================] - 6s 206ms/step - loss: 0.8408 - accuracy: 0.7405 - val_loss: 0.7639 - val_accuracy: 0.7718\n",
      "Epoch 29/40\n",
      "30/30 [==============================] - 6s 190ms/step - loss: 0.8010 - accuracy: 0.7516 - val_loss: 0.7413 - val_accuracy: 0.7750\n",
      "Epoch 30/40\n",
      "30/30 [==============================] - 6s 203ms/step - loss: 0.7857 - accuracy: 0.7605 - val_loss: 0.7248 - val_accuracy: 0.7971\n",
      "Epoch 31/40\n",
      "30/30 [==============================] - 5s 178ms/step - loss: 0.7387 - accuracy: 0.7732 - val_loss: 0.7158 - val_accuracy: 0.8035\n",
      "Epoch 32/40\n",
      "30/30 [==============================] - 5s 180ms/step - loss: 0.6918 - accuracy: 0.7859 - val_loss: 0.6937 - val_accuracy: 0.8193\n",
      "Epoch 33/40\n",
      "30/30 [==============================] - 5s 170ms/step - loss: 0.7260 - accuracy: 0.7806 - val_loss: 0.7215 - val_accuracy: 0.7924\n",
      "Epoch 34/40\n",
      "30/30 [==============================] - 6s 190ms/step - loss: 0.6876 - accuracy: 0.7975 - val_loss: 0.6907 - val_accuracy: 0.7987\n",
      "Epoch 35/40\n",
      "30/30 [==============================] - 6s 199ms/step - loss: 0.6775 - accuracy: 0.7848 - val_loss: 0.6561 - val_accuracy: 0.8288\n",
      "Epoch 36/40\n",
      "30/30 [==============================] - 6s 187ms/step - loss: 0.6285 - accuracy: 0.8075 - val_loss: 0.6485 - val_accuracy: 0.8225\n",
      "Epoch 37/40\n",
      "30/30 [==============================] - 6s 192ms/step - loss: 0.6447 - accuracy: 0.8117 - val_loss: 0.6450 - val_accuracy: 0.8193\n",
      "Epoch 38/40\n",
      "30/30 [==============================] - 5s 171ms/step - loss: 0.6561 - accuracy: 0.7964 - val_loss: 0.6490 - val_accuracy: 0.8241\n",
      "Epoch 39/40\n",
      "30/30 [==============================] - 6s 215ms/step - loss: 0.6143 - accuracy: 0.8175 - val_loss: 0.6414 - val_accuracy: 0.8177\n",
      "Epoch 40/40\n",
      "30/30 [==============================] - 5s 177ms/step - loss: 0.6050 - accuracy: 0.8080 - val_loss: 0.6479 - val_accuracy: 0.8209\n"
     ]
    }
   ],
   "source": [
    "history = model.fit(  datagen.flow(x_train, y_train, batch_size=batch_size),\n",
    "                      steps_per_epoch = int(x_train.shape[0]/batch_size),\n",
    "                      epochs=epochs,\n",
    "                      verbose=fit_verbosity,\n",
    "                      validation_data=(x_test, y_test),\n",
    "                      callbacks=[tensorboard_callback, bestmodel_callback, savemodel_callback] )\n",
    "\n",
    "model.save(f'{run_dir}/models/last-model.h5')"
   ]
  },
  {
   "cell_type": "markdown",
   "id": "3b566654",
   "metadata": {},
   "source": [
    "**Evaluate it :**"
   ]
  },
  {
   "cell_type": "code",
   "execution_count": 11,
   "id": "aae886f0",
   "metadata": {},
   "outputs": [
    {
     "name": "stdout",
     "output_type": "stream",
     "text": [
      "Max validation accuracy is : 0.8288\n"
     ]
    }
   ],
   "source": [
    "max_val_accuracy = max(history.history[\"val_accuracy\"])\n",
    "print(\"Max validation accuracy is : {:.4f}\".format(max_val_accuracy))"
   ]
  },
  {
   "cell_type": "code",
   "execution_count": 12,
   "id": "62615897",
   "metadata": {},
   "outputs": [
    {
     "name": "stdout",
     "output_type": "stream",
     "text": [
      "Test loss      : 0.6479\n",
      "Test accuracy  : 0.8209\n"
     ]
    }
   ],
   "source": [
    "score = model.evaluate(x_test, y_test, verbose=0)\n",
    "\n",
    "print('Test loss      : {:5.4f}'.format(score[0]))\n",
    "print('Test accuracy  : {:5.4f}'.format(score[1]))"
   ]
  },
  {
   "cell_type": "markdown",
   "id": "4ee9ae34",
   "metadata": {},
   "source": [
    "## Step 7 - History\n",
    "The return of model.fit() returns us the learning history"
   ]
  },
  {
   "cell_type": "code",
   "execution_count": 13,
   "id": "e5f1164e",
   "metadata": {},
   "outputs": [],
   "source": [
    "import pandas as pd\n",
    "df=pd.DataFrame(data=history.history)"
   ]
  },
  {
   "cell_type": "code",
   "execution_count": 14,
   "id": "70f5ae78",
   "metadata": {},
   "outputs": [
    {
     "data": {
      "text/plain": [
       "<matplotlib.legend.Legend at 0xab20d2cfd0>"
      ]
     },
     "execution_count": 14,
     "metadata": {},
     "output_type": "execute_result"
    },
    {
     "data": {
      "image/png": "[encoded data removed]",
      "text/plain": [
       "<Figure size 432x288 with 1 Axes>"
      ]
     },
     "metadata": {
      "needs_background": "light"
     },
     "output_type": "display_data"
    }
   ],
   "source": [
    "plt.figure()\n",
    "plt.plot(df['accuracy'],label='train_accuracy')\n",
    "plt.plot(df['val_accuracy'],label='val_accuracy')\n",
    "plt.title(\"Accuracy\")\n",
    "plt.xlabel('N_epoch')\n",
    "plt.ylabel('Accuracy')\n",
    "plt.legend()"
   ]
  },
  {
   "cell_type": "code",
   "execution_count": 15,
   "id": "9950b3c0",
   "metadata": {},
   "outputs": [
    {
     "data": {
      "text/plain": [
       "<matplotlib.legend.Legend at 0xab20bc4610>"
      ]
     },
     "execution_count": 15,
     "metadata": {},
     "output_type": "execute_result"
    },
    {
     "data": {
      "image/png": "[encoded data removed]",
      "text/plain": [
       "<Figure size 432x288 with 1 Axes>"
      ]
     },
     "metadata": {
      "needs_background": "light"
     },
     "output_type": "display_data"
    }
   ],
   "source": [
    "plt.figure()\n",
    "plt.plot(df['loss'],label='train_loss')\n",
    "plt.plot(df['val_loss'],label='val_loss')\n",
    "plt.title(\"Loss\")\n",
    "plt.xlabel('N_epoch')\n",
    "plt.ylabel('Loss')\n",
    "plt.legend()"
   ]
  },
  {
   "cell_type": "markdown",
   "id": "4a981f07",
   "metadata": {},
   "source": [
    "## Step 8 - Evaluate best model"
   ]
  },
  {
   "cell_type": "markdown",
   "id": "d777e62a",
   "metadata": {},
   "source": [
    "### 8.1 - Restore best model :"
   ]
  },
  {
   "cell_type": "code",
   "execution_count": 17,
   "id": "07f0cfc2",
   "metadata": {},
   "outputs": [
    {
     "name": "stdout",
     "output_type": "stream",
     "text": [
      "Loaded.\n"
     ]
    }
   ],
   "source": [
    "loaded_model = tf.keras.models.load_model(f'{run_dir}/models/best-model.h5')\n",
    "# best_model.summary()\n",
    "print(\"Loaded.\")"
   ]
  },
  {
   "cell_type": "markdown",
   "id": "b350af1e",
   "metadata": {},
   "source": [
    "### 8.2 - Evaluate it :"
   ]
  },
  {
   "cell_type": "code",
   "execution_count": 18,
   "id": "c21d813d",
   "metadata": {},
   "outputs": [
    {
     "name": "stdout",
     "output_type": "stream",
     "text": [
      "Test loss      : 0.6414\n",
      "Test accuracy  : 0.8177\n"
     ]
    }
   ],
   "source": [
    "score = loaded_model.evaluate(x_test, y_test, verbose=0)\n",
    "\n",
    "print('Test loss      : {:5.4f}'.format(score[0]))\n",
    "print('Test accuracy  : {:5.4f}'.format(score[1]))"
   ]
  },
  {
   "cell_type": "markdown",
   "id": "8fb232c7",
   "metadata": {},
   "source": [
    "**Plot confusion matrix**"
   ]
  },
  {
   "cell_type": "code",
   "execution_count": 19,
   "id": "1a2a3986",
   "metadata": {},
   "outputs": [],
   "source": [
    "y_sigmoid = model.predict(x_test)\n",
    "y_pred    = np.argmax(y_sigmoid, axis=-1)"
   ]
  },
  {
   "cell_type": "code",
   "execution_count": 20,
   "id": "383ca18b",
   "metadata": {},
   "outputs": [
    {
     "data": {
      "text/plain": [
       "<AxesSubplot:>"
      ]
     },
     "execution_count": 20,
     "metadata": {},
     "output_type": "execute_result"
    },
    {
     "data": {
      "image/png": "[encoded data removed]",
      "text/plain": [
       "<Figure size 1440x720 with 2 Axes>"
      ]
     },
     "metadata": {
      "needs_background": "light"
     },
     "output_type": "display_data"
    }
   ],
   "source": [
    "import seaborn as sns\n",
    "plt.figure(figsize=(20,10))\n",
    "sns.heatmap(confusion_matrix(y_test,y_pred), annot=True,fmt='1', cmap='Oranges')"
   ]
  },
  {
   "cell_type": "code",
   "execution_count": null,
   "id": "8c0ec9d3",
   "metadata": {},
   "outputs": [],
   "source": []
  }
 ],
 "metadata": {
  "kernelspec": {
   "display_name": "Python 3 (ipykernel)",
   "language": "python",
   "name": "python3"
  },
  "language_info": {
   "codemirror_mode": {
    "name": "ipython",
    "version": 3
   },
   "file_extension": ".py",
   "mimetype": "text/x-python",
   "name": "python",
   "nbconvert_exporter": "python",
   "pygments_lexer": "ipython3",
   "version": "3.9.7"
  }
 },
 "nbformat": 4,
 "nbformat_minor": 5
}
