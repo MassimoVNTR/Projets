{
 "cells": [
  {
   "cell_type": "markdown",
   "id": "9ae10ed9",
   "metadata": {},
   "source": [
    "\n",
    "# <!-- TITLE --> [IMDB2] - Sentiment analysis with text embedding\n",
    "<!-- DESC --> A very classical example of word embedding with a dataset from Internet Movie Database (IMDB)\n",
    "<!-- AUTHOR : Jean-Luc Parouty (CNRS/SIMaP) -->\n",
    "\n",
    "## Objectives :\n",
    " - The objective is to guess whether film reviews are **positive or negative** based on the analysis of the text. \n",
    " - Understand the management of **textual data** and **sentiment analysis**\n",
    "\n",
    "Original dataset can be find **[there](http://ai.stanford.edu/~amaas/data/sentiment/)**  \n",
    "Note that [IMDb.com](https://imdb.com) offers several easy-to-use [datasets](https://www.imdb.com/interfaces/)  \n",
    "For simplicity's sake, we'll use the dataset directly [embedded in Keras](https://www.tensorflow.org/api_docs/python/tf/keras/datasets)\n",
    "\n",
    "## What we're going to do :\n",
    "\n",
    " - Retrieve data\n",
    " - Preparing the data\n",
    " - Build a model\n",
    " - Train the model\n",
    " - Evaluate the result\n"
   ]
  },
  {
   "cell_type": "markdown",
   "id": "8dc7d7b0",
   "metadata": {},
   "source": [
    "## Step 1 - Import and init\n",
    "### 1.1 - Python stuff"
   ]
  },
  {
   "cell_type": "code",
   "execution_count": 2,
   "id": "8d85ebcd",
   "metadata": {},
   "outputs": [],
   "source": [
    "import numpy as np\n",
    "\n",
    "import tensorflow as tf\n",
    "import tensorflow.keras as keras\n",
    "import tensorflow.keras.datasets.imdb as imdb\n",
    "\n",
    "import matplotlib.pyplot as plt\n",
    "import matplotlib\n",
    "\n",
    "import os,sys,h5py,json\n",
    "from importlib import reload\n",
    "\n",
    "\n",
    "run_dir = './run/IMDB2'\n",
    "datasets_dir = 'fidle-datasets'"
   ]
  },
  {
   "cell_type": "markdown",
   "id": "b502c034",
   "metadata": {},
   "source": [
    "### 1.2 - Parameters\n",
    "The words in the vocabulary are classified from the most frequent to the rarest.  \n",
    "`vocab_size` is the number of words we will remember in our vocabulary (the other words will be considered as unknown).  \n",
    "`hide_most_frequently` is the number of ignored words, among the most common ones  \n",
    "`review_len` is the review length  \n",
    "`dense_vector_size` is the size of the generated dense vectors  \n",
    "`output_dir` is where we will go to save our dictionaries. (./data is a good choice)\\\n",
    "`fit_verbosity` is the verbosity during training : 0 = silent, 1 = progress bar, 2 = one line per epoch"
   ]
  },
  {
   "cell_type": "code",
   "execution_count": 4,
   "id": "55a0e188",
   "metadata": {},
   "outputs": [],
   "source": [
    "vocab_size           = 10000\n",
    "hide_most_frequently = 0\n",
    "\n",
    "review_len           = 256\n",
    "dense_vector_size    = 16\n",
    "\n",
    "epochs               = 30\n",
    "batch_size           = 512\n",
    "\n",
    "output_dir           = './data'\n",
    "fit_verbosity        = 1"
   ]
  },
  {
   "cell_type": "markdown",
   "id": "a6503e91",
   "metadata": {},
   "source": [
    "## Step 2 - Retrieve data\n",
    "\n",
    "IMDb dataset can bet get directly from Keras - see [documentation](https://www.tensorflow.org/api_docs/python/tf/keras/datasets)  \n",
    "Note : Due to their nature, textual data can be somewhat complex.\n",
    "\n",
    "For more details about the management of this dataset, see notebook [IMDB1](01-One-hot-encoding.ipynb)"
   ]
  },
  {
   "cell_type": "markdown",
   "id": "5aa7a2d2",
   "metadata": {},
   "source": [
    "### 2.2 - Get dataset"
   ]
  },
  {
   "cell_type": "code",
   "execution_count": 5,
   "id": "6094681b",
   "metadata": {},
   "outputs": [
    {
     "name": "stdout",
     "output_type": "stream",
     "text": [
      "x_train : (25000,)  y_train : (25000,)\n",
      "x_test  : (25000,)  y_test  : (25000,)\n"
     ]
    }
   ],
   "source": [
    "(x_train, y_train), (x_test, y_test) = imdb.load_data( num_words=vocab_size, skip_top=hide_most_frequently, seed= 42,)\n",
    "\n",
    "y_train = np.asarray(y_train).astype('float32')\n",
    "y_test  = np.asarray(y_test ).astype('float32')\n",
    "\n",
    "# ---- About\n",
    "#\n",
    "\n",
    "print(\"x_train : {}  y_train : {}\".format(x_train.shape, y_train.shape))\n",
    "print(\"x_test  : {}  y_test  : {}\".format(x_test.shape,  y_test.shape))"
   ]
  },
  {
   "cell_type": "markdown",
   "id": "dc5d665f",
   "metadata": {},
   "source": [
    "### 2.2 - Load dictionary\n",
    "Not essential, but nice if you want to take a closer look at our reviews ;-)"
   ]
  },
  {
   "cell_type": "code",
   "execution_count": 6,
   "id": "477942ea",
   "metadata": {},
   "outputs": [],
   "source": [
    "# ---- Retrieve dictionary {word:index}, and encode it in ascii\n",
    "#      Shift the dictionary from +3\n",
    "#      Add <pad>, <start> and <unknown> tags\n",
    "#      Create a reverse dictionary : {index:word}\n",
    "#\n",
    "word_index = imdb.get_word_index()\n",
    "word_index = {w:(i+3) for w,i in word_index.items()}\n",
    "word_index.update( {'<pad>':0, '<start>':1, '<unknown>':2, '<undef>':3,} )\n",
    "index_word = {index:word for word,index in word_index.items()} \n",
    "\n",
    "# ---- A nice function to transpose :\n",
    "#\n",
    "def dataset2text(review):\n",
    "    return ' '.join([index_word.get(i, '?') for i in review])"
   ]
  },
  {
   "cell_type": "markdown",
   "id": "62b70764",
   "metadata": {},
   "source": [
    "## Step 3 - Preprocess the data (padding)\n",
    "In order to be processed by an NN, all entries must have the **same length.**  \n",
    "We chose a review length of **review_len**  \n",
    "We will therefore complete them with a padding (of \\<pad\\>\\)  "
   ]
  },
  {
   "cell_type": "code",
   "execution_count": 8,
   "id": "aaadcd7b",
   "metadata": {},
   "outputs": [
    {
     "name": "stdout",
     "output_type": "stream",
     "text": [
      "After padding :\n",
      "[   1   14   22 1367   53  206  159    4  636  898   74   26   11  436\n",
      "  363  108    7   14  432   14   22    9 1055   34 8599    2    5  381\n",
      " 3705 4509   14  768   47  839   25  111 1517 2579 1991  438 2663  587\n",
      "    4  280  725    6   58   11 2714  201    4  206   16  702    5 5176\n",
      "   19  480 5920  157   13   64  219    4    2   11  107  665 1212   39\n",
      "    4  206    4   65  410   16  565    5   24   43  343   17 5602    8\n",
      "  169  101   85  206  108    8 3008   14   25  215  168   18    6 2579\n",
      " 1991  438    2   11  129 1609   36   26   66  290 3303   46    5  633\n",
      "  115 4363    0    0    0    0    0    0    0    0    0    0    0    0\n",
      "    0    0    0    0    0    0    0    0    0    0    0    0    0    0\n",
      "    0    0    0    0    0    0    0    0    0    0    0    0    0    0\n",
      "    0    0    0    0    0    0    0    0    0    0    0    0    0    0\n",
      "    0    0    0    0    0    0    0    0    0    0    0    0    0    0\n",
      "    0    0    0    0    0    0    0    0    0    0    0    0    0    0\n",
      "    0    0    0    0    0    0    0    0    0    0    0    0    0    0\n",
      "    0    0    0    0    0    0    0    0    0    0    0    0    0    0\n",
      "    0    0    0    0    0    0    0    0    0    0    0    0    0    0\n",
      "    0    0    0    0    0    0    0    0    0    0    0    0    0    0\n",
      "    0    0    0    0]\n"
     ]
    }
   ],
   "source": [
    "x_train = keras.preprocessing.sequence.pad_sequences(x_train,\n",
    "                                                     value   = 0,\n",
    "                                                     padding = 'post',\n",
    "                                                     maxlen  = review_len)\n",
    "\n",
    "x_test  = keras.preprocessing.sequence.pad_sequences(x_test,\n",
    "                                                     value   = 0 ,\n",
    "                                                     padding = 'post',\n",
    "                                                     maxlen  = review_len)\n",
    "\n",
    "print('After padding :')\n",
    "print(x_train[12])"
   ]
  },
  {
   "cell_type": "markdown",
   "id": "ae2db8c0",
   "metadata": {},
   "source": [
    "**Save dataset and dictionary (For future use but not mandatory)**"
   ]
  },
  {
   "cell_type": "code",
   "execution_count": 9,
   "id": "c1785574",
   "metadata": {},
   "outputs": [
    {
     "name": "stdout",
     "output_type": "stream",
     "text": [
      "Saved.\n"
     ]
    }
   ],
   "source": [
    "# ---- Write dataset in a h5 file, could be usefull\n",
    "#\n",
    "def mkdir(path):\n",
    "    os.makedirs(path, mode=0o750, exist_ok=True)\n",
    "    \n",
    "mkdir(output_dir)\n",
    "\n",
    "with h5py.File(f'{output_dir}/dataset_imdb.h5', 'w') as f:\n",
    "    f.create_dataset(\"x_train\",    data=x_train)\n",
    "    f.create_dataset(\"y_train\",    data=y_train)\n",
    "    f.create_dataset(\"x_test\",     data=x_test)\n",
    "    f.create_dataset(\"y_test\",     data=y_test)\n",
    "\n",
    "with open(f'{output_dir}/word_index.json', 'w') as fp:\n",
    "    json.dump(word_index, fp)\n",
    "\n",
    "with open(f'{output_dir}/index_word.json', 'w') as fp:\n",
    "    json.dump(index_word, fp)\n",
    "\n",
    "print('Saved.')"
   ]
  },
  {
   "cell_type": "markdown",
   "id": "b5a26a9c",
   "metadata": {},
   "source": [
    "## Step 4 - Build the model\n",
    "\n",
    "More documentation about this model functions :\n",
    " - [Embedding](https://www.tensorflow.org/api_docs/python/tf/keras/layers/Embedding)\n",
    " - [GlobalAveragePooling1D](https://www.tensorflow.org/api_docs/python/tf/keras/layers/GlobalAveragePooling1D)"
   ]
  },
  {
   "cell_type": "code",
   "execution_count": 10,
   "id": "e2f96285",
   "metadata": {},
   "outputs": [],
   "source": [
    "def get_model(vocab_size=10000, dense_vector_size=32, review_len=256):\n",
    "    \n",
    "    model = keras.Sequential()\n",
    "    model.add(keras.layers.Input( shape=(review_len,) ))\n",
    "    model.add(keras.layers.Embedding(input_dim    = vocab_size, \n",
    "                                     output_dim   = dense_vector_size, \n",
    "                                     input_length = review_len))\n",
    "    model.add(keras.layers.GlobalAveragePooling1D())\n",
    "    model.add(keras.layers.Dense(dense_vector_size, activation='relu'))\n",
    "    model.add(keras.layers.Dense(1,                 activation='sigmoid'))\n",
    "\n",
    "    model.compile(optimizer = 'adam',\n",
    "                  loss      = 'binary_crossentropy',\n",
    "                  metrics   = ['accuracy'])\n",
    "    return model"
   ]
  },
  {
   "cell_type": "markdown",
   "id": "22c36681",
   "metadata": {},
   "source": [
    "## Step 5 - Train the model\n",
    "### 5.1 - Get it"
   ]
  },
  {
   "cell_type": "code",
   "execution_count": 11,
   "id": "be1ee1c7",
   "metadata": {},
   "outputs": [
    {
     "name": "stdout",
     "output_type": "stream",
     "text": [
      "Model: \"sequential\"\n",
      "_________________________________________________________________\n",
      " Layer (type)                Output Shape              Param #   \n",
      "=================================================================\n",
      " embedding (Embedding)       (None, 256, 16)           160000    \n",
      "                                                                 \n",
      " global_average_pooling1d (G  (None, 16)               0         \n",
      " lobalAveragePooling1D)                                          \n",
      "                                                                 \n",
      " dense (Dense)               (None, 16)                272       \n",
      "                                                                 \n",
      " dense_1 (Dense)             (None, 1)                 17        \n",
      "                                                                 \n",
      "=================================================================\n",
      "Total params: 160,289\n",
      "Trainable params: 160,289\n",
      "Non-trainable params: 0\n",
      "_________________________________________________________________\n"
     ]
    }
   ],
   "source": [
    "model = get_model(vocab_size, dense_vector_size, review_len)\n",
    "\n",
    "model.summary()"
   ]
  },
  {
   "cell_type": "markdown",
   "id": "1dd3d18a",
   "metadata": {},
   "source": [
    "### 5.2 - Add callback"
   ]
  },
  {
   "cell_type": "code",
   "execution_count": 12,
   "id": "4fa38738",
   "metadata": {},
   "outputs": [],
   "source": [
    "os.makedirs(f'{run_dir}/models',   mode=0o750, exist_ok=True)\n",
    "save_dir = f'{run_dir}/models/best_model.h5'\n",
    "savemodel_callback = tf.keras.callbacks.ModelCheckpoint(filepath=save_dir, verbose=0, save_best_only=True)"
   ]
  },
  {
   "cell_type": "markdown",
   "id": "034d20ee",
   "metadata": {},
   "source": [
    "### 5.1 - Train it"
   ]
  },
  {
   "cell_type": "code",
   "execution_count": 13,
   "id": "34879ea8",
   "metadata": {},
   "outputs": [
    {
     "name": "stdout",
     "output_type": "stream",
     "text": [
      "Epoch 1/30\n",
      "49/49 [==============================] - 4s 25ms/step - loss: 0.6911 - accuracy: 0.5527 - val_loss: 0.6869 - val_accuracy: 0.6230\n",
      "Epoch 2/30\n",
      "49/49 [==============================] - 1s 21ms/step - loss: 0.6761 - accuracy: 0.6581 - val_loss: 0.6621 - val_accuracy: 0.7480\n",
      "Epoch 3/30\n",
      "49/49 [==============================] - 1s 21ms/step - loss: 0.6346 - accuracy: 0.7669 - val_loss: 0.6094 - val_accuracy: 0.7867\n",
      "Epoch 4/30\n",
      "49/49 [==============================] - 1s 20ms/step - loss: 0.5655 - accuracy: 0.8080 - val_loss: 0.5368 - val_accuracy: 0.8121\n",
      "Epoch 5/30\n",
      "49/49 [==============================] - 1s 21ms/step - loss: 0.4854 - accuracy: 0.8400 - val_loss: 0.4675 - val_accuracy: 0.8346\n",
      "Epoch 6/30\n",
      "49/49 [==============================] - 1s 20ms/step - loss: 0.4148 - accuracy: 0.8614 - val_loss: 0.4130 - val_accuracy: 0.8488\n",
      "Epoch 7/30\n",
      "49/49 [==============================] - 1s 21ms/step - loss: 0.3630 - accuracy: 0.8755 - val_loss: 0.3748 - val_accuracy: 0.8567\n",
      "Epoch 8/30\n",
      "49/49 [==============================] - 1s 23ms/step - loss: 0.3244 - accuracy: 0.8868 - val_loss: 0.3503 - val_accuracy: 0.8638\n",
      "Epoch 9/30\n",
      "49/49 [==============================] - 1s 22ms/step - loss: 0.2962 - accuracy: 0.8936 - val_loss: 0.3312 - val_accuracy: 0.8678\n",
      "Epoch 10/30\n",
      "49/49 [==============================] - 1s 21ms/step - loss: 0.2739 - accuracy: 0.9014 - val_loss: 0.3177 - val_accuracy: 0.8716\n",
      "Epoch 11/30\n",
      "49/49 [==============================] - 1s 20ms/step - loss: 0.2554 - accuracy: 0.9081 - val_loss: 0.3080 - val_accuracy: 0.8749\n",
      "Epoch 12/30\n",
      "49/49 [==============================] - 1s 21ms/step - loss: 0.2401 - accuracy: 0.9135 - val_loss: 0.3014 - val_accuracy: 0.8766\n",
      "Epoch 13/30\n",
      "49/49 [==============================] - 1s 20ms/step - loss: 0.2264 - accuracy: 0.9190 - val_loss: 0.2954 - val_accuracy: 0.8780\n",
      "Epoch 14/30\n",
      "49/49 [==============================] - 1s 20ms/step - loss: 0.2146 - accuracy: 0.9231 - val_loss: 0.2917 - val_accuracy: 0.8802\n",
      "Epoch 15/30\n",
      "49/49 [==============================] - 1s 22ms/step - loss: 0.2046 - accuracy: 0.9262 - val_loss: 0.2891 - val_accuracy: 0.8817\n",
      "Epoch 16/30\n",
      "49/49 [==============================] - 1s 22ms/step - loss: 0.1945 - accuracy: 0.9309 - val_loss: 0.2878 - val_accuracy: 0.8823\n",
      "Epoch 17/30\n",
      "49/49 [==============================] - 1s 20ms/step - loss: 0.1860 - accuracy: 0.9339 - val_loss: 0.2886 - val_accuracy: 0.8814\n",
      "Epoch 18/30\n",
      "49/49 [==============================] - 1s 21ms/step - loss: 0.1784 - accuracy: 0.9374 - val_loss: 0.2867 - val_accuracy: 0.8833\n",
      "Epoch 19/30\n",
      "49/49 [==============================] - 1s 20ms/step - loss: 0.1707 - accuracy: 0.9398 - val_loss: 0.2877 - val_accuracy: 0.8825\n",
      "Epoch 20/30\n",
      "49/49 [==============================] - 1s 20ms/step - loss: 0.1638 - accuracy: 0.9440 - val_loss: 0.2893 - val_accuracy: 0.8830\n",
      "Epoch 21/30\n",
      "49/49 [==============================] - 1s 20ms/step - loss: 0.1578 - accuracy: 0.9460 - val_loss: 0.2917 - val_accuracy: 0.8825\n",
      "Epoch 22/30\n",
      "49/49 [==============================] - 1s 20ms/step - loss: 0.1521 - accuracy: 0.9479 - val_loss: 0.2940 - val_accuracy: 0.8815\n",
      "Epoch 23/30\n",
      "49/49 [==============================] - 1s 20ms/step - loss: 0.1469 - accuracy: 0.9497 - val_loss: 0.2961 - val_accuracy: 0.8821\n",
      "Epoch 24/30\n",
      "49/49 [==============================] - 1s 22ms/step - loss: 0.1408 - accuracy: 0.9533 - val_loss: 0.2992 - val_accuracy: 0.8816\n",
      "Epoch 25/30\n",
      "49/49 [==============================] - 1s 21ms/step - loss: 0.1357 - accuracy: 0.9550 - val_loss: 0.3027 - val_accuracy: 0.8812\n",
      "Epoch 26/30\n",
      "49/49 [==============================] - 1s 21ms/step - loss: 0.1314 - accuracy: 0.9566 - val_loss: 0.3069 - val_accuracy: 0.8792\n",
      "Epoch 27/30\n",
      "49/49 [==============================] - 1s 21ms/step - loss: 0.1263 - accuracy: 0.9582 - val_loss: 0.3107 - val_accuracy: 0.8793\n",
      "Epoch 28/30\n",
      "49/49 [==============================] - 1s 20ms/step - loss: 0.1220 - accuracy: 0.9606 - val_loss: 0.3189 - val_accuracy: 0.8756\n",
      "Epoch 29/30\n",
      "49/49 [==============================] - 1s 21ms/step - loss: 0.1182 - accuracy: 0.9626 - val_loss: 0.3198 - val_accuracy: 0.8774\n",
      "Epoch 30/30\n",
      "49/49 [==============================] - 1s 19ms/step - loss: 0.1140 - accuracy: 0.9644 - val_loss: 0.3260 - val_accuracy: 0.8767\n",
      "Wall time: 36.2 s\n"
     ]
    }
   ],
   "source": [
    "%%time\n",
    "\n",
    "history = model.fit(x_train,\n",
    "                    y_train,\n",
    "                    epochs          = epochs,\n",
    "                    batch_size      = batch_size,\n",
    "                    validation_data = (x_test, y_test),\n",
    "                    verbose         = fit_verbosity,\n",
    "                    callbacks       = [savemodel_callback])"
   ]
  },
  {
   "cell_type": "markdown",
   "id": "e773dc40",
   "metadata": {},
   "source": [
    "## Step 6 - Evaluate\n",
    "### 6.1 - Training history"
   ]
  },
  {
   "cell_type": "code",
   "execution_count": 15,
   "id": "8e37a786",
   "metadata": {},
   "outputs": [
    {
     "data": {
      "text/html": [
       "<div>\n",
       "<style scoped>\n",
       "    .dataframe tbody tr th:only-of-type {\n",
       "        vertical-align: middle;\n",
       "    }\n",
       "\n",
       "    .dataframe tbody tr th {\n",
       "        vertical-align: top;\n",
       "    }\n",
       "\n",
       "    .dataframe thead th {\n",
       "        text-align: right;\n",
       "    }\n",
       "</style>\n",
       "<table border=\"1\" class=\"dataframe\">\n",
       "  <thead>\n",
       "    <tr style=\"text-align: right;\">\n",
       "      <th></th>\n",
       "      <th>loss</th>\n",
       "      <th>accuracy</th>\n",
       "      <th>val_loss</th>\n",
       "      <th>val_accuracy</th>\n",
       "    </tr>\n",
       "  </thead>\n",
       "  <tbody>\n",
       "    <tr>\n",
       "      <th>0</th>\n",
       "      <td>0.691066</td>\n",
       "      <td>0.55272</td>\n",
       "      <td>0.686886</td>\n",
       "      <td>0.62296</td>\n",
       "    </tr>\n",
       "    <tr>\n",
       "      <th>1</th>\n",
       "      <td>0.676073</td>\n",
       "      <td>0.65812</td>\n",
       "      <td>0.662095</td>\n",
       "      <td>0.74804</td>\n",
       "    </tr>\n",
       "    <tr>\n",
       "      <th>2</th>\n",
       "      <td>0.634646</td>\n",
       "      <td>0.76692</td>\n",
       "      <td>0.609448</td>\n",
       "      <td>0.78672</td>\n",
       "    </tr>\n",
       "    <tr>\n",
       "      <th>3</th>\n",
       "      <td>0.565468</td>\n",
       "      <td>0.80804</td>\n",
       "      <td>0.536775</td>\n",
       "      <td>0.81212</td>\n",
       "    </tr>\n",
       "    <tr>\n",
       "      <th>4</th>\n",
       "      <td>0.485378</td>\n",
       "      <td>0.84004</td>\n",
       "      <td>0.467541</td>\n",
       "      <td>0.83456</td>\n",
       "    </tr>\n",
       "    <tr>\n",
       "      <th>5</th>\n",
       "      <td>0.414849</td>\n",
       "      <td>0.86144</td>\n",
       "      <td>0.413011</td>\n",
       "      <td>0.84876</td>\n",
       "    </tr>\n",
       "    <tr>\n",
       "      <th>6</th>\n",
       "      <td>0.363001</td>\n",
       "      <td>0.87548</td>\n",
       "      <td>0.374828</td>\n",
       "      <td>0.85668</td>\n",
       "    </tr>\n",
       "    <tr>\n",
       "      <th>7</th>\n",
       "      <td>0.324447</td>\n",
       "      <td>0.88676</td>\n",
       "      <td>0.350326</td>\n",
       "      <td>0.86376</td>\n",
       "    </tr>\n",
       "    <tr>\n",
       "      <th>8</th>\n",
       "      <td>0.296184</td>\n",
       "      <td>0.89356</td>\n",
       "      <td>0.331209</td>\n",
       "      <td>0.86776</td>\n",
       "    </tr>\n",
       "    <tr>\n",
       "      <th>9</th>\n",
       "      <td>0.273863</td>\n",
       "      <td>0.90140</td>\n",
       "      <td>0.317720</td>\n",
       "      <td>0.87156</td>\n",
       "    </tr>\n",
       "    <tr>\n",
       "      <th>10</th>\n",
       "      <td>0.255420</td>\n",
       "      <td>0.90808</td>\n",
       "      <td>0.308030</td>\n",
       "      <td>0.87492</td>\n",
       "    </tr>\n",
       "    <tr>\n",
       "      <th>11</th>\n",
       "      <td>0.240131</td>\n",
       "      <td>0.91352</td>\n",
       "      <td>0.301417</td>\n",
       "      <td>0.87660</td>\n",
       "    </tr>\n",
       "    <tr>\n",
       "      <th>12</th>\n",
       "      <td>0.226387</td>\n",
       "      <td>0.91904</td>\n",
       "      <td>0.295440</td>\n",
       "      <td>0.87800</td>\n",
       "    </tr>\n",
       "    <tr>\n",
       "      <th>13</th>\n",
       "      <td>0.214573</td>\n",
       "      <td>0.92308</td>\n",
       "      <td>0.291700</td>\n",
       "      <td>0.88024</td>\n",
       "    </tr>\n",
       "    <tr>\n",
       "      <th>14</th>\n",
       "      <td>0.204556</td>\n",
       "      <td>0.92616</td>\n",
       "      <td>0.289125</td>\n",
       "      <td>0.88168</td>\n",
       "    </tr>\n",
       "    <tr>\n",
       "      <th>15</th>\n",
       "      <td>0.194549</td>\n",
       "      <td>0.93092</td>\n",
       "      <td>0.287756</td>\n",
       "      <td>0.88232</td>\n",
       "    </tr>\n",
       "    <tr>\n",
       "      <th>16</th>\n",
       "      <td>0.185953</td>\n",
       "      <td>0.93392</td>\n",
       "      <td>0.288574</td>\n",
       "      <td>0.88140</td>\n",
       "    </tr>\n",
       "    <tr>\n",
       "      <th>17</th>\n",
       "      <td>0.178441</td>\n",
       "      <td>0.93740</td>\n",
       "      <td>0.286720</td>\n",
       "      <td>0.88328</td>\n",
       "    </tr>\n",
       "    <tr>\n",
       "      <th>18</th>\n",
       "      <td>0.170699</td>\n",
       "      <td>0.93976</td>\n",
       "      <td>0.287685</td>\n",
       "      <td>0.88252</td>\n",
       "    </tr>\n",
       "    <tr>\n",
       "      <th>19</th>\n",
       "      <td>0.163842</td>\n",
       "      <td>0.94396</td>\n",
       "      <td>0.289308</td>\n",
       "      <td>0.88296</td>\n",
       "    </tr>\n",
       "    <tr>\n",
       "      <th>20</th>\n",
       "      <td>0.157823</td>\n",
       "      <td>0.94596</td>\n",
       "      <td>0.291651</td>\n",
       "      <td>0.88248</td>\n",
       "    </tr>\n",
       "    <tr>\n",
       "      <th>21</th>\n",
       "      <td>0.152115</td>\n",
       "      <td>0.94792</td>\n",
       "      <td>0.294032</td>\n",
       "      <td>0.88148</td>\n",
       "    </tr>\n",
       "    <tr>\n",
       "      <th>22</th>\n",
       "      <td>0.146942</td>\n",
       "      <td>0.94972</td>\n",
       "      <td>0.296096</td>\n",
       "      <td>0.88208</td>\n",
       "    </tr>\n",
       "    <tr>\n",
       "      <th>23</th>\n",
       "      <td>0.140826</td>\n",
       "      <td>0.95332</td>\n",
       "      <td>0.299172</td>\n",
       "      <td>0.88156</td>\n",
       "    </tr>\n",
       "    <tr>\n",
       "      <th>24</th>\n",
       "      <td>0.135652</td>\n",
       "      <td>0.95504</td>\n",
       "      <td>0.302705</td>\n",
       "      <td>0.88124</td>\n",
       "    </tr>\n",
       "    <tr>\n",
       "      <th>25</th>\n",
       "      <td>0.131415</td>\n",
       "      <td>0.95656</td>\n",
       "      <td>0.306868</td>\n",
       "      <td>0.87924</td>\n",
       "    </tr>\n",
       "    <tr>\n",
       "      <th>26</th>\n",
       "      <td>0.126343</td>\n",
       "      <td>0.95816</td>\n",
       "      <td>0.310662</td>\n",
       "      <td>0.87932</td>\n",
       "    </tr>\n",
       "    <tr>\n",
       "      <th>27</th>\n",
       "      <td>0.121964</td>\n",
       "      <td>0.96056</td>\n",
       "      <td>0.318908</td>\n",
       "      <td>0.87556</td>\n",
       "    </tr>\n",
       "    <tr>\n",
       "      <th>28</th>\n",
       "      <td>0.118240</td>\n",
       "      <td>0.96256</td>\n",
       "      <td>0.319834</td>\n",
       "      <td>0.87736</td>\n",
       "    </tr>\n",
       "    <tr>\n",
       "      <th>29</th>\n",
       "      <td>0.114033</td>\n",
       "      <td>0.96440</td>\n",
       "      <td>0.325960</td>\n",
       "      <td>0.87672</td>\n",
       "    </tr>\n",
       "  </tbody>\n",
       "</table>\n",
       "</div>"
      ],
      "text/plain": [
       "        loss  accuracy  val_loss  val_accuracy\n",
       "0   0.691066   0.55272  0.686886       0.62296\n",
       "1   0.676073   0.65812  0.662095       0.74804\n",
       "2   0.634646   0.76692  0.609448       0.78672\n",
       "3   0.565468   0.80804  0.536775       0.81212\n",
       "4   0.485378   0.84004  0.467541       0.83456\n",
       "5   0.414849   0.86144  0.413011       0.84876\n",
       "6   0.363001   0.87548  0.374828       0.85668\n",
       "7   0.324447   0.88676  0.350326       0.86376\n",
       "8   0.296184   0.89356  0.331209       0.86776\n",
       "9   0.273863   0.90140  0.317720       0.87156\n",
       "10  0.255420   0.90808  0.308030       0.87492\n",
       "11  0.240131   0.91352  0.301417       0.87660\n",
       "12  0.226387   0.91904  0.295440       0.87800\n",
       "13  0.214573   0.92308  0.291700       0.88024\n",
       "14  0.204556   0.92616  0.289125       0.88168\n",
       "15  0.194549   0.93092  0.287756       0.88232\n",
       "16  0.185953   0.93392  0.288574       0.88140\n",
       "17  0.178441   0.93740  0.286720       0.88328\n",
       "18  0.170699   0.93976  0.287685       0.88252\n",
       "19  0.163842   0.94396  0.289308       0.88296\n",
       "20  0.157823   0.94596  0.291651       0.88248\n",
       "21  0.152115   0.94792  0.294032       0.88148\n",
       "22  0.146942   0.94972  0.296096       0.88208\n",
       "23  0.140826   0.95332  0.299172       0.88156\n",
       "24  0.135652   0.95504  0.302705       0.88124\n",
       "25  0.131415   0.95656  0.306868       0.87924\n",
       "26  0.126343   0.95816  0.310662       0.87932\n",
       "27  0.121964   0.96056  0.318908       0.87556\n",
       "28  0.118240   0.96256  0.319834       0.87736\n",
       "29  0.114033   0.96440  0.325960       0.87672"
      ]
     },
     "metadata": {},
     "output_type": "display_data"
    }
   ],
   "source": [
    "import pandas as pd\n",
    "df=pd.DataFrame(data=history.history)\n",
    "display(df)"
   ]
  },
  {
   "cell_type": "code",
   "execution_count": 16,
   "id": "1b03111d",
   "metadata": {},
   "outputs": [
    {
     "data": {
      "text/plain": [
       "<matplotlib.legend.Legend at 0x912d57700>"
      ]
     },
     "execution_count": 16,
     "metadata": {},
     "output_type": "execute_result"
    },
    {
     "data": {
      "image/png": "[encoded data removed]",
      "text/plain": [
       "<Figure size 432x288 with 1 Axes>"
      ]
     },
     "metadata": {
      "needs_background": "light"
     },
     "output_type": "display_data"
    }
   ],
   "source": [
    "plt.figure()\n",
    "plt.plot(df['accuracy'],label='train_accuracy')\n",
    "plt.plot(df['val_accuracy'],label='val_accuracy')\n",
    "plt.title(\"Accuracy\")\n",
    "plt.xlabel('N_epoch')\n",
    "plt.ylabel('Accuracy')\n",
    "plt.legend()"
   ]
  },
  {
   "cell_type": "code",
   "execution_count": 17,
   "id": "68bc3834",
   "metadata": {},
   "outputs": [
    {
     "data": {
      "text/plain": [
       "<matplotlib.legend.Legend at 0x91295cdc0>"
      ]
     },
     "execution_count": 17,
     "metadata": {},
     "output_type": "execute_result"
    },
    {
     "data": {
      "image/png": "[encoded data removed]",
      "text/plain": [
       "<Figure size 432x288 with 1 Axes>"
      ]
     },
     "metadata": {
      "needs_background": "light"
     },
     "output_type": "display_data"
    }
   ],
   "source": [
    "plt.figure()\n",
    "plt.plot(df['loss'],label='train_loss')\n",
    "plt.plot(df['val_loss'],label='val_loss')\n",
    "plt.title(\"Loss\")\n",
    "plt.xlabel('N_epoch')\n",
    "plt.ylabel('Loss')\n",
    "plt.legend()\n"
   ]
  },
  {
   "cell_type": "markdown",
   "id": "17c37c5b",
   "metadata": {},
   "source": [
    "### 6.2 - Reload and evaluate best model"
   ]
  },
  {
   "cell_type": "code",
   "execution_count": 22,
   "id": "e6cb0dac",
   "metadata": {},
   "outputs": [],
   "source": [
    "from IPython.display import Markdown\n",
    "\n",
    "def plot_donut(values, labels, colors=[\"lightsteelblue\",\"coral\"], figsize=(6,6), title=None):\n",
    "    \"\"\"\n",
    "    Draw a donut\n",
    "    args:\n",
    "        values   : list of values\n",
    "        labels   : list of labels\n",
    "        colors   : list of color ([\"lightsteelblue\",\"coral\"])\n",
    "        figsize  : size of figure ( (6,6) )\n",
    "    return:\n",
    "        nothing\n",
    "    \"\"\"\n",
    "    # ---- Title or not\n",
    "    if title != None :  display(Markdown(title))\n",
    "    # ---- Donut\n",
    "    plt.figure(figsize=figsize)\n",
    "    # ---- Draw a pie  chart..\n",
    "    plt.pie(values, labels=labels, \n",
    "            colors = colors, autopct='%1.1f%%', startangle=70, pctdistance=0.85,\n",
    "            textprops={'fontsize': 18},\n",
    "            wedgeprops={\"edgecolor\":\"w\",'linewidth': 5, 'linestyle': 'solid', 'antialiased': True})\n",
    "    # ---- ..with a white circle\n",
    "    circle = plt.Circle((0,0),0.70,fc='white')\n",
    "    ax = plt.gca()\n",
    "    ax.add_artist(circle)\n",
    "    # Equal aspect ratio ensures that pie is drawn as a circle\n",
    "    plt.axis('equal')  \n",
    "    plt.tight_layout()\n",
    "    plt.show()"
   ]
  },
  {
   "cell_type": "code",
   "execution_count": 25,
   "id": "ec27c74e",
   "metadata": {},
   "outputs": [
    {
     "name": "stdout",
     "output_type": "stream",
     "text": [
      "x_test / loss      : 0.2867\n",
      "x_test / accuracy  : 0.8833\n"
     ]
    },
    {
     "data": {
      "text/markdown": [
       "#### Accuracy donut is :"
      ],
      "text/plain": [
       "<IPython.core.display.Markdown object>"
      ]
     },
     "metadata": {},
     "output_type": "display_data"
    },
    {
     "data": {
      "image/png": "[encoded data removed]",
      "text/plain": [
       "<Figure size 432x432 with 1 Axes>"
      ]
     },
     "metadata": {},
     "output_type": "display_data"
    },
    {
     "name": "stdout",
     "output_type": "stream",
     "text": [
      "confusion_matrix:\n"
     ]
    },
    {
     "data": {
      "text/plain": [
       "<AxesSubplot:>"
      ]
     },
     "execution_count": 25,
     "metadata": {},
     "output_type": "execute_result"
    },
    {
     "data": {
      "image/png": "[encoded data removed]",
      "text/plain": [
       "<Figure size 1440x720 with 2 Axes>"
      ]
     },
     "metadata": {
      "needs_background": "light"
     },
     "output_type": "display_data"
    }
   ],
   "source": [
    "model = keras.models.load_model(f'{run_dir}/models/best_model.h5')\n",
    "\n",
    "# ---- Evaluate\n",
    "score  = model.evaluate(x_test, y_test, verbose=0)\n",
    "\n",
    "print('x_test / loss      : {:5.4f}'.format(score[0]))\n",
    "print('x_test / accuracy  : {:5.4f}'.format(score[1]))\n",
    "\n",
    "values=[score[1], 1-score[1]]\n",
    "plot_donut(values,[\"Accuracy\",\"Errors\"], title=\"#### Accuracy donut is :\")\n",
    "\n",
    "# ---- Confusion matrix\n",
    "\n",
    "from sklearn.metrics import confusion_matrix\n",
    "\n",
    "y_sigmoid = model.predict(x_test)\n",
    "\n",
    "y_pred = y_sigmoid.copy()\n",
    "y_pred[ y_sigmoid< 0.5 ] = 0\n",
    "y_pred[ y_sigmoid>=0.5 ] = 1    \n",
    "\n",
    "print('confusion_matrix:')\n",
    "\n",
    "import seaborn as sns\n",
    "plt.figure(figsize=(20,10))\n",
    "sns.heatmap(confusion_matrix(y_test,y_pred), annot=True,fmt='1', cmap='Oranges')\n"
   ]
  },
  {
   "cell_type": "code",
   "execution_count": null,
   "id": "d2bf89a7",
   "metadata": {},
   "outputs": [],
   "source": []
  }
 ],
 "metadata": {
  "kernelspec": {
   "display_name": "Python 3 (ipykernel)",
   "language": "python",
   "name": "python3"
  },
  "language_info": {
   "codemirror_mode": {
    "name": "ipython",
    "version": 3
   },
   "file_extension": ".py",
   "mimetype": "text/x-python",
   "name": "python",
   "nbconvert_exporter": "python",
   "pygments_lexer": "ipython3",
   "version": "3.9.7"
  }
 },
 "nbformat": 4,
 "nbformat_minor": 5
}
