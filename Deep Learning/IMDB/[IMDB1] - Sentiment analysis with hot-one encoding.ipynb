{
 "cells": [
  {
   "cell_type": "markdown",
   "id": "95481dbc",
   "metadata": {},
   "source": [
    "# <!-- TITLE --> [IMDB1] - Sentiment analysis with hot-one encoding\n",
    "<!-- DESC --> A basic example of sentiment analysis with sparse encoding, using a dataset from Internet Movie Database (IMDB)\n",
    "<!-- AUTHOR : Jean-Luc Parouty (CNRS/SIMaP) -->\n",
    "\n",
    "## Objectives :\n",
    " - The objective is to guess whether film reviews are **positive or negative** based on the analysis of the text. \n",
    " - Understand the management of **textual data** and **sentiment analysis**\n",
    "\n",
    "Original dataset can be find **[there](http://ai.stanford.edu/~amaas/data/sentiment/)**  \n",
    "Note that [IMDb.com](https://imdb.com) offers several easy-to-use [datasets](https://www.imdb.com/interfaces/)  \n",
    "For simplicity's sake, we'll use the dataset directly [embedded in Keras](https://www.tensorflow.org/api_docs/python/tf/keras/datasets)\n",
    "\n",
    "## What we're going to do :\n",
    "\n",
    " - Retrieve data\n",
    " - Preparing the data\n",
    " - Build a model\n",
    " - Train the model\n",
    " - Evaluate the result"
   ]
  },
  {
   "cell_type": "markdown",
   "id": "bbee1e75",
   "metadata": {},
   "source": [
    "Step 1 - Import and init\n",
    "1.1 - Python stuff"
   ]
  },
  {
   "cell_type": "code",
   "execution_count": 1,
   "id": "73995c75",
   "metadata": {},
   "outputs": [],
   "source": [
    "import numpy as np\n",
    "\n",
    "import tensorflow as tf\n",
    "import tensorflow.keras as keras\n",
    "import tensorflow.keras.datasets.imdb as imdb\n",
    "\n",
    "import matplotlib.pyplot as plt\n",
    "import matplotlib\n",
    "\n",
    "import pandas as pd\n",
    "\n",
    "import os,sys,h5py,json\n",
    "from importlib import reload\n",
    "\n",
    "run_dir = './run/IMDB1'"
   ]
  },
  {
   "cell_type": "markdown",
   "id": "c03ac9fe",
   "metadata": {},
   "source": [
    "### 1.2 - Parameters\n",
    "The words in the vocabulary are classified from the most frequent to the rarest.\\\n",
    "`vocab_size` is the number of words we will remember in our vocabulary (the other words will be considered as unknown).\\\n",
    "`hide_most_frequently` is the number of ignored words, among the most common ones\\\n",
    "`fit_verbosity` is the verbosity during training : 0 = silent, 1 = progress bar, 2 = one line per epoch"
   ]
  },
  {
   "cell_type": "code",
   "execution_count": 2,
   "id": "685750e7",
   "metadata": {},
   "outputs": [],
   "source": [
    "vocab_size           = 10000\n",
    "hide_most_frequently = 0\n",
    "\n",
    "epochs               = 30\n",
    "batch_size           = 512\n",
    "fit_verbosity        = 1"
   ]
  },
  {
   "cell_type": "markdown",
   "id": "e52dd6cb",
   "metadata": {},
   "source": [
    "## Step 2 - Understanding hot-one encoding\n",
    "#### We have a **sentence** and a **dictionary** :"
   ]
  },
  {
   "cell_type": "code",
   "execution_count": 3,
   "id": "eee317e0",
   "metadata": {},
   "outputs": [],
   "source": [
    "sentence = \"I've never seen a movie like this before\"\n",
    "\n",
    "dictionary  = {\"a\":0, \"before\":1, \"fantastic\":2, \"i've\":3, \"is\":4, \"like\":5, \"movie\":6, \"never\":7, \"seen\":8, \"this\":9}"
   ]
  },
  {
   "cell_type": "markdown",
   "id": "a42ae656",
   "metadata": {},
   "source": [
    "#### We encode our sentence as a **numerical vector** :"
   ]
  },
  {
   "cell_type": "code",
   "execution_count": 4,
   "id": "f5f07537",
   "metadata": {},
   "outputs": [
    {
     "name": "stdout",
     "output_type": "stream",
     "text": [
      "Words sentence are         :  [\"i've\", 'never', 'seen', 'a', 'movie', 'like', 'this', 'before']\n",
      "Our vectorized sentence is :  [3, 7, 8, 0, 6, 5, 9, 1]\n"
     ]
    }
   ],
   "source": [
    "sentence_words = sentence.lower().split()\n",
    "\n",
    "sentence_vect  = [ dictionary[w] for w in sentence_words ]\n",
    "\n",
    "print('Words sentence are         : ', sentence_words)\n",
    "print('Our vectorized sentence is : ', sentence_vect)"
   ]
  },
  {
   "cell_type": "markdown",
   "id": "7a7f9879",
   "metadata": {},
   "source": [
    "#### Next, we **one-hot** encode our vectorized sentence as a tensor :"
   ]
  },
  {
   "cell_type": "code",
   "execution_count": 5,
   "id": "ed5a09e9",
   "metadata": {},
   "outputs": [
    {
     "name": "stdout",
     "output_type": "stream",
     "text": [
      "In a basic way :\n",
      "\n",
      " [[0. 0. 0. 1. 0. 0. 0. 0.]\n",
      " [0. 0. 0. 0. 0. 0. 0. 1.]\n",
      " [0. 0. 0. 0. 0. 0. 0. 0.]\n",
      " [1. 0. 0. 0. 0. 0. 0. 0.]\n",
      " [0. 0. 0. 0. 0. 0. 0. 0.]\n",
      " [0. 0. 0. 0. 0. 1. 0. 0.]\n",
      " [0. 0. 0. 0. 1. 0. 0. 0.]\n",
      " [0. 1. 0. 0. 0. 0. 0. 0.]\n",
      " [0. 0. 1. 0. 0. 0. 0. 0.]\n",
      " [0. 0. 0. 0. 0. 0. 1. 0.]] \n",
      "\n",
      "With a pandas wiew :\n",
      "\n"
     ]
    },
    {
     "name": "stderr",
     "output_type": "stream",
     "text": [
      "C:\\Users\\Massimo\\AppData\\Local\\Temp/ipykernel_1760/1247172091.py:16: FutureWarning: this method is deprecated in favour of `Styler.format(precision=..)`\n",
      "  df.style.set_precision(0).highlight_max(axis=0).set_properties(**{'text-align': 'center'})\n"
     ]
    },
    {
     "data": {
      "text/html": [
       "<style type=\"text/css\">\n",
       "#T_c278c_row0_col0, #T_c278c_row0_col1, #T_c278c_row0_col2, #T_c278c_row0_col4, #T_c278c_row0_col5, #T_c278c_row0_col6, #T_c278c_row0_col7, #T_c278c_row1_col0, #T_c278c_row1_col1, #T_c278c_row1_col2, #T_c278c_row1_col3, #T_c278c_row1_col4, #T_c278c_row1_col5, #T_c278c_row1_col6, #T_c278c_row2_col0, #T_c278c_row2_col1, #T_c278c_row2_col2, #T_c278c_row2_col3, #T_c278c_row2_col4, #T_c278c_row2_col5, #T_c278c_row2_col6, #T_c278c_row2_col7, #T_c278c_row3_col1, #T_c278c_row3_col2, #T_c278c_row3_col3, #T_c278c_row3_col4, #T_c278c_row3_col5, #T_c278c_row3_col6, #T_c278c_row3_col7, #T_c278c_row4_col0, #T_c278c_row4_col1, #T_c278c_row4_col2, #T_c278c_row4_col3, #T_c278c_row4_col4, #T_c278c_row4_col5, #T_c278c_row4_col6, #T_c278c_row4_col7, #T_c278c_row5_col0, #T_c278c_row5_col1, #T_c278c_row5_col2, #T_c278c_row5_col3, #T_c278c_row5_col4, #T_c278c_row5_col6, #T_c278c_row5_col7, #T_c278c_row6_col0, #T_c278c_row6_col1, #T_c278c_row6_col2, #T_c278c_row6_col3, #T_c278c_row6_col5, #T_c278c_row6_col6, #T_c278c_row6_col7, #T_c278c_row7_col0, #T_c278c_row7_col2, #T_c278c_row7_col3, #T_c278c_row7_col4, #T_c278c_row7_col5, #T_c278c_row7_col6, #T_c278c_row7_col7, #T_c278c_row8_col0, #T_c278c_row8_col1, #T_c278c_row8_col3, #T_c278c_row8_col4, #T_c278c_row8_col5, #T_c278c_row8_col6, #T_c278c_row8_col7, #T_c278c_row9_col0, #T_c278c_row9_col1, #T_c278c_row9_col2, #T_c278c_row9_col3, #T_c278c_row9_col4, #T_c278c_row9_col5, #T_c278c_row9_col7 {\n",
       "  text-align: center;\n",
       "}\n",
       "#T_c278c_row0_col3, #T_c278c_row1_col7, #T_c278c_row3_col0, #T_c278c_row5_col5, #T_c278c_row6_col4, #T_c278c_row7_col1, #T_c278c_row8_col2, #T_c278c_row9_col6 {\n",
       "  background-color: yellow;\n",
       "  text-align: center;\n",
       "}\n",
       "</style>\n",
       "<table id=\"T_c278c_\">\n",
       "  <thead>\n",
       "    <tr>\n",
       "      <th class=\"blank level0\" >&nbsp;</th>\n",
       "      <th class=\"col_heading level0 col0\" >...i've...</th>\n",
       "      <th class=\"col_heading level0 col1\" >..never...</th>\n",
       "      <th class=\"col_heading level0 col2\" >...seen...</th>\n",
       "      <th class=\"col_heading level0 col3\" >....a.....</th>\n",
       "      <th class=\"col_heading level0 col4\" >..movie...</th>\n",
       "      <th class=\"col_heading level0 col5\" >...like...</th>\n",
       "      <th class=\"col_heading level0 col6\" >...this...</th>\n",
       "      <th class=\"col_heading level0 col7\" >..before..</th>\n",
       "    </tr>\n",
       "  </thead>\n",
       "  <tbody>\n",
       "    <tr>\n",
       "      <th id=\"T_c278c_level0_row0\" class=\"row_heading level0 row0\" >a</th>\n",
       "      <td id=\"T_c278c_row0_col0\" class=\"data row0 col0\" >0</td>\n",
       "      <td id=\"T_c278c_row0_col1\" class=\"data row0 col1\" >0</td>\n",
       "      <td id=\"T_c278c_row0_col2\" class=\"data row0 col2\" >0</td>\n",
       "      <td id=\"T_c278c_row0_col3\" class=\"data row0 col3\" >1</td>\n",
       "      <td id=\"T_c278c_row0_col4\" class=\"data row0 col4\" >0</td>\n",
       "      <td id=\"T_c278c_row0_col5\" class=\"data row0 col5\" >0</td>\n",
       "      <td id=\"T_c278c_row0_col6\" class=\"data row0 col6\" >0</td>\n",
       "      <td id=\"T_c278c_row0_col7\" class=\"data row0 col7\" >0</td>\n",
       "    </tr>\n",
       "    <tr>\n",
       "      <th id=\"T_c278c_level0_row1\" class=\"row_heading level0 row1\" >before</th>\n",
       "      <td id=\"T_c278c_row1_col0\" class=\"data row1 col0\" >0</td>\n",
       "      <td id=\"T_c278c_row1_col1\" class=\"data row1 col1\" >0</td>\n",
       "      <td id=\"T_c278c_row1_col2\" class=\"data row1 col2\" >0</td>\n",
       "      <td id=\"T_c278c_row1_col3\" class=\"data row1 col3\" >0</td>\n",
       "      <td id=\"T_c278c_row1_col4\" class=\"data row1 col4\" >0</td>\n",
       "      <td id=\"T_c278c_row1_col5\" class=\"data row1 col5\" >0</td>\n",
       "      <td id=\"T_c278c_row1_col6\" class=\"data row1 col6\" >0</td>\n",
       "      <td id=\"T_c278c_row1_col7\" class=\"data row1 col7\" >1</td>\n",
       "    </tr>\n",
       "    <tr>\n",
       "      <th id=\"T_c278c_level0_row2\" class=\"row_heading level0 row2\" >fantastic</th>\n",
       "      <td id=\"T_c278c_row2_col0\" class=\"data row2 col0\" >0</td>\n",
       "      <td id=\"T_c278c_row2_col1\" class=\"data row2 col1\" >0</td>\n",
       "      <td id=\"T_c278c_row2_col2\" class=\"data row2 col2\" >0</td>\n",
       "      <td id=\"T_c278c_row2_col3\" class=\"data row2 col3\" >0</td>\n",
       "      <td id=\"T_c278c_row2_col4\" class=\"data row2 col4\" >0</td>\n",
       "      <td id=\"T_c278c_row2_col5\" class=\"data row2 col5\" >0</td>\n",
       "      <td id=\"T_c278c_row2_col6\" class=\"data row2 col6\" >0</td>\n",
       "      <td id=\"T_c278c_row2_col7\" class=\"data row2 col7\" >0</td>\n",
       "    </tr>\n",
       "    <tr>\n",
       "      <th id=\"T_c278c_level0_row3\" class=\"row_heading level0 row3\" >i've</th>\n",
       "      <td id=\"T_c278c_row3_col0\" class=\"data row3 col0\" >1</td>\n",
       "      <td id=\"T_c278c_row3_col1\" class=\"data row3 col1\" >0</td>\n",
       "      <td id=\"T_c278c_row3_col2\" class=\"data row3 col2\" >0</td>\n",
       "      <td id=\"T_c278c_row3_col3\" class=\"data row3 col3\" >0</td>\n",
       "      <td id=\"T_c278c_row3_col4\" class=\"data row3 col4\" >0</td>\n",
       "      <td id=\"T_c278c_row3_col5\" class=\"data row3 col5\" >0</td>\n",
       "      <td id=\"T_c278c_row3_col6\" class=\"data row3 col6\" >0</td>\n",
       "      <td id=\"T_c278c_row3_col7\" class=\"data row3 col7\" >0</td>\n",
       "    </tr>\n",
       "    <tr>\n",
       "      <th id=\"T_c278c_level0_row4\" class=\"row_heading level0 row4\" >is</th>\n",
       "      <td id=\"T_c278c_row4_col0\" class=\"data row4 col0\" >0</td>\n",
       "      <td id=\"T_c278c_row4_col1\" class=\"data row4 col1\" >0</td>\n",
       "      <td id=\"T_c278c_row4_col2\" class=\"data row4 col2\" >0</td>\n",
       "      <td id=\"T_c278c_row4_col3\" class=\"data row4 col3\" >0</td>\n",
       "      <td id=\"T_c278c_row4_col4\" class=\"data row4 col4\" >0</td>\n",
       "      <td id=\"T_c278c_row4_col5\" class=\"data row4 col5\" >0</td>\n",
       "      <td id=\"T_c278c_row4_col6\" class=\"data row4 col6\" >0</td>\n",
       "      <td id=\"T_c278c_row4_col7\" class=\"data row4 col7\" >0</td>\n",
       "    </tr>\n",
       "    <tr>\n",
       "      <th id=\"T_c278c_level0_row5\" class=\"row_heading level0 row5\" >like</th>\n",
       "      <td id=\"T_c278c_row5_col0\" class=\"data row5 col0\" >0</td>\n",
       "      <td id=\"T_c278c_row5_col1\" class=\"data row5 col1\" >0</td>\n",
       "      <td id=\"T_c278c_row5_col2\" class=\"data row5 col2\" >0</td>\n",
       "      <td id=\"T_c278c_row5_col3\" class=\"data row5 col3\" >0</td>\n",
       "      <td id=\"T_c278c_row5_col4\" class=\"data row5 col4\" >0</td>\n",
       "      <td id=\"T_c278c_row5_col5\" class=\"data row5 col5\" >1</td>\n",
       "      <td id=\"T_c278c_row5_col6\" class=\"data row5 col6\" >0</td>\n",
       "      <td id=\"T_c278c_row5_col7\" class=\"data row5 col7\" >0</td>\n",
       "    </tr>\n",
       "    <tr>\n",
       "      <th id=\"T_c278c_level0_row6\" class=\"row_heading level0 row6\" >movie</th>\n",
       "      <td id=\"T_c278c_row6_col0\" class=\"data row6 col0\" >0</td>\n",
       "      <td id=\"T_c278c_row6_col1\" class=\"data row6 col1\" >0</td>\n",
       "      <td id=\"T_c278c_row6_col2\" class=\"data row6 col2\" >0</td>\n",
       "      <td id=\"T_c278c_row6_col3\" class=\"data row6 col3\" >0</td>\n",
       "      <td id=\"T_c278c_row6_col4\" class=\"data row6 col4\" >1</td>\n",
       "      <td id=\"T_c278c_row6_col5\" class=\"data row6 col5\" >0</td>\n",
       "      <td id=\"T_c278c_row6_col6\" class=\"data row6 col6\" >0</td>\n",
       "      <td id=\"T_c278c_row6_col7\" class=\"data row6 col7\" >0</td>\n",
       "    </tr>\n",
       "    <tr>\n",
       "      <th id=\"T_c278c_level0_row7\" class=\"row_heading level0 row7\" >never</th>\n",
       "      <td id=\"T_c278c_row7_col0\" class=\"data row7 col0\" >0</td>\n",
       "      <td id=\"T_c278c_row7_col1\" class=\"data row7 col1\" >1</td>\n",
       "      <td id=\"T_c278c_row7_col2\" class=\"data row7 col2\" >0</td>\n",
       "      <td id=\"T_c278c_row7_col3\" class=\"data row7 col3\" >0</td>\n",
       "      <td id=\"T_c278c_row7_col4\" class=\"data row7 col4\" >0</td>\n",
       "      <td id=\"T_c278c_row7_col5\" class=\"data row7 col5\" >0</td>\n",
       "      <td id=\"T_c278c_row7_col6\" class=\"data row7 col6\" >0</td>\n",
       "      <td id=\"T_c278c_row7_col7\" class=\"data row7 col7\" >0</td>\n",
       "    </tr>\n",
       "    <tr>\n",
       "      <th id=\"T_c278c_level0_row8\" class=\"row_heading level0 row8\" >seen</th>\n",
       "      <td id=\"T_c278c_row8_col0\" class=\"data row8 col0\" >0</td>\n",
       "      <td id=\"T_c278c_row8_col1\" class=\"data row8 col1\" >0</td>\n",
       "      <td id=\"T_c278c_row8_col2\" class=\"data row8 col2\" >1</td>\n",
       "      <td id=\"T_c278c_row8_col3\" class=\"data row8 col3\" >0</td>\n",
       "      <td id=\"T_c278c_row8_col4\" class=\"data row8 col4\" >0</td>\n",
       "      <td id=\"T_c278c_row8_col5\" class=\"data row8 col5\" >0</td>\n",
       "      <td id=\"T_c278c_row8_col6\" class=\"data row8 col6\" >0</td>\n",
       "      <td id=\"T_c278c_row8_col7\" class=\"data row8 col7\" >0</td>\n",
       "    </tr>\n",
       "    <tr>\n",
       "      <th id=\"T_c278c_level0_row9\" class=\"row_heading level0 row9\" >this</th>\n",
       "      <td id=\"T_c278c_row9_col0\" class=\"data row9 col0\" >0</td>\n",
       "      <td id=\"T_c278c_row9_col1\" class=\"data row9 col1\" >0</td>\n",
       "      <td id=\"T_c278c_row9_col2\" class=\"data row9 col2\" >0</td>\n",
       "      <td id=\"T_c278c_row9_col3\" class=\"data row9 col3\" >0</td>\n",
       "      <td id=\"T_c278c_row9_col4\" class=\"data row9 col4\" >0</td>\n",
       "      <td id=\"T_c278c_row9_col5\" class=\"data row9 col5\" >0</td>\n",
       "      <td id=\"T_c278c_row9_col6\" class=\"data row9 col6\" >1</td>\n",
       "      <td id=\"T_c278c_row9_col7\" class=\"data row9 col7\" >0</td>\n",
       "    </tr>\n",
       "  </tbody>\n",
       "</table>\n"
      ],
      "text/plain": [
       "<pandas.io.formats.style.Styler at 0xe5f988f820>"
      ]
     },
     "execution_count": 5,
     "metadata": {},
     "output_type": "execute_result"
    }
   ],
   "source": [
    "# ---- We get a (sentence length x vector size) matrix of zeros\n",
    "#\n",
    "onehot = np.zeros( (10,8) )\n",
    "\n",
    "# ---- We set some 1 for each word\n",
    "#\n",
    "for i,w in enumerate(sentence_vect):\n",
    "    onehot[w,i]=1\n",
    "\n",
    "# --- Show it\n",
    "#\n",
    "print('In a basic way :\\n\\n', onehot, '\\n\\nWith a pandas wiew :\\n')\n",
    "data={ f'{sentence_words[i]:.^10}':onehot[:,i] for i,w in enumerate(sentence_vect) }\n",
    "df=pd.DataFrame(data)\n",
    "df.index=dictionary.keys()\n",
    "df.style.set_precision(0).highlight_max(axis=0).set_properties(**{'text-align': 'center'})"
   ]
  },
  {
   "cell_type": "markdown",
   "id": "a218168a",
   "metadata": {},
   "source": [
    "## Step 3 - Retrieve data\n",
    "\n",
    "IMDb dataset can bet get directly from Keras - see [documentation](https://www.tensorflow.org/api_docs/python/tf/keras/datasets)  \n",
    "Note : Due to their nature, textual data can be somewhat complex.\n",
    "\n",
    "### 3.1 - Data structure :  \n",
    "The dataset is composed of 2 parts: \n",
    "\n",
    " - **reviews**, this will be our **x**\n",
    " - **opinions** (positive/negative), this will be our **y**\n",
    "\n",
    "There are also a **dictionary**, because words are indexed in reviews\n",
    "\n",
    "```\n",
    "<dataset> = (<reviews>, <opinions>)\n",
    "\n",
    "with :  <reviews>  = [ <review1>, <review2>, ... ]\n",
    "        <opinions> = [ <rate1>,   <rate2>,   ... ]   where <ratei>   = integer\n",
    "\n",
    "where : <reviewi> = [ <w1>, <w2>, ...]    <wi> are the index (int) of the word in the dictionary\n",
    "        <ratei>   = int                   0 for negative opinion, 1 for positive\n",
    "\n",
    "\n",
    "<dictionary> = [ <word1>:<w1>, <word2>:<w2>, ... ]\n",
    "\n",
    "with :  <wordi>   = word\n",
    "        <wi>      = int\n",
    "\n",
    "```"
   ]
  },
  {
   "cell_type": "markdown",
   "id": "7a2f3b1a",
   "metadata": {},
   "source": [
    "### 3.2 - Load dataset\n",
    "For simplicity, we will use a pre-formatted dataset - See [documentation](https://www.tensorflow.org/api_docs/python/tf/keras/datasets/imdb/load_data)  \n",
    "However, Keras offers some usefull tools for formatting textual data - See [documentation](https://www.tensorflow.org/api_docs/python/tf/keras/preprocessing/text)  \n",
    "\n",
    "By default : \n",
    " - Start of a sequence will be marked with : 1\n",
    " - Out of vocabulary word will be : 2\n",
    " - First index will be : 3"
   ]
  },
  {
   "cell_type": "code",
   "execution_count": 6,
   "id": "b1d38d2d",
   "metadata": {},
   "outputs": [],
   "source": [
    "# ----- Retrieve x,y\n",
    "#\n",
    "(x_train, y_train), (x_test, y_test) = imdb.load_data( num_words=vocab_size, skip_top=hide_most_frequently)"
   ]
  },
  {
   "cell_type": "code",
   "execution_count": 7,
   "id": "f494eee3",
   "metadata": {},
   "outputs": [
    {
     "name": "stdout",
     "output_type": "stream",
     "text": [
      "x_train : (25000,)  y_train : (25000,)\n",
      "x_test  : (25000,)  y_test  : (25000,)\n"
     ]
    }
   ],
   "source": [
    "# ---- About\n",
    "#\n",
    "\n",
    "y_train = np.asarray(y_train).astype('float32')\n",
    "y_test  = np.asarray(y_test ).astype('float32')\n",
    "\n",
    "print(\"x_train : {}  y_train : {}\".format(x_train.shape, y_train.shape))\n",
    "print(\"x_test  : {}  y_test  : {}\".format(x_test.shape,  y_test.shape))"
   ]
  },
  {
   "cell_type": "markdown",
   "id": "dae6d650",
   "metadata": {},
   "source": [
    "## Step 4 - About our dataset\n",
    "When we loaded the dataset, we asked for using \\<start\\> as 1, \\<unknown word\\> as 2  \n",
    "So, we shifted the dataset by 3 with the parameter index_from=3\n",
    "\n",
    "### 4.1 - Sentences encoding"
   ]
  },
  {
   "cell_type": "code",
   "execution_count": 8,
   "id": "a18e693b",
   "metadata": {},
   "outputs": [
    {
     "name": "stdout",
     "output_type": "stream",
     "text": [
      "\n",
      "Review example (x_train[12]) :\n",
      "\n",
      " [1, 13, 119, 954, 189, 1554, 13, 92, 459, 48, 4, 116, 9, 1492, 2291, 42, 726, 4, 1939, 168, 2031, 13, 423, 14, 20, 549, 18, 4, 2, 547, 32, 4, 96, 39, 4, 454, 7, 4, 22, 8, 4, 55, 130, 168, 13, 92, 359, 6, 158, 1511, 2, 42, 6, 1913, 19, 194, 4455, 4121, 6, 114, 8, 72, 21, 465, 9667, 304, 4, 51, 9, 14, 20, 44, 155, 8, 6, 226, 162, 616, 651, 51, 9, 14, 20, 44, 10, 10, 14, 218, 4843, 629, 42, 3017, 21, 48, 25, 28, 35, 534, 5, 6, 320, 8, 516, 5, 42, 25, 181, 8, 130, 56, 547, 3571, 5, 1471, 851, 14, 2286]\n",
      "\n",
      "Opinions (y_train) :\n",
      "\n",
      " [1. 0. 0. ... 0. 1. 0.]\n"
     ]
    }
   ],
   "source": [
    "print('\\nReview example (x_train[12]) :\\n\\n',x_train[12])\n",
    "print('\\nOpinions (y_train) :\\n\\n',y_train)"
   ]
  },
  {
   "cell_type": "markdown",
   "id": "a5b4e7ac",
   "metadata": {},
   "source": [
    "### 4.2 - Load dictionary\n"
   ]
  },
  {
   "cell_type": "code",
   "execution_count": 9,
   "id": "321f736c",
   "metadata": {},
   "outputs": [
    {
     "name": "stdout",
     "output_type": "stream",
     "text": [
      "\n",
      "Dictionary size     :  88588\n",
      "\n",
      "Small extract :\n",
      "\n",
      "     0 : <pad>\n",
      "     1 : <start>\n",
      "     2 : <unknown>\n",
      "     3 : <undef>\n",
      "     4 : the\n",
      "     5 : and\n",
      "     6 : a\n",
      "     7 : of\n",
      "     8 : to\n",
      "     9 : is\n",
      "    10 : br\n",
      "    11 : in\n",
      "    12 : it\n",
      "    13 : i\n",
      "    14 : this\n",
      "    15 : that\n",
      "    16 : was\n",
      "    17 : as\n",
      "    18 : for\n",
      "    19 : with\n"
     ]
    }
   ],
   "source": [
    "# ---- Retrieve dictionary {word:index}, and encode it in ascii\n",
    "#\n",
    "word_index = imdb.get_word_index()\n",
    "\n",
    "# ---- Shift the dictionary from +3\n",
    "#\n",
    "word_index = {w:(i+3) for w,i in word_index.items()}\n",
    "\n",
    "\n",
    "# ---- Add <pad>, <start> and <unknown> tags\n",
    "#\n",
    "word_index.update( {'<pad>':0, '<start>':1, '<unknown>':2, '<undef>':3,} )\n",
    "\n",
    "# ---- Create a reverse dictionary : {index:word}\n",
    "#\n",
    "index_word = {index:word for word,index in word_index.items()} \n",
    "\n",
    "# ---- About dictionary\n",
    "#\n",
    "print('\\nDictionary size     : ', len(word_index))\n",
    "print('\\nSmall extract :\\n')\n",
    "for k in range(0,20):print(f'    {k:2d} : {index_word[k]}' )"
   ]
  },
  {
   "cell_type": "code",
   "execution_count": 10,
   "id": "12c8e58f",
   "metadata": {},
   "outputs": [],
   "source": [
    "# ---- Add a nice function to transpose :\n",
    "#\n",
    "def dataset2text(review):\n",
    "    return ' '.join([index_word.get(i, '?') for i in review])"
   ]
  },
  {
   "cell_type": "code",
   "execution_count": 1,
   "id": "2bd4d38f",
   "metadata": {},
   "outputs": [
    {
     "name": "stdout",
     "output_type": "stream",
     "text": [
      "name John country Norway\n"
     ]
    }
   ],
   "source": [
    "myDict = [\"name\", \"John\", \"country\", \"Norway\"]\n",
    "mySeparator = \" \"\n",
    "\n",
    "x = mySeparator.join(myDict)\n",
    "\n",
    "print(x)"
   ]
  },
  {
   "cell_type": "code",
   "execution_count": 12,
   "id": "3886e7ac",
   "metadata": {},
   "outputs": [],
   "source": [
    "def dataset2text2(review):\n",
    "    a=[index_word.get(i) for i in review]\n",
    "    mySeparator = '  '\n",
    "    return mySeparator.join(a)"
   ]
  },
  {
   "cell_type": "code",
   "execution_count": 13,
   "id": "db5b16b6",
   "metadata": {},
   "outputs": [
    {
     "name": "stdout",
     "output_type": "stream",
     "text": [
      "<start>  i  love  cheesy  horror  flicks  i  don't  care  if  the  acting  is  sub  par  or  whether  the  monsters  look  corny  i  liked  this  movie  except  for  the  <unknown>  feeling  all  the  way  from  the  beginning  of  the  film  to  the  very  end  look  i  don't  need  a  10  page  <unknown>  or  a  sign  with  big  letters  explaining  a  plot  to  me  but  dark  floors  takes  the  what  is  this  movie  about  thing  to  a  whole  new  annoying  level  what  is  this  movie  about  br  br  this  isn't  exceptionally  scary  or  thrilling  but  if  you  have  an  hour  and  a  half  to  kill  and  or  you  want  to  end  up  feeling  frustrated  and  confused  rent  this  winner\n"
     ]
    }
   ],
   "source": [
    "print(dataset2text2(x_train[12]))"
   ]
  },
  {
   "cell_type": "markdown",
   "id": "66711021",
   "metadata": {},
   "source": [
    "### 4.3 - Have a look, for human"
   ]
  },
  {
   "cell_type": "code",
   "execution_count": 2,
   "id": "507208bb",
   "metadata": {},
   "outputs": [
    {
     "data": {
      "text/markdown": [
       "<br>**Review example :**"
      ],
      "text/plain": [
       "<IPython.core.display.Markdown object>"
      ]
     },
     "metadata": {},
     "output_type": "display_data"
    },
    {
     "ename": "NameError",
     "evalue": "name 'x_train' is not defined",
     "output_type": "error",
     "traceback": [
      "\u001b[1;31m---------------------------------------------------------------------------\u001b[0m",
      "\u001b[1;31mNameError\u001b[0m                                 Traceback (most recent call last)",
      "\u001b[1;32m~\\AppData\\Local\\Temp/ipykernel_27568/246140375.py\u001b[0m in \u001b[0;36m<module>\u001b[1;34m\u001b[0m\n\u001b[0;32m      4\u001b[0m \u001b[1;33m\u001b[0m\u001b[0m\n\u001b[0;32m      5\u001b[0m \u001b[0msubtitle\u001b[0m\u001b[1;33m(\u001b[0m\u001b[1;34m'Review example :'\u001b[0m\u001b[1;33m)\u001b[0m\u001b[1;33m\u001b[0m\u001b[1;33m\u001b[0m\u001b[0m\n\u001b[1;32m----> 6\u001b[1;33m \u001b[0mprint\u001b[0m\u001b[1;33m(\u001b[0m\u001b[0mx_train\u001b[0m\u001b[1;33m[\u001b[0m\u001b[1;36m12\u001b[0m\u001b[1;33m]\u001b[0m\u001b[1;33m)\u001b[0m\u001b[1;33m\u001b[0m\u001b[1;33m\u001b[0m\u001b[0m\n\u001b[0m\u001b[0;32m      7\u001b[0m \u001b[0msubtitle\u001b[0m\u001b[1;33m(\u001b[0m\u001b[1;34m'After translation :'\u001b[0m\u001b[1;33m)\u001b[0m\u001b[1;33m\u001b[0m\u001b[1;33m\u001b[0m\u001b[0m\n\u001b[0;32m      8\u001b[0m \u001b[0mprint\u001b[0m\u001b[1;33m(\u001b[0m\u001b[0mdataset2text\u001b[0m\u001b[1;33m(\u001b[0m\u001b[0mx_train\u001b[0m\u001b[1;33m[\u001b[0m\u001b[1;36m12\u001b[0m\u001b[1;33m]\u001b[0m\u001b[1;33m)\u001b[0m\u001b[1;33m)\u001b[0m\u001b[1;33m\u001b[0m\u001b[1;33m\u001b[0m\u001b[0m\n",
      "\u001b[1;31mNameError\u001b[0m: name 'x_train' is not defined"
     ]
    }
   ],
   "source": [
    "from IPython.display import Markdown\n",
    "def subtitle(t):\n",
    "    display(Markdown(f'<br>**{t}**'))\n",
    "\n",
    "subtitle('Review example :')\n",
    "print(x_train[12])\n",
    "subtitle('After translation :')\n",
    "print(dataset2text(x_train[12]))"
   ]
  },
  {
   "cell_type": "markdown",
   "id": "29c3b6d3",
   "metadata": {},
   "source": [
    "### 4.4 - Few statistics"
   ]
  },
  {
   "cell_type": "code",
   "execution_count": 15,
   "id": "4eb580c8",
   "metadata": {},
   "outputs": [
    {
     "data": {
      "image/png": "[encoded data removed]",
      "text/plain": [
       "<Figure size 1152x432 with 1 Axes>"
      ]
     },
     "metadata": {
      "needs_background": "light"
     },
     "output_type": "display_data"
    }
   ],
   "source": [
    "sizes=[len(i) for i in x_train]\n",
    "plt.figure(figsize=(16,6))\n",
    "plt.hist(sizes, bins=400)\n",
    "plt.gca().set(title='Distribution of reviews by size - [{:5.2f}, {:5.2f}]'.format(min(sizes),max(sizes)), \n",
    "              xlabel='Size', ylabel='Density', xlim=[0,1500])\n",
    "plt.show()"
   ]
  },
  {
   "cell_type": "code",
   "execution_count": 16,
   "id": "66f3d51e",
   "metadata": {},
   "outputs": [
    {
     "data": {
      "image/png": "[encoded data removed]",
      "text/plain": [
       "<Figure size 1152x432 with 1 Axes>"
      ]
     },
     "metadata": {
      "needs_background": "light"
     },
     "output_type": "display_data"
    }
   ],
   "source": [
    "unk=[ 100*(s.count(2)/len(s)) for s in x_train] #count(2) car 2 : <unknown>\n",
    "plt.figure(figsize=(16,6))\n",
    "plt.hist(unk, bins=100)\n",
    "plt.gca().set(title='Percent of unknown words - [{:5.2f}, {:5.2f}]'.format(min(unk),max(unk)), \n",
    "              xlabel='# unknown', ylabel='Density', xlim=[0,30])\n",
    "plt.show()"
   ]
  },
  {
   "cell_type": "markdown",
   "id": "acfe9e51",
   "metadata": {},
   "source": [
    "## Step 5 - Basic approach with \"one-hot\" vector encoding\n",
    "Basic approach.  \n",
    "\n",
    "Each sentence is encoded with a **vector** of length equal to the **size of the dictionary**.   \n",
    "\n",
    "Each sentence will therefore be encoded with a simple vector.  \n",
    "The value of each component is 0 if the word is not present in the sentence or 1 if the word is present.\n",
    "\n",
    "For a sentence s=[3,4,7] and a dictionary of 10 words...    \n",
    "We wil have a vector v=[0,0,0,1,1,0,0,1,0,0,0]"
   ]
  },
  {
   "cell_type": "markdown",
   "id": "becc8669",
   "metadata": {},
   "source": [
    "### 5.1 - Our one-hot encoder"
   ]
  },
  {
   "cell_type": "code",
   "execution_count": 17,
   "id": "3ea76710",
   "metadata": {},
   "outputs": [],
   "source": [
    "def one_hot_encoder(x, vector_size=10000):\n",
    "    \n",
    "    # ---- Set all to 0\n",
    "    #\n",
    "    x_encoded = np.zeros((len(x), vector_size))\n",
    "    \n",
    "    # ---- For each sentence\n",
    "    #\n",
    "    for i,sentence in enumerate(x):\n",
    "        for word in sentence:\n",
    "            x_encoded[i, word] = 1.\n",
    "\n",
    "    return x_encoded"
   ]
  },
  {
   "cell_type": "markdown",
   "id": "4f249e17",
   "metadata": {},
   "source": [
    "### 5.2 - Encoding.."
   ]
  },
  {
   "cell_type": "code",
   "execution_count": 18,
   "id": "a707d21a",
   "metadata": {},
   "outputs": [
    {
     "name": "stdout",
     "output_type": "stream",
     "text": [
      "To have a look, x_train[12] became : [0. 1. 1. ... 0. 0. 0.]\n"
     ]
    }
   ],
   "source": [
    "x_train = one_hot_encoder(x_train)\n",
    "x_test  = one_hot_encoder(x_test)\n",
    "\n",
    "print(\"To have a look, x_train[12] became :\", x_train[12] )"
   ]
  },
  {
   "cell_type": "markdown",
   "id": "07c791e6",
   "metadata": {},
   "source": [
    "## Step 6 - Build the model"
   ]
  },
  {
   "cell_type": "code",
   "execution_count": 19,
   "id": "7ceb465f",
   "metadata": {},
   "outputs": [],
   "source": [
    "def get_model(vector_size=10000):\n",
    "    \n",
    "    model = keras.Sequential()\n",
    "    model.add(keras.layers.Input( shape=(vector_size,) ))\n",
    "    model.add(keras.layers.Dense( 32, activation='relu'))\n",
    "    model.add(keras.layers.Dense( 64, activation='relu'))\n",
    "    model.add(keras.layers.Dense( 128, activation='relu'))\n",
    "    model.add(keras.layers.Dense( 1, activation='sigmoid'))\n",
    "    \n",
    "    model.compile(optimizer = 'rmsprop',\n",
    "                  loss      = 'binary_crossentropy',\n",
    "                  metrics   = ['accuracy'])\n",
    "    return model"
   ]
  },
  {
   "cell_type": "markdown",
   "id": "d5443117",
   "metadata": {},
   "source": [
    "## Step 7 - Train the model\n",
    "### 7.1 - Get it"
   ]
  },
  {
   "cell_type": "code",
   "execution_count": 20,
   "id": "a88a2cb0",
   "metadata": {},
   "outputs": [
    {
     "name": "stdout",
     "output_type": "stream",
     "text": [
      "Model: \"sequential\"\n",
      "_________________________________________________________________\n",
      " Layer (type)                Output Shape              Param #   \n",
      "=================================================================\n",
      " dense (Dense)               (None, 32)                320032    \n",
      "                                                                 \n",
      " dense_1 (Dense)             (None, 64)                2112      \n",
      "                                                                 \n",
      " dense_2 (Dense)             (None, 128)               8320      \n",
      "                                                                 \n",
      " dense_3 (Dense)             (None, 1)                 129       \n",
      "                                                                 \n",
      "=================================================================\n",
      "Total params: 330,593\n",
      "Trainable params: 330,593\n",
      "Non-trainable params: 0\n",
      "_________________________________________________________________\n"
     ]
    }
   ],
   "source": [
    "model = get_model(vector_size=vocab_size)\n",
    "\n",
    "model.summary()"
   ]
  },
  {
   "cell_type": "markdown",
   "id": "4116c7cb",
   "metadata": {},
   "source": [
    "### 7.2 - Add callback"
   ]
  },
  {
   "cell_type": "code",
   "execution_count": 21,
   "id": "9ef90dd1",
   "metadata": {},
   "outputs": [],
   "source": [
    "os.makedirs(f'{run_dir}/models',   mode=0o750, exist_ok=True)\n",
    "save_dir = f'{run_dir}/models/best_model.h5'\n",
    "savemodel_callback = tf.keras.callbacks.ModelCheckpoint(filepath=save_dir, verbose=0, save_best_only=True)"
   ]
  },
  {
   "cell_type": "markdown",
   "id": "844eceb2",
   "metadata": {},
   "source": [
    "### 7.3 - Train it"
   ]
  },
  {
   "cell_type": "code",
   "execution_count": 22,
   "id": "0768c9b5",
   "metadata": {},
   "outputs": [
    {
     "name": "stdout",
     "output_type": "stream",
     "text": [
      "Epoch 1/30\n",
      "49/49 [==============================] - 2s 38ms/step - loss: 0.4326 - accuracy: 0.8067 - val_loss: 0.3418 - val_accuracy: 0.8572\n",
      "Epoch 2/30\n",
      "49/49 [==============================] - 1s 26ms/step - loss: 0.2346 - accuracy: 0.9079 - val_loss: 0.3053 - val_accuracy: 0.8772\n",
      "Epoch 3/30\n",
      "49/49 [==============================] - 1s 26ms/step - loss: 0.1881 - accuracy: 0.9285 - val_loss: 0.3021 - val_accuracy: 0.8800\n",
      "Epoch 4/30\n",
      "49/49 [==============================] - 1s 26ms/step - loss: 0.1484 - accuracy: 0.9429 - val_loss: 0.3327 - val_accuracy: 0.8776\n",
      "Epoch 5/30\n",
      "49/49 [==============================] - 1s 24ms/step - loss: 0.1236 - accuracy: 0.9522 - val_loss: 0.3859 - val_accuracy: 0.8613\n",
      "Epoch 6/30\n",
      "49/49 [==============================] - 1s 25ms/step - loss: 0.0877 - accuracy: 0.9688 - val_loss: 0.4377 - val_accuracy: 0.8694\n",
      "Epoch 7/30\n",
      "49/49 [==============================] - 1s 25ms/step - loss: 0.0725 - accuracy: 0.9740 - val_loss: 0.4913 - val_accuracy: 0.8665\n",
      "Epoch 8/30\n",
      "49/49 [==============================] - 1s 26ms/step - loss: 0.0597 - accuracy: 0.9809 - val_loss: 0.8554 - val_accuracy: 0.8178\n",
      "Epoch 9/30\n",
      "49/49 [==============================] - 1s 25ms/step - loss: 0.0444 - accuracy: 0.9868 - val_loss: 0.6279 - val_accuracy: 0.8636\n",
      "Epoch 10/30\n",
      "49/49 [==============================] - 1s 26ms/step - loss: 0.0367 - accuracy: 0.9895 - val_loss: 0.6946 - val_accuracy: 0.8616\n",
      "Epoch 11/30\n",
      "49/49 [==============================] - 1s 25ms/step - loss: 0.0389 - accuracy: 0.9912 - val_loss: 0.7436 - val_accuracy: 0.8599\n",
      "Epoch 12/30\n",
      "49/49 [==============================] - 1s 24ms/step - loss: 0.0044 - accuracy: 0.9988 - val_loss: 0.9470 - val_accuracy: 0.8584\n",
      "Epoch 13/30\n",
      "49/49 [==============================] - 1s 25ms/step - loss: 0.0400 - accuracy: 0.9924 - val_loss: 0.9441 - val_accuracy: 0.8594\n",
      "Epoch 14/30\n",
      "49/49 [==============================] - 1s 25ms/step - loss: 0.0011 - accuracy: 0.9999 - val_loss: 1.1378 - val_accuracy: 0.8587\n",
      "Epoch 15/30\n",
      "49/49 [==============================] - 1s 24ms/step - loss: 0.0381 - accuracy: 0.9946 - val_loss: 1.1329 - val_accuracy: 0.8583\n",
      "Epoch 16/30\n",
      "49/49 [==============================] - 1s 24ms/step - loss: 2.6292e-04 - accuracy: 1.0000 - val_loss: 1.2605 - val_accuracy: 0.8584\n",
      "Epoch 17/30\n",
      "49/49 [==============================] - 1s 24ms/step - loss: 9.1531e-05 - accuracy: 1.0000 - val_loss: 1.5199 - val_accuracy: 0.8564\n",
      "Epoch 18/30\n",
      "49/49 [==============================] - 1s 24ms/step - loss: 0.0557 - accuracy: 0.9934 - val_loss: 1.6305 - val_accuracy: 0.8554\n",
      "Epoch 19/30\n",
      "49/49 [==============================] - 1s 24ms/step - loss: 0.0417 - accuracy: 0.9943 - val_loss: 1.4866 - val_accuracy: 0.8482\n",
      "Epoch 20/30\n",
      "49/49 [==============================] - 1s 25ms/step - loss: 1.9646e-04 - accuracy: 1.0000 - val_loss: 1.4464 - val_accuracy: 0.8563\n",
      "Epoch 21/30\n",
      "49/49 [==============================] - 1s 26ms/step - loss: 3.5367e-05 - accuracy: 1.0000 - val_loss: 1.5437 - val_accuracy: 0.8562\n",
      "Epoch 22/30\n",
      "49/49 [==============================] - 1s 25ms/step - loss: 1.1846e-05 - accuracy: 1.0000 - val_loss: 1.7550 - val_accuracy: 0.8562\n",
      "Epoch 23/30\n",
      "49/49 [==============================] - 1s 24ms/step - loss: 0.0575 - accuracy: 0.9940 - val_loss: 1.9082 - val_accuracy: 0.8461\n",
      "Epoch 24/30\n",
      "49/49 [==============================] - 1s 25ms/step - loss: 2.7254e-04 - accuracy: 1.0000 - val_loss: 1.8796 - val_accuracy: 0.8512\n",
      "Epoch 25/30\n",
      "49/49 [==============================] - 1s 24ms/step - loss: 0.0415 - accuracy: 0.9950 - val_loss: 1.9207 - val_accuracy: 0.8369\n",
      "Epoch 26/30\n",
      "49/49 [==============================] - 1s 24ms/step - loss: 2.1040e-04 - accuracy: 1.0000 - val_loss: 1.8106 - val_accuracy: 0.8527\n",
      "Epoch 27/30\n",
      "49/49 [==============================] - 1s 24ms/step - loss: 0.0254 - accuracy: 0.9959 - val_loss: 1.7254 - val_accuracy: 0.8494\n",
      "Epoch 28/30\n",
      "49/49 [==============================] - 1s 24ms/step - loss: 0.0249 - accuracy: 0.9961 - val_loss: 1.6839 - val_accuracy: 0.8494\n",
      "Epoch 29/30\n",
      "49/49 [==============================] - 1s 25ms/step - loss: 2.2513e-04 - accuracy: 1.0000 - val_loss: 1.7183 - val_accuracy: 0.8514\n",
      "Epoch 30/30\n",
      "49/49 [==============================] - 1s 24ms/step - loss: 1.6805e-05 - accuracy: 1.0000 - val_loss: 1.8277 - val_accuracy: 0.8530\n"
     ]
    }
   ],
   "source": [
    "history = model.fit(x_train,\n",
    "                    y_train,\n",
    "                    epochs          = epochs,\n",
    "                    batch_size      = batch_size,\n",
    "                    validation_data = (x_test, y_test),\n",
    "                    verbose         = fit_verbosity,\n",
    "                    callbacks       = [savemodel_callback])"
   ]
  },
  {
   "cell_type": "markdown",
   "id": "c2aac3cc",
   "metadata": {},
   "source": [
    "## Step 8 - Evaluate\n",
    "### 8.1 - Training history"
   ]
  },
  {
   "cell_type": "code",
   "execution_count": 23,
   "id": "28624e26",
   "metadata": {},
   "outputs": [
    {
     "data": {
      "text/html": [
       "<div>\n",
       "<style scoped>\n",
       "    .dataframe tbody tr th:only-of-type {\n",
       "        vertical-align: middle;\n",
       "    }\n",
       "\n",
       "    .dataframe tbody tr th {\n",
       "        vertical-align: top;\n",
       "    }\n",
       "\n",
       "    .dataframe thead th {\n",
       "        text-align: right;\n",
       "    }\n",
       "</style>\n",
       "<table border=\"1\" class=\"dataframe\">\n",
       "  <thead>\n",
       "    <tr style=\"text-align: right;\">\n",
       "      <th></th>\n",
       "      <th>loss</th>\n",
       "      <th>accuracy</th>\n",
       "      <th>val_loss</th>\n",
       "      <th>val_accuracy</th>\n",
       "    </tr>\n",
       "  </thead>\n",
       "  <tbody>\n",
       "    <tr>\n",
       "      <th>0</th>\n",
       "      <td>0.432607</td>\n",
       "      <td>0.80672</td>\n",
       "      <td>0.341760</td>\n",
       "      <td>0.85720</td>\n",
       "    </tr>\n",
       "    <tr>\n",
       "      <th>1</th>\n",
       "      <td>0.234647</td>\n",
       "      <td>0.90792</td>\n",
       "      <td>0.305336</td>\n",
       "      <td>0.87720</td>\n",
       "    </tr>\n",
       "    <tr>\n",
       "      <th>2</th>\n",
       "      <td>0.188070</td>\n",
       "      <td>0.92852</td>\n",
       "      <td>0.302126</td>\n",
       "      <td>0.87996</td>\n",
       "    </tr>\n",
       "    <tr>\n",
       "      <th>3</th>\n",
       "      <td>0.148432</td>\n",
       "      <td>0.94288</td>\n",
       "      <td>0.332657</td>\n",
       "      <td>0.87760</td>\n",
       "    </tr>\n",
       "    <tr>\n",
       "      <th>4</th>\n",
       "      <td>0.123646</td>\n",
       "      <td>0.95220</td>\n",
       "      <td>0.385913</td>\n",
       "      <td>0.86128</td>\n",
       "    </tr>\n",
       "    <tr>\n",
       "      <th>5</th>\n",
       "      <td>0.087662</td>\n",
       "      <td>0.96880</td>\n",
       "      <td>0.437657</td>\n",
       "      <td>0.86936</td>\n",
       "    </tr>\n",
       "    <tr>\n",
       "      <th>6</th>\n",
       "      <td>0.072466</td>\n",
       "      <td>0.97396</td>\n",
       "      <td>0.491294</td>\n",
       "      <td>0.86652</td>\n",
       "    </tr>\n",
       "    <tr>\n",
       "      <th>7</th>\n",
       "      <td>0.059732</td>\n",
       "      <td>0.98092</td>\n",
       "      <td>0.855399</td>\n",
       "      <td>0.81780</td>\n",
       "    </tr>\n",
       "    <tr>\n",
       "      <th>8</th>\n",
       "      <td>0.044373</td>\n",
       "      <td>0.98676</td>\n",
       "      <td>0.627858</td>\n",
       "      <td>0.86364</td>\n",
       "    </tr>\n",
       "    <tr>\n",
       "      <th>9</th>\n",
       "      <td>0.036707</td>\n",
       "      <td>0.98952</td>\n",
       "      <td>0.694576</td>\n",
       "      <td>0.86160</td>\n",
       "    </tr>\n",
       "    <tr>\n",
       "      <th>10</th>\n",
       "      <td>0.038909</td>\n",
       "      <td>0.99124</td>\n",
       "      <td>0.743599</td>\n",
       "      <td>0.85992</td>\n",
       "    </tr>\n",
       "    <tr>\n",
       "      <th>11</th>\n",
       "      <td>0.004423</td>\n",
       "      <td>0.99876</td>\n",
       "      <td>0.946958</td>\n",
       "      <td>0.85844</td>\n",
       "    </tr>\n",
       "    <tr>\n",
       "      <th>12</th>\n",
       "      <td>0.039996</td>\n",
       "      <td>0.99240</td>\n",
       "      <td>0.944062</td>\n",
       "      <td>0.85940</td>\n",
       "    </tr>\n",
       "    <tr>\n",
       "      <th>13</th>\n",
       "      <td>0.001087</td>\n",
       "      <td>0.99992</td>\n",
       "      <td>1.137801</td>\n",
       "      <td>0.85872</td>\n",
       "    </tr>\n",
       "    <tr>\n",
       "      <th>14</th>\n",
       "      <td>0.038095</td>\n",
       "      <td>0.99456</td>\n",
       "      <td>1.132919</td>\n",
       "      <td>0.85828</td>\n",
       "    </tr>\n",
       "    <tr>\n",
       "      <th>15</th>\n",
       "      <td>0.000263</td>\n",
       "      <td>1.00000</td>\n",
       "      <td>1.260476</td>\n",
       "      <td>0.85844</td>\n",
       "    </tr>\n",
       "    <tr>\n",
       "      <th>16</th>\n",
       "      <td>0.000092</td>\n",
       "      <td>1.00000</td>\n",
       "      <td>1.519859</td>\n",
       "      <td>0.85640</td>\n",
       "    </tr>\n",
       "    <tr>\n",
       "      <th>17</th>\n",
       "      <td>0.055729</td>\n",
       "      <td>0.99344</td>\n",
       "      <td>1.630498</td>\n",
       "      <td>0.85536</td>\n",
       "    </tr>\n",
       "    <tr>\n",
       "      <th>18</th>\n",
       "      <td>0.041655</td>\n",
       "      <td>0.99428</td>\n",
       "      <td>1.486557</td>\n",
       "      <td>0.84824</td>\n",
       "    </tr>\n",
       "    <tr>\n",
       "      <th>19</th>\n",
       "      <td>0.000196</td>\n",
       "      <td>1.00000</td>\n",
       "      <td>1.446442</td>\n",
       "      <td>0.85632</td>\n",
       "    </tr>\n",
       "    <tr>\n",
       "      <th>20</th>\n",
       "      <td>0.000035</td>\n",
       "      <td>1.00000</td>\n",
       "      <td>1.543748</td>\n",
       "      <td>0.85620</td>\n",
       "    </tr>\n",
       "    <tr>\n",
       "      <th>21</th>\n",
       "      <td>0.000012</td>\n",
       "      <td>1.00000</td>\n",
       "      <td>1.754972</td>\n",
       "      <td>0.85624</td>\n",
       "    </tr>\n",
       "    <tr>\n",
       "      <th>22</th>\n",
       "      <td>0.057497</td>\n",
       "      <td>0.99404</td>\n",
       "      <td>1.908151</td>\n",
       "      <td>0.84612</td>\n",
       "    </tr>\n",
       "    <tr>\n",
       "      <th>23</th>\n",
       "      <td>0.000273</td>\n",
       "      <td>0.99996</td>\n",
       "      <td>1.879588</td>\n",
       "      <td>0.85116</td>\n",
       "    </tr>\n",
       "    <tr>\n",
       "      <th>24</th>\n",
       "      <td>0.041519</td>\n",
       "      <td>0.99504</td>\n",
       "      <td>1.920669</td>\n",
       "      <td>0.83692</td>\n",
       "    </tr>\n",
       "    <tr>\n",
       "      <th>25</th>\n",
       "      <td>0.000210</td>\n",
       "      <td>1.00000</td>\n",
       "      <td>1.810629</td>\n",
       "      <td>0.85268</td>\n",
       "    </tr>\n",
       "    <tr>\n",
       "      <th>26</th>\n",
       "      <td>0.025371</td>\n",
       "      <td>0.99588</td>\n",
       "      <td>1.725402</td>\n",
       "      <td>0.84936</td>\n",
       "    </tr>\n",
       "    <tr>\n",
       "      <th>27</th>\n",
       "      <td>0.024943</td>\n",
       "      <td>0.99608</td>\n",
       "      <td>1.683919</td>\n",
       "      <td>0.84936</td>\n",
       "    </tr>\n",
       "    <tr>\n",
       "      <th>28</th>\n",
       "      <td>0.000225</td>\n",
       "      <td>0.99996</td>\n",
       "      <td>1.718332</td>\n",
       "      <td>0.85136</td>\n",
       "    </tr>\n",
       "    <tr>\n",
       "      <th>29</th>\n",
       "      <td>0.000017</td>\n",
       "      <td>1.00000</td>\n",
       "      <td>1.827726</td>\n",
       "      <td>0.85304</td>\n",
       "    </tr>\n",
       "  </tbody>\n",
       "</table>\n",
       "</div>"
      ],
      "text/plain": [
       "        loss  accuracy  val_loss  val_accuracy\n",
       "0   0.432607   0.80672  0.341760       0.85720\n",
       "1   0.234647   0.90792  0.305336       0.87720\n",
       "2   0.188070   0.92852  0.302126       0.87996\n",
       "3   0.148432   0.94288  0.332657       0.87760\n",
       "4   0.123646   0.95220  0.385913       0.86128\n",
       "5   0.087662   0.96880  0.437657       0.86936\n",
       "6   0.072466   0.97396  0.491294       0.86652\n",
       "7   0.059732   0.98092  0.855399       0.81780\n",
       "8   0.044373   0.98676  0.627858       0.86364\n",
       "9   0.036707   0.98952  0.694576       0.86160\n",
       "10  0.038909   0.99124  0.743599       0.85992\n",
       "11  0.004423   0.99876  0.946958       0.85844\n",
       "12  0.039996   0.99240  0.944062       0.85940\n",
       "13  0.001087   0.99992  1.137801       0.85872\n",
       "14  0.038095   0.99456  1.132919       0.85828\n",
       "15  0.000263   1.00000  1.260476       0.85844\n",
       "16  0.000092   1.00000  1.519859       0.85640\n",
       "17  0.055729   0.99344  1.630498       0.85536\n",
       "18  0.041655   0.99428  1.486557       0.84824\n",
       "19  0.000196   1.00000  1.446442       0.85632\n",
       "20  0.000035   1.00000  1.543748       0.85620\n",
       "21  0.000012   1.00000  1.754972       0.85624\n",
       "22  0.057497   0.99404  1.908151       0.84612\n",
       "23  0.000273   0.99996  1.879588       0.85116\n",
       "24  0.041519   0.99504  1.920669       0.83692\n",
       "25  0.000210   1.00000  1.810629       0.85268\n",
       "26  0.025371   0.99588  1.725402       0.84936\n",
       "27  0.024943   0.99608  1.683919       0.84936\n",
       "28  0.000225   0.99996  1.718332       0.85136\n",
       "29  0.000017   1.00000  1.827726       0.85304"
      ]
     },
     "metadata": {},
     "output_type": "display_data"
    }
   ],
   "source": [
    "df=pd.DataFrame(data=history.history)\n",
    "display(df)"
   ]
  },
  {
   "cell_type": "code",
   "execution_count": 24,
   "id": "b728a705",
   "metadata": {},
   "outputs": [
    {
     "data": {
      "text/plain": [
       "<matplotlib.legend.Legend at 0xe5926cbeb0>"
      ]
     },
     "execution_count": 24,
     "metadata": {},
     "output_type": "execute_result"
    },
    {
     "data": {
      "image/png": "[encoded data removed]",
      "text/plain": [
       "<Figure size 432x288 with 1 Axes>"
      ]
     },
     "metadata": {
      "needs_background": "light"
     },
     "output_type": "display_data"
    }
   ],
   "source": [
    "plt.figure()\n",
    "plt.plot(df['accuracy'],label='train_accuracy')\n",
    "plt.plot(df['val_accuracy'],label='val_accuracy')\n",
    "plt.title(\"Accuracy\")\n",
    "plt.xlabel('N_epoch')\n",
    "plt.ylabel('Accuracy')\n",
    "plt.legend()"
   ]
  },
  {
   "cell_type": "code",
   "execution_count": 25,
   "id": "47aabe84",
   "metadata": {},
   "outputs": [
    {
     "data": {
      "text/plain": [
       "<matplotlib.legend.Legend at 0xe5923b8940>"
      ]
     },
     "execution_count": 25,
     "metadata": {},
     "output_type": "execute_result"
    },
    {
     "data": {
      "image/png": "[encoded data removed]",
      "text/plain": [
       "<Figure size 432x288 with 1 Axes>"
      ]
     },
     "metadata": {
      "needs_background": "light"
     },
     "output_type": "display_data"
    }
   ],
   "source": [
    "plt.figure()\n",
    "plt.plot(df['loss'],label='train_loss')\n",
    "plt.plot(df['val_loss'],label='val_loss')\n",
    "plt.title(\"Loss\")\n",
    "plt.xlabel('N_epoch')\n",
    "plt.ylabel('Loss')\n",
    "plt.legend()"
   ]
  },
  {
   "cell_type": "markdown",
   "id": "4c7df0db",
   "metadata": {},
   "source": [
    "## Step 8 - Evaluate\n",
    "### 8.1 - Training history"
   ]
  },
  {
   "cell_type": "markdown",
   "id": "3db37966",
   "metadata": {},
   "source": [
    "### 8.2 - Reload and evaluate best model"
   ]
  },
  {
   "cell_type": "code",
   "execution_count": 26,
   "id": "2a7ce8f2",
   "metadata": {},
   "outputs": [],
   "source": [
    "def plot_donut(values, labels, colors=[\"lightsteelblue\",\"coral\"], figsize=(6,6), title=None):\n",
    "    \"\"\"\n",
    "    Draw a donut\n",
    "    args:\n",
    "        values   : list of values\n",
    "        labels   : list of labels\n",
    "        colors   : list of color ([\"lightsteelblue\",\"coral\"])\n",
    "        figsize  : size of figure ( (6,6) )\n",
    "    return:\n",
    "        nothing\n",
    "    \"\"\"\n",
    "    # ---- Title or not\n",
    "    if title != None :  display(Markdown(title))\n",
    "    # ---- Donut\n",
    "    plt.figure(figsize=figsize)\n",
    "    # ---- Draw a pie  chart..\n",
    "    plt.pie(values, labels=labels, \n",
    "            colors = colors, autopct='%1.1f%%', startangle=70, pctdistance=0.85,\n",
    "            textprops={'fontsize': 18},\n",
    "            wedgeprops={\"edgecolor\":\"w\",'linewidth': 5, 'linestyle': 'solid', 'antialiased': True})\n",
    "    # ---- ..with a white circle\n",
    "    circle = plt.Circle((0,0),0.70,fc='white')\n",
    "    ax = plt.gca()\n",
    "    ax.add_artist(circle)\n",
    "    # Equal aspect ratio ensures that pie is drawn as a circle\n",
    "    plt.axis('equal')  \n",
    "    plt.tight_layout()\n",
    "    plt.show()"
   ]
  },
  {
   "cell_type": "code",
   "execution_count": 27,
   "id": "58a380b4",
   "metadata": {},
   "outputs": [
    {
     "name": "stdout",
     "output_type": "stream",
     "text": [
      "x_test / loss      : 0.3021\n",
      "x_test / accuracy  : 0.8800\n"
     ]
    },
    {
     "data": {
      "text/markdown": [
       "#### Accuracy donut is :"
      ],
      "text/plain": [
       "<IPython.core.display.Markdown object>"
      ]
     },
     "metadata": {},
     "output_type": "display_data"
    },
    {
     "data": {
      "image/png": "[encoded data removed]",
      "text/plain": [
       "<Figure size 432x432 with 1 Axes>"
      ]
     },
     "metadata": {},
     "output_type": "display_data"
    }
   ],
   "source": [
    "model = keras.models.load_model(f'{run_dir}/models/best_model.h5')\n",
    "\n",
    "# ---- Evaluate\n",
    "score  = model.evaluate(x_test, y_test, verbose=0)\n",
    "\n",
    "print('x_test / loss      : {:5.4f}'.format(score[0]))\n",
    "print('x_test / accuracy  : {:5.4f}'.format(score[1]))\n",
    "\n",
    "values=[score[1], 1-score[1]]\n",
    "plot_donut(values,[\"Accuracy\",\"Errors\"], title=\"#### Accuracy donut is :\")\n",
    "\n",
    "# ---- Confusion matrix\n",
    "\n",
    "y_sigmoid = model.predict(x_test)\n",
    "\n",
    "y_pred = y_sigmoid.copy()\n",
    "y_pred[ y_sigmoid< 0.5 ] = 0\n",
    "y_pred[ y_sigmoid>=0.5 ] = 1  "
   ]
  },
  {
   "cell_type": "code",
   "execution_count": null,
   "id": "4741ab96",
   "metadata": {},
   "outputs": [],
   "source": []
  }
 ],
 "metadata": {
  "kernelspec": {
   "display_name": "Python 3 (ipykernel)",
   "language": "python",
   "name": "python3"
  },
  "language_info": {
   "codemirror_mode": {
    "name": "ipython",
    "version": 3
   },
   "file_extension": ".py",
   "mimetype": "text/x-python",
   "name": "python",
   "nbconvert_exporter": "python",
   "pygments_lexer": "ipython3",
   "version": "3.9.7"
  }
 },
 "nbformat": 4,
 "nbformat_minor": 5
}
